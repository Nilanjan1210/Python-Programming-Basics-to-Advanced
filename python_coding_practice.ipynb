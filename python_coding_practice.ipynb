{
  "nbformat": 4,
  "nbformat_minor": 0,
  "metadata": {
    "colab": {
      "provenance": [],
      "authorship_tag": "ABX9TyNq9JAYzasA2DmEFVSIyeST",
      "include_colab_link": true
    },
    "kernelspec": {
      "name": "python3",
      "display_name": "Python 3"
    },
    "language_info": {
      "name": "python"
    }
  },
  "cells": [
    {
      "cell_type": "markdown",
      "metadata": {
        "id": "view-in-github",
        "colab_type": "text"
      },
      "source": [
        "<a href=\"https://colab.research.google.com/github/Nilanjan1210/Python-Programming-Basics-to-Advanced/blob/main/python_coding_practice.ipynb\" target=\"_parent\"><img src=\"https://colab.research.google.com/assets/colab-badge.svg\" alt=\"Open In Colab\"/></a>"
      ]
    },
    {
      "cell_type": "markdown",
      "source": [
        "# 1. CONVERT CELSIUS TO FAHRENHEIT"
      ],
      "metadata": {
        "id": "2pDBqg3uuYou"
      }
    },
    {
      "cell_type": "code",
      "execution_count": 1,
      "metadata": {
        "colab": {
          "base_uri": "https://localhost:8080/"
        },
        "id": "pU95RpMHtZwL",
        "outputId": "da9d45dd-3302-451e-d9e2-0bf583b0de0f"
      },
      "outputs": [
        {
          "output_type": "stream",
          "name": "stdout",
          "text": [
            "98.6 F\n"
          ]
        }
      ],
      "source": [
        "def  celsius_to_fahrenheit(celsius):\n",
        "  return (celsius * 9/5) + 32\n",
        "print(celsius_to_fahrenheit(37),\"F\")"
      ]
    },
    {
      "cell_type": "markdown",
      "source": [
        "# 2. SWAP TWO VARIABLES"
      ],
      "metadata": {
        "id": "T1W8fC7_x1rR"
      }
    },
    {
      "cell_type": "code",
      "source": [
        "# Without using a temporary variable.\n",
        "def swap_variables(a, b):\n",
        "    return b, a\n",
        "a = 10\n",
        "b = 20\n",
        "a, b = swap_variables(a, b)\n",
        "print(a, b)"
      ],
      "metadata": {
        "colab": {
          "base_uri": "https://localhost:8080/"
        },
        "id": "5v8lcIkwx7Oi",
        "outputId": "95a03a5f-3a9c-4e26-fed7-fea06aad482c"
      },
      "execution_count": 2,
      "outputs": [
        {
          "output_type": "stream",
          "name": "stdout",
          "text": [
            "20 10\n"
          ]
        }
      ]
    },
    {
      "cell_type": "markdown",
      "source": [
        "# 3. TRANSPOSE OF A MATRIX"
      ],
      "metadata": {
        "id": "6zZTLvR4x8Te"
      }
    },
    {
      "cell_type": "code",
      "source": [
        "def traspose_matrix(matrix):\n",
        "  return list(map(list, zip(*matrix)))\n",
        "matrix = [[1, 2, 3], [4, 5, 6], [7, 8, 9]]\n",
        "print(matrix)\n",
        "print(traspose_matrix(matrix))"
      ],
      "metadata": {
        "colab": {
          "base_uri": "https://localhost:8080/"
        },
        "id": "cl8z5xI9x8En",
        "outputId": "601423a0-6ed8-43d3-ed20-9b7e0e5804d1"
      },
      "execution_count": 3,
      "outputs": [
        {
          "output_type": "stream",
          "name": "stdout",
          "text": [
            "[[1, 2, 3], [4, 5, 6], [7, 8, 9]]\n",
            "[[1, 4, 7], [2, 5, 8], [3, 6, 9]]\n"
          ]
        }
      ]
    },
    {
      "cell_type": "markdown",
      "source": [
        "# 4. CAPITALIZE A STRING"
      ],
      "metadata": {
        "id": "1JzMkE7n2aZS"
      }
    },
    {
      "cell_type": "code",
      "source": [
        "def capitalize_string(string):\n",
        "  return string[0].upper() + string[1:]\n",
        "string = \"hello world\"\n",
        "print(capitalize_string(string))"
      ],
      "metadata": {
        "colab": {
          "base_uri": "https://localhost:8080/"
        },
        "id": "io2aTxw02Z39",
        "outputId": "f01caf30-90ef-40b5-9c2c-8c1ee2161510"
      },
      "execution_count": 4,
      "outputs": [
        {
          "output_type": "stream",
          "name": "stdout",
          "text": [
            "Hello world\n"
          ]
        }
      ]
    },
    {
      "cell_type": "code",
      "source": [
        "def capitalize_string(string):\n",
        "  return string.title()\n",
        "string = \"hello world\"\n",
        "print(capitalize_string(string))"
      ],
      "metadata": {
        "colab": {
          "base_uri": "https://localhost:8080/"
        },
        "id": "rWUWwZAB2wDH",
        "outputId": "cdea4643-b0fb-4738-b299-7a3d93cdd49b"
      },
      "execution_count": 5,
      "outputs": [
        {
          "output_type": "stream",
          "name": "stdout",
          "text": [
            "Hello World\n"
          ]
        }
      ]
    },
    {
      "cell_type": "markdown",
      "source": [
        "# 5. FIND THE FRECUENCY OF CHARACTER IN A STRING"
      ],
      "metadata": {
        "id": "hxsqh2bk3IPu"
      }
    },
    {
      "cell_type": "code",
      "source": [
        "def character_frequency(string):\n",
        "  # frequency = {}\n",
        "  # for char in string:\n",
        "  #   if char in frequency:\n",
        "  #     frequency[char] += 1\n",
        "  #   else:\n",
        "  #     frequency[char] = 1\n",
        "  # return frequency\n",
        "  return {char: string.count(char) for char in string}\n",
        "string = \"hello world\"\n",
        "print(character_frequency(string))"
      ],
      "metadata": {
        "colab": {
          "base_uri": "https://localhost:8080/"
        },
        "id": "DSL7wlP_2Z1r",
        "outputId": "6d39b515-cada-4b08-a5d8-817fef71d79a"
      },
      "execution_count": 6,
      "outputs": [
        {
          "output_type": "stream",
          "name": "stdout",
          "text": [
            "{'h': 1, 'e': 1, 'l': 3, 'o': 2, ' ': 1, 'w': 1, 'r': 1, 'd': 1}\n"
          ]
        }
      ]
    },
    {
      "cell_type": "markdown",
      "source": [
        "# 6. CHECK IF A NUMBER IS EVEN OR ODD"
      ],
      "metadata": {
        "id": "7OfUcaLD3yfd"
      }
    },
    {
      "cell_type": "code",
      "source": [
        "def is_even(number):\n",
        "  return number % 2 == 0\n",
        "print(is_even(2))\n",
        "print(is_even(3))"
      ],
      "metadata": {
        "colab": {
          "base_uri": "https://localhost:8080/"
        },
        "id": "qsttvMDH2Zy-",
        "outputId": "f46ac997-0cf3-4b33-a9bc-081746dd998a"
      },
      "execution_count": 7,
      "outputs": [
        {
          "output_type": "stream",
          "name": "stdout",
          "text": [
            "True\n",
            "False\n"
          ]
        }
      ]
    },
    {
      "cell_type": "markdown",
      "source": [
        "# 7.  SIMPLE SUM"
      ],
      "metadata": {
        "id": "qHHoX7Jm4GJM"
      }
    },
    {
      "cell_type": "code",
      "source": [
        "def addition(a,b):\n",
        "  return a+b\n",
        "print(addition(1,2))"
      ],
      "metadata": {
        "colab": {
          "base_uri": "https://localhost:8080/"
        },
        "id": "p_fYDQFv2Zwj",
        "outputId": "b20a1093-bc2e-44b1-d61b-cfc6464e27f6"
      },
      "execution_count": 8,
      "outputs": [
        {
          "output_type": "stream",
          "name": "stdout",
          "text": [
            "3\n"
          ]
        }
      ]
    },
    {
      "cell_type": "markdown",
      "source": [
        "# 8. PYRAMID PATTERN"
      ],
      "metadata": {
        "id": "Kk2qDD454Z-K"
      }
    },
    {
      "cell_type": "code",
      "source": [
        "def create_pyramid(n):\n",
        "  for i in range(1, n+1):\n",
        "    print(\" \" * (n-i) + \"*\" * (2*i-1))\n",
        "create_pyramid(5)"
      ],
      "metadata": {
        "colab": {
          "base_uri": "https://localhost:8080/"
        },
        "id": "NsU1Gst72Zt7",
        "outputId": "2e6953f2-16ca-49b9-9d9c-ab47c1b63093"
      },
      "execution_count": 9,
      "outputs": [
        {
          "output_type": "stream",
          "name": "stdout",
          "text": [
            "    *\n",
            "   ***\n",
            "  *****\n",
            " *******\n",
            "*********\n"
          ]
        }
      ]
    },
    {
      "cell_type": "markdown",
      "source": [
        "# 9. REVERSE A STRING"
      ],
      "metadata": {
        "id": "rj0J_AIn4ve5"
      }
    },
    {
      "cell_type": "code",
      "source": [
        "def reverse(string):\n",
        "  return string[::-1]\n",
        "print(reverse(\"Nilanjan\"))"
      ],
      "metadata": {
        "colab": {
          "base_uri": "https://localhost:8080/"
        },
        "id": "J3vCB3Qd2Zrc",
        "outputId": "cc01d4dc-528f-4b35-d7e0-69d68f7fb33e"
      },
      "execution_count": 10,
      "outputs": [
        {
          "output_type": "stream",
          "name": "stdout",
          "text": [
            "najnaliN\n"
          ]
        }
      ]
    },
    {
      "cell_type": "markdown",
      "source": [
        "# 10. CHECK IF ARRAY IS EMPTY"
      ],
      "metadata": {
        "id": "7UkB6Npx4821"
      }
    },
    {
      "cell_type": "code",
      "source": [
        "def is_empty(arr):\n",
        "  return len(arr) == 0 and isinstance(arr, list) # To check it is array and not empty\n",
        "array = [1,2,3]\n",
        "print(is_empty(array))\n",
        "arr_str = \"Nilanjan\"\n",
        "print(is_empty(arr_str))"
      ],
      "metadata": {
        "colab": {
          "base_uri": "https://localhost:8080/"
        },
        "id": "Zt2MkC4U48ig",
        "outputId": "a1f82f06-aef8-4bcd-e380-26580920cd9f"
      },
      "execution_count": 11,
      "outputs": [
        {
          "output_type": "stream",
          "name": "stdout",
          "text": [
            "False\n",
            "False\n"
          ]
        }
      ]
    },
    {
      "cell_type": "markdown",
      "source": [
        "# 11. SHUFFLE AN ARRAY"
      ],
      "metadata": {
        "id": "4aoL-KjL6BLA"
      }
    },
    {
      "cell_type": "code",
      "source": [
        "import random"
      ],
      "metadata": {
        "id": "NxhYQFp22Zo1"
      },
      "execution_count": 12,
      "outputs": []
    },
    {
      "cell_type": "code",
      "source": [
        "def suffle_array(arr):\n",
        "  random.shuffle(arr)\n",
        "  return arr\n",
        "array = [1,2,3,4,5,6,7,8,9]\n",
        "print(suffle_array(array))"
      ],
      "metadata": {
        "colab": {
          "base_uri": "https://localhost:8080/"
        },
        "id": "3SBFXy7m2Zmg",
        "outputId": "96ba4f7c-0208-44b6-f71b-485958e96716"
      },
      "execution_count": 13,
      "outputs": [
        {
          "output_type": "stream",
          "name": "stdout",
          "text": [
            "[4, 6, 9, 3, 5, 8, 1, 7, 2]\n"
          ]
        }
      ]
    },
    {
      "cell_type": "markdown",
      "source": [
        "# 12. COUNT TRUE VALUES IN BOOLEAN ARRAY"
      ],
      "metadata": {
        "id": "sVRWh2E46SYu"
      }
    },
    {
      "cell_type": "code",
      "source": [
        "def count_true(arr):\n",
        "  return sum(arr)\n",
        "array = [True, False, True, True, False]\n",
        "print(\"Number of true values:\",count_true(array))"
      ],
      "metadata": {
        "colab": {
          "base_uri": "https://localhost:8080/"
        },
        "id": "l0ZZHOSH2Zjx",
        "outputId": "ada67e80-8e63-4f0b-97a3-d6a8ba23b77d"
      },
      "execution_count": 14,
      "outputs": [
        {
          "output_type": "stream",
          "name": "stdout",
          "text": [
            "Number of true values: 3\n"
          ]
        }
      ]
    },
    {
      "cell_type": "markdown",
      "source": [
        "# 13. GET THE LENGTH OF A STRING"
      ],
      "metadata": {
        "id": "PJ0YjFiN6_GA"
      }
    },
    {
      "cell_type": "code",
      "source": [
        "def get_length(string):\n",
        "  return len(string)\n",
        "string = \"Nilanjan\"\n",
        "print(get_length(string))"
      ],
      "metadata": {
        "colab": {
          "base_uri": "https://localhost:8080/"
        },
        "id": "XLac6IhQ2Zhf",
        "outputId": "5a26291f-5c23-4b56-b038-a3733713d51a"
      },
      "execution_count": 15,
      "outputs": [
        {
          "output_type": "stream",
          "name": "stdout",
          "text": [
            "8\n"
          ]
        }
      ]
    },
    {
      "cell_type": "markdown",
      "source": [
        "# 14. CALCULATE THE AREA OF A CIRCLE"
      ],
      "metadata": {
        "id": "GDJQxemx7PJj"
      }
    },
    {
      "cell_type": "code",
      "source": [
        "import math\n",
        "def calculate_circle_area(radius):\n",
        "  return round(math.pi * radius**2,4)\n",
        "print(calculate_circle_area(5))"
      ],
      "metadata": {
        "colab": {
          "base_uri": "https://localhost:8080/"
        },
        "id": "aINLAvc_2ZfA",
        "outputId": "5bfe8105-4d64-406b-88d0-3c8e55642117"
      },
      "execution_count": 16,
      "outputs": [
        {
          "output_type": "stream",
          "name": "stdout",
          "text": [
            "78.5398\n"
          ]
        }
      ]
    },
    {
      "cell_type": "markdown",
      "source": [
        "# 15. MOVE CAPITAL LETTERS TO FRONT\n",
        "\n",
        "\n",
        "moves all\n",
        " capital letters in a word to the front of the\n",
        " word, preserving their original order, and\n",
        " followed by the lowercase letters"
      ],
      "metadata": {
        "id": "qNrx-pvd71h5"
      }
    },
    {
      "cell_type": "code",
      "source": [
        "def cap_to_front(string):\n",
        "  # capital_letters = \"\"\n",
        "  # non_capital_letters = \"\"\n",
        "  # for char in string:\n",
        "  #   if char.isupper():\n",
        "  #     capital_letters += char\n",
        "  #   else:\n",
        "  #     non_capital_letters += char\n",
        "  # return capital_letters + non_capital_letters\n",
        "  return \"\".join([char for char in string if char.isupper()] + [char for char in string if char.islower()])\n",
        "string = \"MoveCaptitalLettersToFront\"\n",
        "print(cap_to_front(string))"
      ],
      "metadata": {
        "colab": {
          "base_uri": "https://localhost:8080/"
        },
        "id": "VriPK0x97yXW",
        "outputId": "9d0ac5f1-224b-471a-d66f-aedbd20241c8"
      },
      "execution_count": 17,
      "outputs": [
        {
          "output_type": "stream",
          "name": "stdout",
          "text": [
            "MCLTFoveaptitalettersoront\n"
          ]
        }
      ]
    },
    {
      "cell_type": "markdown",
      "source": [
        "# 16. CHECK IF AN ARRAY IS SPECIAL\n",
        "\n",
        " An array is special, where every\n",
        " even index contains an even number and\n",
        " every odd index contains an odd number."
      ],
      "metadata": {
        "id": "BwYJBJ2E8amp"
      }
    },
    {
      "cell_type": "code",
      "source": [
        "def is_special(arr):\n",
        "  for i in range(len(arr)):\n",
        "    if i % 2 == 0 and arr[i] % 2 != 0:\n",
        "      return False\n",
        "  return True\n",
        "arr = [0, 1, 2, 3, 4, 5]\n",
        "print(is_special(arr))\n",
        "arr2 = [2, 3, 6, 8, 9]\n",
        "print(is_special(arr2))"
      ],
      "metadata": {
        "colab": {
          "base_uri": "https://localhost:8080/"
        },
        "id": "Myamwz997ntY",
        "outputId": "1a8b0dd6-4c86-41a9-b5f9-04abd348b6b6"
      },
      "execution_count": 18,
      "outputs": [
        {
          "output_type": "stream",
          "name": "stdout",
          "text": [
            "True\n",
            "False\n"
          ]
        }
      ]
    },
    {
      "cell_type": "markdown",
      "source": [
        "# 17. VALIDATE NUMBER WITHIN BOUNDS\n",
        "\n",
        " a number *n* is exclusively within\n",
        " the bounds of lower and upper"
      ],
      "metadata": {
        "id": "LcyP5hbi9rkJ"
      }
    },
    {
      "cell_type": "code",
      "source": [
        "def within_bounds(n, lower, upper):\n",
        "  return n >= lower and n < upper\n",
        "print(within_bounds(5, 1, 10))\n",
        "print(within_bounds(15, 1, 10))"
      ],
      "metadata": {
        "colab": {
          "base_uri": "https://localhost:8080/"
        },
        "id": "rUEMqPEm7npv",
        "outputId": "99ba81ed-4cc2-45e0-c6ce-685d95649c48"
      },
      "execution_count": 19,
      "outputs": [
        {
          "output_type": "stream",
          "name": "stdout",
          "text": [
            "True\n",
            "False\n"
          ]
        }
      ]
    },
    {
      "cell_type": "markdown",
      "source": [
        "# 18. GENERATE A RANDOM NUMBER WITHIN A RANGE"
      ],
      "metadata": {
        "id": "p71zXAZv-nxC"
      }
    },
    {
      "cell_type": "code",
      "source": [
        "import random\n",
        "def random_number(lower, upper):\n",
        "  return random.randint(lower, upper)\n",
        "print(random_number(1, 10))"
      ],
      "metadata": {
        "colab": {
          "base_uri": "https://localhost:8080/"
        },
        "id": "xaeAosQl7nnI",
        "outputId": "467b9028-2365-4b81-c644-6d593cfc657c"
      },
      "execution_count": 20,
      "outputs": [
        {
          "output_type": "stream",
          "name": "stdout",
          "text": [
            "6\n"
          ]
        }
      ]
    },
    {
      "cell_type": "markdown",
      "source": [
        "# 19. GET THE LAST ELEMENT OF AN ARRAY"
      ],
      "metadata": {
        "id": "0X9TqX0V-9NW"
      }
    },
    {
      "cell_type": "code",
      "source": [
        "def get_last_element(arr):\n",
        "  return arr[-1]\n",
        "array = [1,2,3,4,5]\n",
        "print(get_last_element(array))"
      ],
      "metadata": {
        "colab": {
          "base_uri": "https://localhost:8080/"
        },
        "id": "saURMtA57nk2",
        "outputId": "0495e854-9d6c-4033-fa32-3ecc1bf654f8"
      },
      "execution_count": 21,
      "outputs": [
        {
          "output_type": "stream",
          "name": "stdout",
          "text": [
            "5\n"
          ]
        }
      ]
    },
    {
      "cell_type": "markdown",
      "source": [
        "# 20. CHECK IF ALL ELEMENTS IN AN ARRAY ARE THE SAME"
      ],
      "metadata": {
        "id": "weEc5Uho_TBU"
      }
    },
    {
      "cell_type": "code",
      "source": [
        "def is_all_equal(arr):\n",
        "  return len(set(arr)) == 1\n",
        "array = [1,1,1,1,1]\n",
        "print(is_all_equal(array))"
      ],
      "metadata": {
        "colab": {
          "base_uri": "https://localhost:8080/"
        },
        "id": "qEYeKyNo7nij",
        "outputId": "38593273-b6da-4075-96d0-4756e95d821e"
      },
      "execution_count": 22,
      "outputs": [
        {
          "output_type": "stream",
          "name": "stdout",
          "text": [
            "True\n"
          ]
        }
      ]
    },
    {
      "cell_type": "markdown",
      "source": [
        "# 21. SUM OF NUMBERS UP TO A GIVEN NUMBER\n",
        "1 to the given numver integer value"
      ],
      "metadata": {
        "id": "C4FXw4Rj_k_y"
      }
    },
    {
      "cell_type": "code",
      "source": [
        "def add_upto(num):\n",
        "  # return sum(range(1, num+1))\n",
        "  # return sum([i for i in range(1, num+1)])\n",
        "  return num*(num +1) //2 # We konw that 1, 2, 3, ..., n sum is n*(n+1)/2\n",
        "print(add_upto(5))"
      ],
      "metadata": {
        "colab": {
          "base_uri": "https://localhost:8080/"
        },
        "id": "5bn8p7_B7nf1",
        "outputId": "5545497e-6271-4621-e208-cb249ae8ed5f"
      },
      "execution_count": 23,
      "outputs": [
        {
          "output_type": "stream",
          "name": "stdout",
          "text": [
            "15\n"
          ]
        }
      ]
    },
    {
      "cell_type": "markdown",
      "source": [
        "# 22.  SUM ALL NUMBERS IN AN ARRAY"
      ],
      "metadata": {
        "id": "bj67Fty_AaBG"
      }
    },
    {
      "cell_type": "code",
      "source": [
        "def sum_array(arr):\n",
        "  return sum(arr)\n",
        "array = [1,6,9,7,5]\n",
        "print(sum_array(array))"
      ],
      "metadata": {
        "colab": {
          "base_uri": "https://localhost:8080/"
        },
        "id": "cdmMfkt82ZcR",
        "outputId": "35a31cf0-07f6-409c-a035-b1146f101b7a"
      },
      "execution_count": 24,
      "outputs": [
        {
          "output_type": "stream",
          "name": "stdout",
          "text": [
            "28\n"
          ]
        }
      ]
    },
    {
      "cell_type": "markdown",
      "source": [
        "# 23. FIND THE MAXIMUM VALUE IN AN ARRAY"
      ],
      "metadata": {
        "id": "oB2Ht9x2Alkk"
      }
    },
    {
      "cell_type": "code",
      "source": [
        "def find_max(arr):\n",
        "  return max(arr)\n",
        "array = [1,6,9,7,5]\n",
        "print(find_max(array))"
      ],
      "metadata": {
        "colab": {
          "base_uri": "https://localhost:8080/"
        },
        "id": "HoTdMkQAAjDo",
        "outputId": "86cea218-9d82-4f31-db22-7826111bd937"
      },
      "execution_count": 25,
      "outputs": [
        {
          "output_type": "stream",
          "name": "stdout",
          "text": [
            "9\n"
          ]
        }
      ]
    },
    {
      "cell_type": "markdown",
      "source": [
        "# 24. CALCULATE THE POWER OF A NUMBER"
      ],
      "metadata": {
        "id": "r4tku8BjAzQ4"
      }
    },
    {
      "cell_type": "code",
      "source": [
        "def power(base, exponent):\n",
        "  return base ** exponent\n",
        "print(power(2,3))"
      ],
      "metadata": {
        "colab": {
          "base_uri": "https://localhost:8080/"
        },
        "id": "-uIKbMjDAjAI",
        "outputId": "e77bd2da-3e2c-4cb8-fb02-da5e97da06df"
      },
      "execution_count": 26,
      "outputs": [
        {
          "output_type": "stream",
          "name": "stdout",
          "text": [
            "8\n"
          ]
        }
      ]
    },
    {
      "cell_type": "markdown",
      "source": [
        "# 25. CONVERT STRING TO NUMBER"
      ],
      "metadata": {
        "id": "iR2xREVDBABw"
      }
    },
    {
      "cell_type": "code",
      "source": [
        "def str_to_num(string):\n",
        "  return int(string)\n",
        "string = \"123\"\n",
        "print(str_to_num(string))"
      ],
      "metadata": {
        "colab": {
          "base_uri": "https://localhost:8080/"
        },
        "id": "G_5Woay_Ai9u",
        "outputId": "961ae7ed-4e5e-4241-f105-3013817ce75b"
      },
      "execution_count": 27,
      "outputs": [
        {
          "output_type": "stream",
          "name": "stdout",
          "text": [
            "123\n"
          ]
        }
      ]
    },
    {
      "cell_type": "markdown",
      "source": [
        "# 26. COUNT THE NUMBER OF WORDS IN A STRING"
      ],
      "metadata": {
        "id": "7QmoA_WoBYE-"
      }
    },
    {
      "cell_type": "code",
      "source": [
        "def count_words(string):\n",
        "  return len(string.split())\n",
        "string = \"COUNT THE NUMBER OF WORDS IN A STRING\"\n",
        "print(count_words(string))"
      ],
      "metadata": {
        "colab": {
          "base_uri": "https://localhost:8080/"
        },
        "id": "_0gqZt2qBUrv",
        "outputId": "0522a0d7-16c9-4ace-9b5d-d4a94051afc2"
      },
      "execution_count": 28,
      "outputs": [
        {
          "output_type": "stream",
          "name": "stdout",
          "text": [
            "8\n"
          ]
        }
      ]
    },
    {
      "cell_type": "markdown",
      "source": [
        "# 27. CHECK IF A STRING IS EMPTY"
      ],
      "metadata": {
        "id": "--Bf8P8KDpnV"
      }
    },
    {
      "cell_type": "code",
      "source": [
        "def is_empty_string(string):\n",
        "  return string == \"\"\n",
        "string = \"\"\n",
        "print(is_empty_string(string))"
      ],
      "metadata": {
        "colab": {
          "base_uri": "https://localhost:8080/"
        },
        "id": "cFAqLyWpAi7J",
        "outputId": "d114df7d-7a9d-4f96-f5fe-c5fdd28341ed"
      },
      "execution_count": 29,
      "outputs": [
        {
          "output_type": "stream",
          "name": "stdout",
          "text": [
            "True\n"
          ]
        }
      ]
    },
    {
      "cell_type": "markdown",
      "source": [
        "# 28. SUM OF INDEX MULTIPLIED ELEMENTS\n",
        "\n",
        " the sum of all items in an array, where\n",
        " each item is multiplied by its index (zero\n",
        "based). If the array is empty, it returns 0."
      ],
      "metadata": {
        "id": "fqTQJWI6DkW8"
      }
    },
    {
      "cell_type": "code",
      "source": [
        "def index_multiply(arr):\n",
        "  return sum([i*arr[i] for i in range(len(arr))])\n",
        "array = [1,2,3,4,5]\n",
        "print(index_multiply(array))"
      ],
      "metadata": {
        "colab": {
          "base_uri": "https://localhost:8080/"
        },
        "id": "d3SMfn2Q2ZZ-",
        "outputId": "60821929-8abe-4b5a-ad9b-e329d926c39b"
      },
      "execution_count": 30,
      "outputs": [
        {
          "output_type": "stream",
          "name": "stdout",
          "text": [
            "40\n"
          ]
        }
      ]
    },
    {
      "cell_type": "markdown",
      "source": [
        "# 29. CHECK IF A NUMBER IS A MULTIPLE OF 5"
      ],
      "metadata": {
        "id": "5JeR1AR3Ej7r"
      }
    },
    {
      "cell_type": "code",
      "source": [
        "def is_multiple_of_5(num):\n",
        "  return num % 5 == 0\n",
        "print(is_multiple_of_5(10))\n",
        "print(is_multiple_of_5(152))"
      ],
      "metadata": {
        "colab": {
          "base_uri": "https://localhost:8080/"
        },
        "id": "SgLRxKzXEL9I",
        "outputId": "b4785e52-16e1-480b-fffc-99350332b9aa"
      },
      "execution_count": 31,
      "outputs": [
        {
          "output_type": "stream",
          "name": "stdout",
          "text": [
            "True\n",
            "False\n"
          ]
        }
      ]
    },
    {
      "cell_type": "markdown",
      "source": [
        "# 30. CHECK IF AN ARRAY CONTAINS A SPECIFIC VALUE"
      ],
      "metadata": {
        "id": "dvjN2_6kFJU0"
      }
    },
    {
      "cell_type": "code",
      "source": [
        "def contains_value(arr, value):\n",
        " return value in arr\n",
        "array = [1,2,3,4,5]\n",
        "print(contains_value(array, 3))"
      ],
      "metadata": {
        "colab": {
          "base_uri": "https://localhost:8080/"
        },
        "id": "WMR-YLw0EL5t",
        "outputId": "d4889966-2b13-416c-f88a-363eec393dd7"
      },
      "execution_count": 32,
      "outputs": [
        {
          "output_type": "stream",
          "name": "stdout",
          "text": [
            "True\n"
          ]
        }
      ]
    },
    {
      "cell_type": "markdown",
      "source": [
        "# 31.  CONVERT AN ARRAY TO A COMMA-SEPARATED STRING"
      ],
      "metadata": {
        "id": "NEJJeLiUFcdM"
      }
    },
    {
      "cell_type": "code",
      "source": [
        "def array_to_csv(arr):\n",
        "  return \",\".join(map(str, arr))\n",
        "array = [1,2,3,4,5]\n",
        "print(array_to_csv(array))"
      ],
      "metadata": {
        "colab": {
          "base_uri": "https://localhost:8080/"
        },
        "id": "lev_6Na8EL3C",
        "outputId": "e309f34a-8034-449c-ed6c-fcbb811edd00"
      },
      "execution_count": 33,
      "outputs": [
        {
          "output_type": "stream",
          "name": "stdout",
          "text": [
            "1,2,3,4,5\n"
          ]
        }
      ]
    },
    {
      "cell_type": "markdown",
      "source": [
        "# 32. CHECK IF A YEAR IS A LEAP YEAR"
      ],
      "metadata": {
        "id": "BnmItSS1F20k"
      }
    },
    {
      "cell_type": "code",
      "source": [
        "def is_leap_year(year):\n",
        "  return year % 4 == 0 and (year % 100 != 0 or year % 400 == 0)\n",
        "print(is_leap_year(2100))\n",
        "print(is_leap_year(2020))"
      ],
      "metadata": {
        "colab": {
          "base_uri": "https://localhost:8080/"
        },
        "id": "cdJOTmwjEL0w",
        "outputId": "b651ce0a-c7c9-4b44-fc97-d4fcd1eaea82"
      },
      "execution_count": 34,
      "outputs": [
        {
          "output_type": "stream",
          "name": "stdout",
          "text": [
            "False\n",
            "True\n"
          ]
        }
      ]
    },
    {
      "cell_type": "markdown",
      "source": [
        "# 33.  REMOVE A SPECIFIC ELEMENT FROM AN ARRAY"
      ],
      "metadata": {
        "id": "GW3RfM-6G7JM"
      }
    },
    {
      "cell_type": "code",
      "source": [
        "def remove_element(arr, value):\n",
        "  return [i for i in arr if i != value]\n",
        "array = [1,2,3,4,5]\n",
        "print(remove_element(array, 3))"
      ],
      "metadata": {
        "colab": {
          "base_uri": "https://localhost:8080/"
        },
        "id": "PdC2NYaQELyK",
        "outputId": "74760167-420f-48e5-dd0c-a41062542492"
      },
      "execution_count": 35,
      "outputs": [
        {
          "output_type": "stream",
          "name": "stdout",
          "text": [
            "[1, 2, 4, 5]\n"
          ]
        }
      ]
    },
    {
      "cell_type": "markdown",
      "source": [
        "# 34. TRUNCATE A STRING TO A GIVEN LENGTH"
      ],
      "metadata": {
        "id": "46IC296SHWeD"
      }
    },
    {
      "cell_type": "code",
      "source": [
        "def truncate_string(s, max_length):\n",
        "  return s[:max_length] + \"...\" if len(s) > max_length else s\n",
        "string = \"Nilanjan\"\n",
        "print(truncate_string(string, 4))"
      ],
      "metadata": {
        "colab": {
          "base_uri": "https://localhost:8080/"
        },
        "id": "0TQ_YjiUELvZ",
        "outputId": "fc5ea730-f348-4cb8-ef30-eb97ab637a9d"
      },
      "execution_count": 36,
      "outputs": [
        {
          "output_type": "stream",
          "name": "stdout",
          "text": [
            "Nila...\n"
          ]
        }
      ]
    },
    {
      "cell_type": "markdown",
      "source": [
        "# 35. CONVERT SECONDS TO MINUTES AND SECONDS"
      ],
      "metadata": {
        "id": "CiUV163gJROn"
      }
    },
    {
      "cell_type": "code",
      "source": [
        "def SecsToMinsAndSecs(secs):\n",
        "  # mins, secs = divmod(secs, 60)\n",
        "  # return f\"{mins:02}:{secs:02}\"\n",
        "  return f\"{secs//60:02}:{secs%60:02}\"\n",
        "print(SecsToMinsAndSecs(122))"
      ],
      "metadata": {
        "colab": {
          "base_uri": "https://localhost:8080/"
        },
        "id": "7pIpPvbGELsu",
        "outputId": "ded9a79f-a91a-4daa-eead-08c945e517fb"
      },
      "execution_count": 37,
      "outputs": [
        {
          "output_type": "stream",
          "name": "stdout",
          "text": [
            "02:02\n"
          ]
        }
      ]
    },
    {
      "cell_type": "markdown",
      "source": [
        "# 36. GENERATE A FIBONACCI SEQUENCE"
      ],
      "metadata": {
        "id": "3MYaHNCKJzwW"
      }
    },
    {
      "cell_type": "code",
      "source": [
        "def Fibonacci(n):\n",
        "  return n if n <= 1 else Fibonacci(n-1) + Fibonacci(n-2)\n",
        "def generate_fibonacci(n):\n",
        "  return [Fibonacci(i) for i in range(n)]\n",
        "print(generate_fibonacci(10))"
      ],
      "metadata": {
        "colab": {
          "base_uri": "https://localhost:8080/"
        },
        "id": "qc6cUzksELqL",
        "outputId": "9221a429-bce4-4dc8-c401-643771b3b896"
      },
      "execution_count": 38,
      "outputs": [
        {
          "output_type": "stream",
          "name": "stdout",
          "text": [
            "[0, 1, 1, 2, 3, 5, 8, 13, 21, 34]\n"
          ]
        }
      ]
    },
    {
      "cell_type": "markdown",
      "source": [
        "# 37.  SPELL OUT A WORD\n",
        " The Spelling function takes a word as\n",
        " input and spells it out by consecutively\n",
        " adding letters until the full word is\n",
        " completed. It then returns an array\n",
        " containing each step of the spelling\n",
        " process."
      ],
      "metadata": {
        "id": "LDrySV9lKXun"
      }
    },
    {
      "cell_type": "code",
      "source": [
        "def Spelling(word):\n",
        "  return [word[:i] for i in range(1, len(word)+1)]\n",
        "print(Spelling(\"Nilanjan\"))"
      ],
      "metadata": {
        "colab": {
          "base_uri": "https://localhost:8080/"
        },
        "id": "8Iaz9vJWELng",
        "outputId": "c9074b6b-e924-45f7-e732-5cff3eb464fb"
      },
      "execution_count": 39,
      "outputs": [
        {
          "output_type": "stream",
          "name": "stdout",
          "text": [
            "['N', 'Ni', 'Nil', 'Nila', 'Nilan', 'Nilanj', 'Nilanja', 'Nilanjan']\n"
          ]
        }
      ]
    },
    {
      "cell_type": "markdown",
      "source": [
        "# 38. CHECK IF AN ARRAY CONTAINS ONLY UNIQUE VALUES"
      ],
      "metadata": {
        "id": "7veIlZNaKx_w"
      }
    },
    {
      "cell_type": "code",
      "source": [
        "def HasUniqueValues(arr):\n",
        "  return len(arr) == len(set(arr))\n",
        "array = [1,2,3,4,5]\n",
        "print(HasUniqueValues(array))"
      ],
      "metadata": {
        "colab": {
          "base_uri": "https://localhost:8080/"
        },
        "id": "VDvT8kjGyF0h",
        "outputId": "1dc6d2a9-a875-4393-ffff-1d65b79e96ff"
      },
      "execution_count": 40,
      "outputs": [
        {
          "output_type": "stream",
          "name": "stdout",
          "text": [
            "True\n"
          ]
        }
      ]
    },
    {
      "cell_type": "markdown",
      "source": [
        "# 39. CONVERT FEET TO METERS"
      ],
      "metadata": {
        "id": "zbL_imvULw6G"
      }
    },
    {
      "cell_type": "code",
      "source": [
        "def FeetToMeters(feet):\n",
        "  return feet * 0.3048\n",
        "print(FeetToMeters(5))"
      ],
      "metadata": {
        "colab": {
          "base_uri": "https://localhost:8080/"
        },
        "id": "kSWm5nSZ13c9",
        "outputId": "ff6e1492-2379-4321-dff4-1fbb08c8a464"
      },
      "execution_count": 41,
      "outputs": [
        {
          "output_type": "stream",
          "name": "stdout",
          "text": [
            "1.524\n"
          ]
        }
      ]
    },
    {
      "cell_type": "markdown",
      "source": [
        "# 40. CHECK IF A NUMBER IS A PERFECT SQUARE"
      ],
      "metadata": {
        "id": "4VDz0ZC8MWX1"
      }
    },
    {
      "cell_type": "code",
      "source": [
        "def IsPerfectSquare(num):\n",
        "  return num**0.5 == int(num**0.5)\n",
        "print(IsPerfectSquare(25))"
      ],
      "metadata": {
        "colab": {
          "base_uri": "https://localhost:8080/"
        },
        "id": "WjMd5FJ_L-L_",
        "outputId": "7e340cc4-c29a-4a6f-f329-c6b3d6ae4736"
      },
      "execution_count": 42,
      "outputs": [
        {
          "output_type": "stream",
          "name": "stdout",
          "text": [
            "True\n"
          ]
        }
      ]
    },
    {
      "cell_type": "markdown",
      "source": [
        "# 41. CHECK IF A NUMBER IS A PRIME NUMBER"
      ],
      "metadata": {
        "id": "mV6YDlCBMl0k"
      }
    },
    {
      "cell_type": "code",
      "source": [
        "def IsPrime(num):\n",
        "  # for i in range(2, int(num**0.5) + 1):\n",
        "  #   if num % i == 0:\n",
        "  #     return False\n",
        "  # return True\n",
        "  return num > 1 and all(num % i != 0 for i in range(2, int(num**0.5) + 1))\n",
        "print(IsPrime(7))\n"
      ],
      "metadata": {
        "id": "tln-ZsCmL-Jr",
        "colab": {
          "base_uri": "https://localhost:8080/"
        },
        "outputId": "a7d69ca1-31e3-4c25-a5ff-841037f63310"
      },
      "execution_count": 43,
      "outputs": [
        {
          "output_type": "stream",
          "name": "stdout",
          "text": [
            "True\n"
          ]
        }
      ]
    },
    {
      "cell_type": "markdown",
      "source": [
        "# 42.  GET THE LAST N ELEMENTS OF AN ARRAY"
      ],
      "metadata": {
        "id": "w2tFP7MNUMwR"
      }
    },
    {
      "cell_type": "code",
      "source": [
        "def LastNElements(arr, n):\n",
        "  return arr[-n:]\n",
        "array = [1,4,9,2,5]\n",
        "print(LastNElements(array, 3))"
      ],
      "metadata": {
        "id": "hlBpGZyUL-HY",
        "colab": {
          "base_uri": "https://localhost:8080/"
        },
        "outputId": "89bf0df7-2fb8-4fdb-995e-8b6a6a75e761"
      },
      "execution_count": 44,
      "outputs": [
        {
          "output_type": "stream",
          "name": "stdout",
          "text": [
            "[9, 2, 5]\n"
          ]
        }
      ]
    },
    {
      "cell_type": "markdown",
      "source": [
        "# 43. CONVERT DEGREES TO RADIANS"
      ],
      "metadata": {
        "id": "nDlmenmeUnsY"
      }
    },
    {
      "cell_type": "code",
      "source": [
        "import math\n",
        "def DegreesToRadians(degrees):\n",
        "  return degrees * math.pi / 180\n",
        "print(DegreesToRadians(90))"
      ],
      "metadata": {
        "id": "H5lHJfF7L-Eu",
        "colab": {
          "base_uri": "https://localhost:8080/"
        },
        "outputId": "be9675f8-aeb9-43dc-9635-4c6052fbe3e7"
      },
      "execution_count": 45,
      "outputs": [
        {
          "output_type": "stream",
          "name": "stdout",
          "text": [
            "1.5707963267948966\n"
          ]
        }
      ]
    },
    {
      "cell_type": "markdown",
      "source": [
        "# 44. FIND THE INTERSECTION OF TWO ARRAYS"
      ],
      "metadata": {
        "id": "YWkXV6P0U7ko"
      }
    },
    {
      "cell_type": "code",
      "source": [
        "def Intersection(arr1, arr2):\n",
        "  return list(set(arr1) & set(arr2))\n",
        "array1 = [1,2,3,4,5]\n",
        "array2 = [4,5,6,7,8]\n",
        "print(Intersection(array1, array2))"
      ],
      "metadata": {
        "id": "qPjdcd0oL-CF",
        "colab": {
          "base_uri": "https://localhost:8080/"
        },
        "outputId": "06dee25c-418a-43ea-a60d-8b592be290d6"
      },
      "execution_count": 46,
      "outputs": [
        {
          "output_type": "stream",
          "name": "stdout",
          "text": [
            "[4, 5]\n"
          ]
        }
      ]
    },
    {
      "cell_type": "markdown",
      "source": [
        "# 45. REMOVE WHITESPACE FROM A STRING"
      ],
      "metadata": {
        "id": "yT0fgKSqVNxD"
      }
    },
    {
      "cell_type": "code",
      "source": [
        "def RemoveWhitespace(string):\n",
        "  return string.replace(\" \", \"\")\n",
        "print(RemoveWhitespace(\"Nilanjan Samanta\"))"
      ],
      "metadata": {
        "id": "7D0tIKU1L9_p",
        "colab": {
          "base_uri": "https://localhost:8080/"
        },
        "outputId": "ebf77e17-cf30-4234-ad43-c784b6d4c92d"
      },
      "execution_count": 47,
      "outputs": [
        {
          "output_type": "stream",
          "name": "stdout",
          "text": [
            "NilanjanSamanta\n"
          ]
        }
      ]
    },
    {
      "cell_type": "markdown",
      "source": [
        "# 46. FIND THE DIFFERENCE BETWEEN TWO ARRAYS"
      ],
      "metadata": {
        "id": "v_cV4LEeVc1c"
      }
    },
    {
      "cell_type": "code",
      "source": [
        "def Difference(arr1, arr2):\n",
        "  return list(set(arr1) - set(arr2))\n",
        "array1 = [1,2,3,4,5]\n",
        "array2 = [4,5,6,7,8]\n",
        "print(Difference(array1, array2))"
      ],
      "metadata": {
        "id": "vFnvo8aGL99L",
        "colab": {
          "base_uri": "https://localhost:8080/"
        },
        "outputId": "9457ea09-47c4-468d-ccc4-7bedc9c5a0ff"
      },
      "execution_count": 48,
      "outputs": [
        {
          "output_type": "stream",
          "name": "stdout",
          "text": [
            "[1, 2, 3]\n"
          ]
        }
      ]
    },
    {
      "cell_type": "markdown",
      "source": [
        "# 47. CALCULATE THE STANDARD DEVIATION OF AN ARRAY OF NUMBERS"
      ],
      "metadata": {
        "id": "FAKojv1rV1mb"
      }
    },
    {
      "cell_type": "code",
      "source": [
        "import math\n",
        "def StandardDeviation(arr):\n",
        "  mean = sum(arr) / len(arr)\n",
        "  variance = sum((x - mean) ** 2 for x in arr) / len(arr)\n",
        "  return round(math.sqrt(variance),2)\n",
        "  # return (variance ** 0.5)\n",
        "array = [1,2,3,4,5]\n",
        "print(StandardDeviation(array))"
      ],
      "metadata": {
        "id": "t7LhKsj8yFVg",
        "colab": {
          "base_uri": "https://localhost:8080/"
        },
        "outputId": "d9a8f187-a467-440a-b0a7-69aa47014e56"
      },
      "execution_count": 49,
      "outputs": [
        {
          "output_type": "stream",
          "name": "stdout",
          "text": [
            "1.41\n"
          ]
        }
      ]
    },
    {
      "cell_type": "markdown",
      "source": [
        "# 48. SIMPLE CALCULATOR"
      ],
      "metadata": {
        "id": "18WPrjQcyFJE"
      }
    },
    {
      "cell_type": "code",
      "source": [
        "def calculator(num1, op, num2):\n",
        "  return eval(f\"{num1}{op}{num2}\")\n",
        "print(calculator(10, \"+\", 5))\n",
        "print(calculator(10, \"-\", 5))\n",
        "print(calculator(10, \"*\", 5))\n",
        "print(calculator(10, \"/\", 5))\n",
        "print(calculator(11, \"%\", 5))"
      ],
      "metadata": {
        "id": "Moo9941syE8s",
        "colab": {
          "base_uri": "https://localhost:8080/"
        },
        "outputId": "8906c73c-76cd-444b-bc62-4726bccb62db"
      },
      "execution_count": 50,
      "outputs": [
        {
          "output_type": "stream",
          "name": "stdout",
          "text": [
            "15\n",
            "5\n",
            "50\n",
            "2.0\n",
            "1\n"
          ]
        }
      ]
    },
    {
      "cell_type": "markdown",
      "source": [
        "# 49. REMOVE DUPLICATES FROM A STRING"
      ],
      "metadata": {
        "id": "KYomsi3pXmsT"
      }
    },
    {
      "cell_type": "code",
      "source": [
        "def remove_duplicates(string:str) -> str:\n",
        "  return ''.join(sorted(set(string), key=string.index))\n",
        "print(remove_duplicates(\"Nilanjan\"))"
      ],
      "metadata": {
        "colab": {
          "base_uri": "https://localhost:8080/"
        },
        "id": "tNQr-f67Wtuk",
        "outputId": "221701bb-715f-4ba4-fa7f-9e38745ebf5b"
      },
      "execution_count": 51,
      "outputs": [
        {
          "output_type": "stream",
          "name": "stdout",
          "text": [
            "Nilanj\n"
          ]
        }
      ]
    },
    {
      "cell_type": "markdown",
      "source": [
        "# 50. FIND THE MODE OF AN ARRAY OF NUMBERS"
      ],
      "metadata": {
        "id": "xMg7yuNiYPA6"
      }
    },
    {
      "cell_type": "code",
      "source": [
        "def mode(arr):\n",
        "    occurrences = {}\n",
        "    for num in arr:\n",
        "        if num in occurrences:\n",
        "            occurrences[num] += 1\n",
        "        else:\n",
        "            occurrences[num] = 1\n",
        "    max_occurrences = max(occurrences.values())\n",
        "    return [num for num, count in occurrences.items() if count == max_occurrences]\n",
        "\n",
        "numbers = [1, 2, 2, 3, 3, 3, 4, 4, 4, 4]\n",
        "print(\"Mode :\",mode(numbers))\n",
        "\n"
      ],
      "metadata": {
        "colab": {
          "base_uri": "https://localhost:8080/"
        },
        "id": "A1Ts6cTxX9BC",
        "outputId": "593c499a-6e49-4682-867f-c6e194361d55"
      },
      "execution_count": 52,
      "outputs": [
        {
          "output_type": "stream",
          "name": "stdout",
          "text": [
            "Mode : [4]\n"
          ]
        }
      ]
    },
    {
      "cell_type": "markdown",
      "source": [
        "# 51. CHECK FOR REPDIGIT\n",
        "\n",
        "repdigit  is composed of the same digit repeated."
      ],
      "metadata": {
        "id": "MJqeXV66ZcJr"
      }
    },
    {
      "cell_type": "code",
      "source": [
        "def is_repdigit(num):\n",
        "  return len(set(str(num))) == 1\n",
        "print(is_repdigit(11111))"
      ],
      "metadata": {
        "colab": {
          "base_uri": "https://localhost:8080/"
        },
        "id": "pH7CJfRqY73-",
        "outputId": "343be12d-0789-453d-afa8-7738858577ea"
      },
      "execution_count": 53,
      "outputs": [
        {
          "output_type": "stream",
          "name": "stdout",
          "text": [
            "True\n"
          ]
        }
      ]
    },
    {
      "cell_type": "markdown",
      "source": [
        "# 52. CAPITALIZE THE FIRST LETTER OF EACH WORD IN A STRING"
      ],
      "metadata": {
        "id": "P-eqKQvxaIaG"
      }
    },
    {
      "cell_type": "code",
      "source": [
        "def capitalize_words(string):\n",
        "  return string.title()\n",
        "string = \"nilanjan samanta\"\n",
        "print(capitalize_words(string))"
      ],
      "metadata": {
        "colab": {
          "base_uri": "https://localhost:8080/"
        },
        "id": "XyqAN3mjZ3hr",
        "outputId": "24dd0ea6-b1e1-40a3-8b81-ddb5132be666"
      },
      "execution_count": 54,
      "outputs": [
        {
          "output_type": "stream",
          "name": "stdout",
          "text": [
            "Nilanjan Samanta\n"
          ]
        }
      ]
    },
    {
      "cell_type": "markdown",
      "source": [
        "# 53. REMOVE NULL VALUES FROM A LIST"
      ],
      "metadata": {
        "id": "_YkcV5TfaqJl"
      }
    },
    {
      "cell_type": "code",
      "source": [
        "def remove_null(arr):\n",
        "  return [item for item in arr if item is not None]\n",
        "array = [1,None,3,5,None, 7,None]\n",
        "print(remove_null(array))"
      ],
      "metadata": {
        "colab": {
          "base_uri": "https://localhost:8080/"
        },
        "id": "3UZqIYC3aRTp",
        "outputId": "fe6dbf55-5c8f-4161-c35e-cb61fd4005b0"
      },
      "execution_count": 55,
      "outputs": [
        {
          "output_type": "stream",
          "name": "stdout",
          "text": [
            "[1, 3, 5, 7]\n"
          ]
        }
      ]
    },
    {
      "cell_type": "code",
      "source": [],
      "metadata": {
        "id": "0dHj34ekcys6"
      },
      "execution_count": 55,
      "outputs": []
    },
    {
      "cell_type": "code",
      "source": [],
      "metadata": {
        "id": "2pz2jRlpcypu"
      },
      "execution_count": 55,
      "outputs": []
    },
    {
      "cell_type": "code",
      "source": [],
      "metadata": {
        "id": "DknoRFAwcyna"
      },
      "execution_count": 55,
      "outputs": []
    },
    {
      "cell_type": "code",
      "source": [],
      "metadata": {
        "id": "npoYYklzbGyh"
      },
      "execution_count": 55,
      "outputs": []
    }
  ]
}