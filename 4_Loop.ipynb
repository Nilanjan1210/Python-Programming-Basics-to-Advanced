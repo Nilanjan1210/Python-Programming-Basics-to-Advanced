{
  "nbformat": 4,
  "nbformat_minor": 0,
  "metadata": {
    "colab": {
      "provenance": [],
      "authorship_tag": "ABX9TyPXuF5STOSFA/Lhuroskhau",
      "include_colab_link": true
    },
    "kernelspec": {
      "name": "python3",
      "display_name": "Python 3"
    },
    "language_info": {
      "name": "python"
    }
  },
  "cells": [
    {
      "cell_type": "markdown",
      "metadata": {
        "id": "view-in-github",
        "colab_type": "text"
      },
      "source": [
        "<a href=\"https://colab.research.google.com/github/Nilanjan1210/Python-Programming-Basics-to-Advanced/blob/main/4_Loop.ipynb\" target=\"_parent\"><img src=\"https://colab.research.google.com/assets/colab-badge.svg\" alt=\"Open In Colab\"/></a>"
      ]
    },
    {
      "cell_type": "markdown",
      "source": [
        "# While Loop\n",
        "A While loop in Python is used to execute a block of code rpeatedly as long as a certain condition is True.\n"
      ],
      "metadata": {
        "id": "NVuBn8uDD9vf"
      }
    },
    {
      "cell_type": "code",
      "source": [
        "i = 0\n",
        "while i < 5 :\n",
        "  print(i)\n",
        "  i += 1"
      ],
      "metadata": {
        "colab": {
          "base_uri": "https://localhost:8080/"
        },
        "id": "655FhpQcD89G",
        "outputId": "7c8e5946-9ca3-41d1-b607-d013abcbec31"
      },
      "execution_count": 1,
      "outputs": [
        {
          "output_type": "stream",
          "name": "stdout",
          "text": [
            "0\n",
            "1\n",
            "2\n",
            "3\n",
            "4\n"
          ]
        }
      ]
    },
    {
      "cell_type": "markdown",
      "source": [
        "### Types of while loop\n",
        "- **Counter controlled loop** : Used a counter variable to control the number of iteration.\n",
        "- **Sentinel controlled loop** : Used a sentinel value to control the loop.\n",
        "- **Flag controlled loop** : Uesd a flag variable to control the loop."
      ],
      "metadata": {
        "id": "Qj7maTC-EmAy"
      }
    },
    {
      "cell_type": "code",
      "source": [
        "# While Loop with counter\n",
        "# This is a counter controlled loop as 'i' acts as a counter and the loop runs till 'i' reaches 5\n",
        "i = 10\n",
        "while i > 5 :\n",
        "  print(i)\n",
        "  i -= 1"
      ],
      "metadata": {
        "colab": {
          "base_uri": "https://localhost:8080/"
        },
        "id": "4CyqoDF7D85u",
        "outputId": "9578ef5c-f159-47ff-929f-f96f51170eb2"
      },
      "execution_count": 2,
      "outputs": [
        {
          "output_type": "stream",
          "name": "stdout",
          "text": [
            "10\n",
            "9\n",
            "8\n",
            "7\n",
            "6\n"
          ]
        }
      ]
    },
    {
      "cell_type": "code",
      "source": [
        "## While loop with sentinel\n",
        "# This is a sentienl controlled loop as the loop runs until the user enters 'quit' as input\n",
        "input_val = ''\n",
        "while input_val != 'quit':\n",
        "  input_val = input('Enter something or type quit to exit : ')\n",
        "  print(input_val)"
      ],
      "metadata": {
        "colab": {
          "base_uri": "https://localhost:8080/"
        },
        "id": "-byIxsKpD815",
        "outputId": "a42df529-5063-4528-f1b8-6a47042ca0bb"
      },
      "execution_count": 4,
      "outputs": [
        {
          "output_type": "stream",
          "name": "stdout",
          "text": [
            "Enter something or type quit to exit : quit\n",
            "quit\n"
          ]
        }
      ]
    },
    {
      "cell_type": "code",
      "source": [
        "## While loop with flag\n",
        "# This is a flag controlled loop as the loop runs until 'flag' is True\n",
        "flag = True\n",
        "while flag:\n",
        "    user_input = input(\"Enter 'stop' to quit: \")\n",
        "    if user_input == 'stop':\n",
        "        flag = False\n",
        "    else:\n",
        "        print(\"You entered:\", user_input)"
      ],
      "metadata": {
        "colab": {
          "base_uri": "https://localhost:8080/"
        },
        "id": "-vpAHKHWD8uf",
        "outputId": "46099b86-c321-43f5-ba4c-7f19e12a9ed2"
      },
      "execution_count": 6,
      "outputs": [
        {
          "name": "stdout",
          "output_type": "stream",
          "text": [
            "Enter 'stop' to quit: nilanjan\n",
            "You entered: nilanjan\n",
            "Enter 'stop' to quit: samanta\n",
            "You entered: samanta\n",
            "Enter 'stop' to quit: 45\n",
            "You entered: 45\n",
            "Enter 'stop' to quit: stop\n"
          ]
        }
      ]
    },
    {
      "cell_type": "markdown",
      "source": [
        "### Common Pitfalls\n",
        "- **Infinite Loop** : Occurs when the condition is always true.\n",
        "- **Off-by-one-error** : Occurs when the loop iterates one more or one less time than intended."
      ],
      "metadata": {
        "id": "MmFDDwX9JfEe"
      }
    },
    {
      "cell_type": "markdown",
      "source": [
        "# Range Function\n",
        "The range() function in Python  generates a sequence of numbers that can be used in loop or other contexts.\n",
        "\n",
        "**Basic syntax of range() function:** *range(start=0, stop, step=1)*\n",
        "- start : the starting number of the sequence(inclusive). Default is 0.\n",
        "- stop: the ending number of the sequence. (exclusive)\n",
        "- step: the difference between each number in the sequence. Default is 1"
      ],
      "metadata": {
        "id": "WHGWKtEWOyXd"
      }
    },
    {
      "cell_type": "code",
      "source": [
        "print(range(9))\n",
        "# Output: 0 1 2 3 4 5 6 7 8"
      ],
      "metadata": {
        "colab": {
          "base_uri": "https://localhost:8080/"
        },
        "id": "Xve1vBxbQBwF",
        "outputId": "9f58908f-156d-43f8-fc60-c1497e2f8028"
      },
      "execution_count": 18,
      "outputs": [
        {
          "output_type": "stream",
          "name": "stdout",
          "text": [
            "range(0, 9)\n"
          ]
        }
      ]
    },
    {
      "cell_type": "code",
      "source": [
        "print(range(1,5))\n",
        "# Output: 1 2 3 4"
      ],
      "metadata": {
        "colab": {
          "base_uri": "https://localhost:8080/"
        },
        "id": "BrqKgTkDQBsq",
        "outputId": "133b8154-6d77-41a1-92e9-d3e1df3fa1e9"
      },
      "execution_count": 19,
      "outputs": [
        {
          "output_type": "stream",
          "name": "stdout",
          "text": [
            "range(1, 5)\n"
          ]
        }
      ]
    },
    {
      "cell_type": "code",
      "source": [
        "print(range(1,6,2))\n",
        "# Output: 1 3 5"
      ],
      "metadata": {
        "colab": {
          "base_uri": "https://localhost:8080/"
        },
        "id": "6uaSmnD2QLE9",
        "outputId": "cbd27802-8dca-40e2-eb93-32814dab071d"
      },
      "execution_count": 21,
      "outputs": [
        {
          "output_type": "stream",
          "name": "stdout",
          "text": [
            "range(1, 6, 2)\n"
          ]
        }
      ]
    },
    {
      "cell_type": "markdown",
      "source": [
        "# For Loop\n",
        "A for loop in Python is used to iterate over a sequence (such as list, tuple, or string ) or other iterable objects."
      ],
      "metadata": {
        "id": "9fdvWCN5OskQ"
      }
    },
    {
      "cell_type": "code",
      "source": [
        "# Iterating over a string\n",
        "my_string = \"Nilanjan\"\n",
        "for char in my_string:\n",
        "  print(char)"
      ],
      "metadata": {
        "colab": {
          "base_uri": "https://localhost:8080/"
        },
        "id": "2Q0S-RVdOxe0",
        "outputId": "a073298b-2582-4ee6-f54e-ebeba72ec1a2"
      },
      "execution_count": 22,
      "outputs": [
        {
          "output_type": "stream",
          "name": "stdout",
          "text": [
            "h\n",
            "e\n",
            "l\n",
            "l\n",
            "o\n"
          ]
        }
      ]
    },
    {
      "cell_type": "code",
      "source": [
        "# Iterating over a dictionary\n",
        "my_dict = {\"a\": 1, \"b\": 2, \"c\": 3}\n",
        "for key, value in my_dict.items():\n",
        "  print(f\"Key: {key}, Value: {value}\")"
      ],
      "metadata": {
        "colab": {
          "base_uri": "https://localhost:8080/"
        },
        "id": "uunIt3wROxb2",
        "outputId": "921122f7-fbf0-4f30-f006-0afb82984cbe"
      },
      "execution_count": 23,
      "outputs": [
        {
          "output_type": "stream",
          "name": "stdout",
          "text": [
            "Key: a, Value: 1\n",
            "Key: b, Value: 2\n",
            "Key: c, Value: 3\n"
          ]
        }
      ]
    },
    {
      "cell_type": "code",
      "source": [
        "# Iterating over a list\n",
        "my_list = [10, 20, 30]\n",
        "for item in my_list:\n",
        "  print(item)"
      ],
      "metadata": {
        "colab": {
          "base_uri": "https://localhost:8080/"
        },
        "id": "ZO0bRN2MOxZy",
        "outputId": "1245a264-780b-49ee-99db-c534a73b0cd1"
      },
      "execution_count": 24,
      "outputs": [
        {
          "output_type": "stream",
          "name": "stdout",
          "text": [
            "10\n",
            "20\n",
            "30\n"
          ]
        }
      ]
    },
    {
      "cell_type": "code",
      "source": [
        "# Iterating over a range\n",
        "for i in range(5):\n",
        "  print(i)"
      ],
      "metadata": {
        "colab": {
          "base_uri": "https://localhost:8080/"
        },
        "id": "Ghctm3TsRSNG",
        "outputId": "e3035323-d923-4b6f-f016-85606a924bad"
      },
      "execution_count": 26,
      "outputs": [
        {
          "output_type": "stream",
          "name": "stdout",
          "text": [
            "0\n",
            "1\n",
            "2\n",
            "3\n",
            "4\n"
          ]
        }
      ]
    },
    {
      "cell_type": "code",
      "source": [
        "# Iterating over a range\n",
        "for i in range(1,10,3):\n",
        "  print(i)"
      ],
      "metadata": {
        "colab": {
          "base_uri": "https://localhost:8080/"
        },
        "id": "VwRaIPtRRSEX",
        "outputId": "f97244e6-9e7f-412f-90fe-4c02d46c6baa"
      },
      "execution_count": 27,
      "outputs": [
        {
          "output_type": "stream",
          "name": "stdout",
          "text": [
            "1\n",
            "4\n",
            "7\n"
          ]
        }
      ]
    },
    {
      "cell_type": "code",
      "source": [
        "# Loop 5 times and print \"Hello\"\n",
        "for _ in range(5):\n",
        "  print(\"Hello\", _ )\n",
        "\n"
      ],
      "metadata": {
        "colab": {
          "base_uri": "https://localhost:8080/"
        },
        "id": "_O5w-cc6RSA1",
        "outputId": "2ce4ba10-37e8-4c15-8bae-507217b6332c"
      },
      "execution_count": 36,
      "outputs": [
        {
          "output_type": "stream",
          "name": "stdout",
          "text": [
            "Hello 0\n",
            "Hello 1\n",
            "Hello 2\n",
            "Hello 3\n",
            "Hello 4\n"
          ]
        }
      ]
    },
    {
      "cell_type": "markdown",
      "source": [
        "# Break Statement\n",
        "The Break statement is used to exit a loop permaturely. When the breaak statement is encountered the loop is terminated and the program continues executing the code after the loop."
      ],
      "metadata": {
        "id": "aqdKD6UiKCuF"
      }
    },
    {
      "cell_type": "code",
      "source": [
        "i = 0\n",
        "while i < 10:\n",
        "  print(i)\n",
        "  if i == 5:\n",
        "    break  # Exit the loop when i is 5\n",
        "  i += 1\n",
        "\n",
        "print(\"Loop finished.\")"
      ],
      "metadata": {
        "colab": {
          "base_uri": "https://localhost:8080/"
        },
        "id": "Ri-wSHa0D8rE",
        "outputId": "d9e04e0a-6d4b-4047-8718-69cd5b92ba51"
      },
      "execution_count": 7,
      "outputs": [
        {
          "output_type": "stream",
          "name": "stdout",
          "text": [
            "0\n",
            "1\n",
            "2\n",
            "3\n",
            "4\n",
            "5\n",
            "Loop finished.\n"
          ]
        }
      ]
    },
    {
      "cell_type": "code",
      "source": [
        "for i in range(10):\n",
        "  if i == 5:\n",
        "    break # Exit the loop when i is 5\n",
        "  print(i)\n",
        "\n",
        "print(\"Loop finished.\")"
      ],
      "metadata": {
        "colab": {
          "base_uri": "https://localhost:8080/"
        },
        "id": "_GXFokFcRu1S",
        "outputId": "43f40ff5-72da-4049-c69a-7dc22f4fb2db"
      },
      "execution_count": 28,
      "outputs": [
        {
          "output_type": "stream",
          "name": "stdout",
          "text": [
            "0\n",
            "1\n",
            "2\n",
            "3\n",
            "4\n",
            "Loop finished.\n"
          ]
        }
      ]
    },
    {
      "cell_type": "markdown",
      "source": [
        "# Continue Statement\n",
        "\n",
        "The continue statement is used to skip to the next iteration of a loop. when the continue statement is encountered, the curent iteration is terminated and the program countinues with next iteration."
      ],
      "metadata": {
        "id": "AwB95DPXLc0b"
      }
    },
    {
      "cell_type": "code",
      "source": [
        "# print odd number between 1 to 10\n",
        "i = 0\n",
        "while i < 10:\n",
        "    i += 1\n",
        "    if i%2==0:\n",
        "        continue\n",
        "    print(i)\n",
        ""
      ],
      "metadata": {
        "colab": {
          "base_uri": "https://localhost:8080/"
        },
        "id": "q_Hid9ecLZUh",
        "outputId": "ed6e3968-5b70-4f9a-d473-902df9e68a97"
      },
      "execution_count": 13,
      "outputs": [
        {
          "output_type": "stream",
          "name": "stdout",
          "text": [
            "1\n",
            "3\n",
            "5\n",
            "7\n",
            "9\n"
          ]
        }
      ]
    },
    {
      "cell_type": "code",
      "source": [
        "for i in range(10):\n",
        "    if i%2==0:\n",
        "        continue\n",
        "    print(i)"
      ],
      "metadata": {
        "colab": {
          "base_uri": "https://localhost:8080/"
        },
        "id": "B7ToIFClR3nT",
        "outputId": "f4a5976f-5e1e-477f-ec8c-ad1c56ed9ba0"
      },
      "execution_count": 29,
      "outputs": [
        {
          "output_type": "stream",
          "name": "stdout",
          "text": [
            "1\n",
            "3\n",
            "5\n",
            "7\n",
            "9\n"
          ]
        }
      ]
    },
    {
      "cell_type": "markdown",
      "source": [
        "# Pass Statement\n",
        "The pass statement in Python is a placeholder statement that does nothing. It is used when a statement is required syntactically, but no execution of code is necessary."
      ],
      "metadata": {
        "id": "_PQRa3GXMxpq"
      }
    },
    {
      "cell_type": "code",
      "source": [
        "i = 0\n",
        "while i < 5:\n",
        "    # This block is executed, but nothing happens here\n",
        "    pass\n",
        "    i += 1\n",
        "\n",
        "print(\"While loop with pass completed.\")"
      ],
      "metadata": {
        "id": "wIAd89GbMKkM"
      },
      "execution_count": null,
      "outputs": []
    },
    {
      "cell_type": "code",
      "source": [
        "for i in range(5):\n",
        "    # This block is executed, but nothing happens here\n",
        "    pass\n",
        "\n",
        "print(\"For loop with pass completed.\")"
      ],
      "metadata": {
        "colab": {
          "base_uri": "https://localhost:8080/"
        },
        "id": "ukcu1RosR6JN",
        "outputId": "b8c69445-09a5-4242-e631-0716b7defa93"
      },
      "execution_count": 30,
      "outputs": [
        {
          "output_type": "stream",
          "name": "stdout",
          "text": [
            "For loop with pass completed.\n"
          ]
        }
      ]
    },
    {
      "cell_type": "markdown",
      "source": [
        "# Nested loop"
      ],
      "metadata": {
        "id": "P4-EXdeoNdQ7"
      }
    },
    {
      "cell_type": "code",
      "source": [
        "i = 0\n",
        "while i < 3:\n",
        "    j = 0\n",
        "    while j < 3:\n",
        "        print(f'i: {i}, j: {j}')\n",
        "        j += 1\n",
        "    i += 1"
      ],
      "metadata": {
        "colab": {
          "base_uri": "https://localhost:8080/"
        },
        "id": "QopIyBOMNcpS",
        "outputId": "ee075feb-c63b-41b1-cb50-9ba67c23c233"
      },
      "execution_count": 25,
      "outputs": [
        {
          "output_type": "stream",
          "name": "stdout",
          "text": [
            "i: 0, j: 0\n",
            "i: 0, j: 1\n",
            "i: 0, j: 2\n",
            "i: 1, j: 0\n",
            "i: 1, j: 1\n",
            "i: 1, j: 2\n",
            "i: 2, j: 0\n",
            "i: 2, j: 1\n",
            "i: 2, j: 2\n"
          ]
        }
      ]
    },
    {
      "cell_type": "code",
      "source": [
        "for i in range(3):\n",
        "    for j in range(3):\n",
        "        print(f'i: {i}, j: {j}')"
      ],
      "metadata": {
        "colab": {
          "base_uri": "https://localhost:8080/"
        },
        "id": "N7Lq5LdOR_e_",
        "outputId": "b551d20a-2985-4b2b-dca9-9d371057de2e"
      },
      "execution_count": 31,
      "outputs": [
        {
          "output_type": "stream",
          "name": "stdout",
          "text": [
            "i: 0, j: 0\n",
            "i: 0, j: 1\n",
            "i: 0, j: 2\n",
            "i: 1, j: 0\n",
            "i: 1, j: 1\n",
            "i: 1, j: 2\n",
            "i: 2, j: 0\n",
            "i: 2, j: 1\n",
            "i: 2, j: 2\n"
          ]
        }
      ]
    },
    {
      "cell_type": "markdown",
      "source": [
        "# Loop else\n",
        "In Python, a loop can have an optional else clause. The else clause is executed when the loop finishes normally i.e. not by a break statement."
      ],
      "metadata": {
        "id": "4UWiGrdAOAsu"
      }
    },
    {
      "cell_type": "code",
      "source": [
        "i = 0\n",
        "while i < 5:\n",
        "  print(i)\n",
        "  i += 1\n",
        "else:\n",
        "  print(\"Loop completed normally\")"
      ],
      "metadata": {
        "colab": {
          "base_uri": "https://localhost:8080/"
        },
        "id": "J2eHFfgVNu3Z",
        "outputId": "4a400105-87fe-4b54-e0fb-e8a3ac2f6f62"
      },
      "execution_count": 16,
      "outputs": [
        {
          "output_type": "stream",
          "name": "stdout",
          "text": [
            "0\n",
            "1\n",
            "2\n",
            "3\n",
            "4\n",
            "Loop completed normally\n"
          ]
        }
      ]
    },
    {
      "cell_type": "code",
      "source": [
        "i = 0\n",
        "while i < 5:\n",
        "  print(i)\n",
        "  i += 1\n",
        "  if i == 3:\n",
        "    break\n",
        "else:\n",
        "  print(\"Loop completed normally\")"
      ],
      "metadata": {
        "colab": {
          "base_uri": "https://localhost:8080/"
        },
        "id": "voJUZ6iwOeXV",
        "outputId": "e6911eed-64bf-40cc-8f1a-3e59067f07d6"
      },
      "execution_count": 17,
      "outputs": [
        {
          "output_type": "stream",
          "name": "stdout",
          "text": [
            "0\n",
            "1\n",
            "2\n"
          ]
        }
      ]
    },
    {
      "cell_type": "code",
      "source": [
        "for i in range(5):\n",
        "  print(i)\n",
        "else:\n",
        "  print(\"Loop completed normally\")"
      ],
      "metadata": {
        "colab": {
          "base_uri": "https://localhost:8080/"
        },
        "id": "dZULHX2DOp72",
        "outputId": "9cedd75c-ce0b-4934-a9a9-da7c17f8eae2"
      },
      "execution_count": 32,
      "outputs": [
        {
          "output_type": "stream",
          "name": "stdout",
          "text": [
            "0\n",
            "1\n",
            "2\n",
            "3\n",
            "4\n",
            "Loop completed normally\n"
          ]
        }
      ]
    },
    {
      "cell_type": "code",
      "source": [
        "for i in range(5):\n",
        "  print(i)\n",
        "  if i == 3:\n",
        "    break\n",
        "else:\n",
        "  print(\"Loop completed normally\")\n"
      ],
      "metadata": {
        "colab": {
          "base_uri": "https://localhost:8080/"
        },
        "id": "VgSjeJ9sSMIb",
        "outputId": "0256bfd9-c550-4a85-b894-929855b4bf55"
      },
      "execution_count": 33,
      "outputs": [
        {
          "output_type": "stream",
          "name": "stdout",
          "text": [
            "0\n",
            "1\n",
            "2\n",
            "3\n"
          ]
        }
      ]
    }
  ]
}