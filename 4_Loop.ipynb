{
  "nbformat": 4,
  "nbformat_minor": 0,
  "metadata": {
    "colab": {
      "provenance": [],
      "authorship_tag": "ABX9TyPeyxVAAuQICl6x9hXXizt3",
      "include_colab_link": true
    },
    "kernelspec": {
      "name": "python3",
      "display_name": "Python 3"
    },
    "language_info": {
      "name": "python"
    }
  },
  "cells": [
    {
      "cell_type": "markdown",
      "metadata": {
        "id": "view-in-github",
        "colab_type": "text"
      },
      "source": [
        "<a href=\"https://colab.research.google.com/github/Nilanjan1210/Python-Programming-Basics-to-Advanced/blob/main/4_Loop.ipynb\" target=\"_parent\"><img src=\"https://colab.research.google.com/assets/colab-badge.svg\" alt=\"Open In Colab\"/></a>"
      ]
    },
    {
      "cell_type": "markdown",
      "source": [
        "# While Loop\n",
        "A While loop in Python is used to execute a block of code rpeatedly as long as a certain condition is True.\n"
      ],
      "metadata": {
        "id": "NVuBn8uDD9vf"
      }
    },
    {
      "cell_type": "code",
      "source": [
        "i = 0\n",
        "while i < 5 :\n",
        "  print(i)\n",
        "  i += 1"
      ],
      "metadata": {
        "colab": {
          "base_uri": "https://localhost:8080/"
        },
        "id": "655FhpQcD89G",
        "outputId": "1e35a8d8-16ae-4be9-9b8d-1f9549033a88"
      },
      "execution_count": 37,
      "outputs": [
        {
          "output_type": "stream",
          "name": "stdout",
          "text": [
            "0\n",
            "1\n",
            "2\n",
            "3\n",
            "4\n"
          ]
        }
      ]
    },
    {
      "cell_type": "markdown",
      "source": [
        "### Types of while loop\n",
        "- **Counter controlled loop** : Used a counter variable to control the number of iteration.\n",
        "- **Sentinel controlled loop** : Used a sentinel value to control the loop.\n",
        "- **Flag controlled loop** : Uesd a flag variable to control the loop."
      ],
      "metadata": {
        "id": "Qj7maTC-EmAy"
      }
    },
    {
      "cell_type": "code",
      "source": [
        "# While Loop with counter\n",
        "# This is a counter controlled loop as 'i' acts as a counter and the loop runs till 'i' reaches 5\n",
        "i = 10\n",
        "while i > 5 :\n",
        "  print(i)\n",
        "  i -= 1"
      ],
      "metadata": {
        "colab": {
          "base_uri": "https://localhost:8080/"
        },
        "id": "4CyqoDF7D85u",
        "outputId": "349502da-b57d-4729-cc5a-6aa305c3a329"
      },
      "execution_count": 38,
      "outputs": [
        {
          "output_type": "stream",
          "name": "stdout",
          "text": [
            "10\n",
            "9\n",
            "8\n",
            "7\n",
            "6\n"
          ]
        }
      ]
    },
    {
      "cell_type": "code",
      "source": [
        "## While loop with sentinel\n",
        "# This is a sentienl controlled loop as the loop runs until the user enters 'quit' as input\n",
        "input_val = ''\n",
        "while input_val != 'quit':\n",
        "  input_val = input('Enter something or type quit to exit : ')\n",
        "  print(input_val)"
      ],
      "metadata": {
        "colab": {
          "base_uri": "https://localhost:8080/"
        },
        "id": "-byIxsKpD815",
        "outputId": "2494545f-3ee3-4607-c25e-3f4612500a0e"
      },
      "execution_count": 39,
      "outputs": [
        {
          "output_type": "stream",
          "name": "stdout",
          "text": [
            "Enter something or type quit to exit : n\n",
            "n\n",
            "Enter something or type quit to exit : q\n",
            "q\n",
            "Enter something or type quit to exit : quit\n",
            "quit\n"
          ]
        }
      ]
    },
    {
      "cell_type": "code",
      "source": [
        "## While loop with flag\n",
        "# This is a flag controlled loop as the loop runs until 'flag' is True\n",
        "flag = True\n",
        "while flag:\n",
        "    user_input = input(\"Enter 'stop' to quit: \")\n",
        "    if user_input == 'stop':\n",
        "        flag = False\n",
        "    else:\n",
        "        print(\"You entered:\", user_input)"
      ],
      "metadata": {
        "colab": {
          "base_uri": "https://localhost:8080/"
        },
        "id": "-vpAHKHWD8uf",
        "outputId": "42d40932-7687-43b9-ff91-9143f3d08e4f"
      },
      "execution_count": 40,
      "outputs": [
        {
          "name": "stdout",
          "output_type": "stream",
          "text": [
            "Enter 'stop' to quit: so\n",
            "You entered: so\n",
            "Enter 'stop' to quit: qi\n",
            "You entered: qi\n",
            "Enter 'stop' to quit: no\n",
            "You entered: no\n",
            "Enter 'stop' to quit: quit\n",
            "You entered: quit\n",
            "Enter 'stop' to quit: stop\n"
          ]
        }
      ]
    },
    {
      "cell_type": "markdown",
      "source": [
        "### Common Pitfalls\n",
        "- **Infinite Loop** : Occurs when the condition is always true.\n",
        "- **Off-by-one-error** : Occurs when the loop iterates one more or one less time than intended."
      ],
      "metadata": {
        "id": "MmFDDwX9JfEe"
      }
    },
    {
      "cell_type": "markdown",
      "source": [
        "# Range Function\n",
        "The range() function in Python  generates a sequence of numbers that can be used in loop or other contexts.\n",
        "\n",
        "**Basic syntax of range() function:** *range(start=0, stop, step=1)*\n",
        "- start : the starting number of the sequence(inclusive). Default is 0.\n",
        "- stop: the ending number of the sequence. (exclusive)\n",
        "- step: the difference between each number in the sequence. Default is 1"
      ],
      "metadata": {
        "id": "WHGWKtEWOyXd"
      }
    },
    {
      "cell_type": "code",
      "source": [
        "print(range(9))\n",
        "# Output: 0 1 2 3 4 5 6 7 8"
      ],
      "metadata": {
        "colab": {
          "base_uri": "https://localhost:8080/"
        },
        "id": "Xve1vBxbQBwF",
        "outputId": "b34f237a-e86b-4808-892e-f38e772ced93"
      },
      "execution_count": 41,
      "outputs": [
        {
          "output_type": "stream",
          "name": "stdout",
          "text": [
            "range(0, 9)\n"
          ]
        }
      ]
    },
    {
      "cell_type": "code",
      "source": [
        "print(range(1,5))\n",
        "# Output: 1 2 3 4"
      ],
      "metadata": {
        "colab": {
          "base_uri": "https://localhost:8080/"
        },
        "id": "BrqKgTkDQBsq",
        "outputId": "0e7b5d66-934b-4e12-98da-0b29b42ddc13"
      },
      "execution_count": 42,
      "outputs": [
        {
          "output_type": "stream",
          "name": "stdout",
          "text": [
            "range(1, 5)\n"
          ]
        }
      ]
    },
    {
      "cell_type": "code",
      "source": [
        "print(range(1,6,2))\n",
        "# Output: 1 3 5"
      ],
      "metadata": {
        "colab": {
          "base_uri": "https://localhost:8080/"
        },
        "id": "6uaSmnD2QLE9",
        "outputId": "d5322b1e-47ff-4c5f-db34-3cd2e40c2e6a"
      },
      "execution_count": 43,
      "outputs": [
        {
          "output_type": "stream",
          "name": "stdout",
          "text": [
            "range(1, 6, 2)\n"
          ]
        }
      ]
    },
    {
      "cell_type": "markdown",
      "source": [
        "# For Loop\n",
        "A for loop in Python is used to iterate over a sequence (such as list, tuple, or string ) or other iterable objects."
      ],
      "metadata": {
        "id": "9fdvWCN5OskQ"
      }
    },
    {
      "cell_type": "code",
      "source": [
        "# Iterating over a string\n",
        "my_string = \"Nilanjan\"\n",
        "for char in my_string:\n",
        "  print(char)"
      ],
      "metadata": {
        "colab": {
          "base_uri": "https://localhost:8080/"
        },
        "id": "2Q0S-RVdOxe0",
        "outputId": "26f75d87-0d2b-41db-ed38-1cdd37edbc9f"
      },
      "execution_count": 44,
      "outputs": [
        {
          "output_type": "stream",
          "name": "stdout",
          "text": [
            "N\n",
            "i\n",
            "l\n",
            "a\n",
            "n\n",
            "j\n",
            "a\n",
            "n\n"
          ]
        }
      ]
    },
    {
      "cell_type": "code",
      "source": [
        "# Iterating over a dictionary\n",
        "my_dict = {\"a\": 1, \"b\": 2, \"c\": 3}\n",
        "for key, value in my_dict.items():\n",
        "  print(f\"Key: {key}, Value: {value}\")"
      ],
      "metadata": {
        "colab": {
          "base_uri": "https://localhost:8080/"
        },
        "id": "uunIt3wROxb2",
        "outputId": "69a4916b-7070-4b95-9f2f-2e6a3588a419"
      },
      "execution_count": 45,
      "outputs": [
        {
          "output_type": "stream",
          "name": "stdout",
          "text": [
            "Key: a, Value: 1\n",
            "Key: b, Value: 2\n",
            "Key: c, Value: 3\n"
          ]
        }
      ]
    },
    {
      "cell_type": "code",
      "source": [
        "# Iterating over a list\n",
        "my_list = [10, 20, 30]\n",
        "for item in my_list:\n",
        "  print(item)"
      ],
      "metadata": {
        "colab": {
          "base_uri": "https://localhost:8080/"
        },
        "id": "ZO0bRN2MOxZy",
        "outputId": "aaacb29f-59d2-40d1-9630-a13a6c0a1bcb"
      },
      "execution_count": 46,
      "outputs": [
        {
          "output_type": "stream",
          "name": "stdout",
          "text": [
            "10\n",
            "20\n",
            "30\n"
          ]
        }
      ]
    },
    {
      "cell_type": "code",
      "source": [
        "# Iterating over a range\n",
        "for i in range(5):\n",
        "  print(i)"
      ],
      "metadata": {
        "colab": {
          "base_uri": "https://localhost:8080/"
        },
        "id": "Ghctm3TsRSNG",
        "outputId": "7b440442-be4f-4849-b445-a3f34322e6a1"
      },
      "execution_count": 47,
      "outputs": [
        {
          "output_type": "stream",
          "name": "stdout",
          "text": [
            "0\n",
            "1\n",
            "2\n",
            "3\n",
            "4\n"
          ]
        }
      ]
    },
    {
      "cell_type": "code",
      "source": [
        "# Iterating over a range\n",
        "for i in range(1,10,3):\n",
        "  print(i)"
      ],
      "metadata": {
        "colab": {
          "base_uri": "https://localhost:8080/"
        },
        "id": "VwRaIPtRRSEX",
        "outputId": "d7d90734-303f-4b05-9fa9-e3104d452a6f"
      },
      "execution_count": 48,
      "outputs": [
        {
          "output_type": "stream",
          "name": "stdout",
          "text": [
            "1\n",
            "4\n",
            "7\n"
          ]
        }
      ]
    },
    {
      "cell_type": "code",
      "source": [
        "# Loop 5 times and print \"Hello\"\n",
        "for _ in range(5):\n",
        "  print(\"Hello\", _ )\n",
        "\n"
      ],
      "metadata": {
        "colab": {
          "base_uri": "https://localhost:8080/"
        },
        "id": "_O5w-cc6RSA1",
        "outputId": "0d7b3571-ccc8-40c2-cb50-fdd45c505118"
      },
      "execution_count": 49,
      "outputs": [
        {
          "output_type": "stream",
          "name": "stdout",
          "text": [
            "Hello 0\n",
            "Hello 1\n",
            "Hello 2\n",
            "Hello 3\n",
            "Hello 4\n"
          ]
        }
      ]
    },
    {
      "cell_type": "markdown",
      "source": [
        "# Break Statement\n",
        "The Break statement is used to exit a loop permaturely. When the breaak statement is encountered the loop is terminated and the program continues executing the code after the loop."
      ],
      "metadata": {
        "id": "aqdKD6UiKCuF"
      }
    },
    {
      "cell_type": "code",
      "source": [
        "i = 0\n",
        "while i < 10:\n",
        "  print(i)\n",
        "  if i == 5:\n",
        "    break  # Exit the loop when i is 5\n",
        "  i += 1\n",
        "\n",
        "print(\"Loop finished.\")"
      ],
      "metadata": {
        "colab": {
          "base_uri": "https://localhost:8080/"
        },
        "id": "Ri-wSHa0D8rE",
        "outputId": "9a72fa52-9515-43d5-ee8b-bd8c86e8100e"
      },
      "execution_count": 50,
      "outputs": [
        {
          "output_type": "stream",
          "name": "stdout",
          "text": [
            "0\n",
            "1\n",
            "2\n",
            "3\n",
            "4\n",
            "5\n",
            "Loop finished.\n"
          ]
        }
      ]
    },
    {
      "cell_type": "code",
      "source": [
        "for i in range(10):\n",
        "  if i == 5:\n",
        "    break # Exit the loop when i is 5\n",
        "  print(i)\n",
        "\n",
        "print(\"Loop finished.\")"
      ],
      "metadata": {
        "colab": {
          "base_uri": "https://localhost:8080/"
        },
        "id": "_GXFokFcRu1S",
        "outputId": "edc7a4d9-a349-414d-d566-243fd8eb9aeb"
      },
      "execution_count": 51,
      "outputs": [
        {
          "output_type": "stream",
          "name": "stdout",
          "text": [
            "0\n",
            "1\n",
            "2\n",
            "3\n",
            "4\n",
            "Loop finished.\n"
          ]
        }
      ]
    },
    {
      "cell_type": "markdown",
      "source": [
        "# Continue Statement\n",
        "\n",
        "The continue statement is used to skip to the next iteration of a loop. when the continue statement is encountered, the curent iteration is terminated and the program countinues with next iteration."
      ],
      "metadata": {
        "id": "AwB95DPXLc0b"
      }
    },
    {
      "cell_type": "code",
      "source": [
        "# print odd number between 1 to 10\n",
        "i = 0\n",
        "while i < 10:\n",
        "    i += 1\n",
        "    if i%2==0:\n",
        "        continue\n",
        "    print(i)\n",
        ""
      ],
      "metadata": {
        "colab": {
          "base_uri": "https://localhost:8080/"
        },
        "id": "q_Hid9ecLZUh",
        "outputId": "f82df9d7-dff9-4674-f02b-3574ad058f4f"
      },
      "execution_count": 52,
      "outputs": [
        {
          "output_type": "stream",
          "name": "stdout",
          "text": [
            "1\n",
            "3\n",
            "5\n",
            "7\n",
            "9\n"
          ]
        }
      ]
    },
    {
      "cell_type": "code",
      "source": [
        "for i in range(10):\n",
        "    if i%2==0:\n",
        "        continue\n",
        "    print(i)"
      ],
      "metadata": {
        "colab": {
          "base_uri": "https://localhost:8080/"
        },
        "id": "B7ToIFClR3nT",
        "outputId": "6d32dfac-f3dc-493d-8f0b-255466e39517"
      },
      "execution_count": 53,
      "outputs": [
        {
          "output_type": "stream",
          "name": "stdout",
          "text": [
            "1\n",
            "3\n",
            "5\n",
            "7\n",
            "9\n"
          ]
        }
      ]
    },
    {
      "cell_type": "markdown",
      "source": [
        "# Pass Statement\n",
        "The pass statement in Python is a placeholder statement that does nothing. It is used when a statement is required syntactically, but no execution of code is necessary."
      ],
      "metadata": {
        "id": "_PQRa3GXMxpq"
      }
    },
    {
      "cell_type": "code",
      "source": [
        "i = 0\n",
        "while i < 5:\n",
        "    # This block is executed, but nothing happens here\n",
        "    pass\n",
        "    i += 1\n",
        "\n",
        "print(\"While loop with pass completed.\")"
      ],
      "metadata": {
        "colab": {
          "base_uri": "https://localhost:8080/"
        },
        "id": "wIAd89GbMKkM",
        "outputId": "543fe302-04a9-47bc-a1c6-208d482f6d52"
      },
      "execution_count": 54,
      "outputs": [
        {
          "output_type": "stream",
          "name": "stdout",
          "text": [
            "While loop with pass completed.\n"
          ]
        }
      ]
    },
    {
      "cell_type": "code",
      "source": [
        "for i in range(5):\n",
        "    # This block is executed, but nothing happens here\n",
        "    pass\n",
        "\n",
        "print(\"For loop with pass completed.\")"
      ],
      "metadata": {
        "colab": {
          "base_uri": "https://localhost:8080/"
        },
        "id": "ukcu1RosR6JN",
        "outputId": "420f22f6-2983-46f9-96c7-94f56f203d2a"
      },
      "execution_count": 55,
      "outputs": [
        {
          "output_type": "stream",
          "name": "stdout",
          "text": [
            "For loop with pass completed.\n"
          ]
        }
      ]
    },
    {
      "cell_type": "markdown",
      "source": [
        "# Nested loop"
      ],
      "metadata": {
        "id": "P4-EXdeoNdQ7"
      }
    },
    {
      "cell_type": "code",
      "source": [
        "i = 0\n",
        "while i < 3:\n",
        "    j = 0\n",
        "    while j < 3:\n",
        "        print(f'i: {i}, j: {j}')\n",
        "        j += 1\n",
        "    i += 1"
      ],
      "metadata": {
        "colab": {
          "base_uri": "https://localhost:8080/"
        },
        "id": "QopIyBOMNcpS",
        "outputId": "37e4096e-7c13-425a-994c-32bd7cc4ce6a"
      },
      "execution_count": 56,
      "outputs": [
        {
          "output_type": "stream",
          "name": "stdout",
          "text": [
            "i: 0, j: 0\n",
            "i: 0, j: 1\n",
            "i: 0, j: 2\n",
            "i: 1, j: 0\n",
            "i: 1, j: 1\n",
            "i: 1, j: 2\n",
            "i: 2, j: 0\n",
            "i: 2, j: 1\n",
            "i: 2, j: 2\n"
          ]
        }
      ]
    },
    {
      "cell_type": "code",
      "source": [
        "for i in range(3):\n",
        "    for j in range(3):\n",
        "        print(f'i: {i}, j: {j}')"
      ],
      "metadata": {
        "colab": {
          "base_uri": "https://localhost:8080/"
        },
        "id": "N7Lq5LdOR_e_",
        "outputId": "88f6b7dc-2c1f-4962-8e88-91a8788cbe34"
      },
      "execution_count": 57,
      "outputs": [
        {
          "output_type": "stream",
          "name": "stdout",
          "text": [
            "i: 0, j: 0\n",
            "i: 0, j: 1\n",
            "i: 0, j: 2\n",
            "i: 1, j: 0\n",
            "i: 1, j: 1\n",
            "i: 1, j: 2\n",
            "i: 2, j: 0\n",
            "i: 2, j: 1\n",
            "i: 2, j: 2\n"
          ]
        }
      ]
    },
    {
      "cell_type": "markdown",
      "source": [
        "# Loop else\n",
        "In Python, a loop can have an optional else clause. The else clause is executed when the loop finishes normally i.e. not by a break statement."
      ],
      "metadata": {
        "id": "4UWiGrdAOAsu"
      }
    },
    {
      "cell_type": "code",
      "source": [
        "i = 0\n",
        "while i < 5:\n",
        "  print(i)\n",
        "  i += 1\n",
        "else:\n",
        "  print(\"Loop completed normally\")"
      ],
      "metadata": {
        "colab": {
          "base_uri": "https://localhost:8080/"
        },
        "id": "J2eHFfgVNu3Z",
        "outputId": "24420f26-3b03-4166-be9f-b07aa5455209"
      },
      "execution_count": 58,
      "outputs": [
        {
          "output_type": "stream",
          "name": "stdout",
          "text": [
            "0\n",
            "1\n",
            "2\n",
            "3\n",
            "4\n",
            "Loop completed normally\n"
          ]
        }
      ]
    },
    {
      "cell_type": "code",
      "source": [
        "i = 0\n",
        "while i < 5:\n",
        "  print(i)\n",
        "  i += 1\n",
        "  if i == 3:\n",
        "    break\n",
        "else:\n",
        "  print(\"Loop completed normally\")"
      ],
      "metadata": {
        "colab": {
          "base_uri": "https://localhost:8080/"
        },
        "id": "voJUZ6iwOeXV",
        "outputId": "e999f5cc-71af-4390-d7b3-60c40a69775a"
      },
      "execution_count": 59,
      "outputs": [
        {
          "output_type": "stream",
          "name": "stdout",
          "text": [
            "0\n",
            "1\n",
            "2\n"
          ]
        }
      ]
    },
    {
      "cell_type": "code",
      "source": [
        "for i in range(5):\n",
        "  print(i)\n",
        "else:\n",
        "  print(\"Loop completed normally\")"
      ],
      "metadata": {
        "colab": {
          "base_uri": "https://localhost:8080/"
        },
        "id": "dZULHX2DOp72",
        "outputId": "c03e15f7-2e6d-493e-80cd-f16d48b64685"
      },
      "execution_count": 60,
      "outputs": [
        {
          "output_type": "stream",
          "name": "stdout",
          "text": [
            "0\n",
            "1\n",
            "2\n",
            "3\n",
            "4\n",
            "Loop completed normally\n"
          ]
        }
      ]
    },
    {
      "cell_type": "code",
      "source": [
        "for i in range(5):\n",
        "  print(i)\n",
        "  if i == 3:\n",
        "    break\n",
        "else:\n",
        "  print(\"Loop completed normally\")\n"
      ],
      "metadata": {
        "colab": {
          "base_uri": "https://localhost:8080/"
        },
        "id": "VgSjeJ9sSMIb",
        "outputId": "42b3142e-fc99-44d7-cb3f-e9427890df7d"
      },
      "execution_count": 61,
      "outputs": [
        {
          "output_type": "stream",
          "name": "stdout",
          "text": [
            "0\n",
            "1\n",
            "2\n",
            "3\n"
          ]
        }
      ]
    },
    {
      "cell_type": "code",
      "source": [],
      "metadata": {
        "id": "Y8UeL-qqTFRV"
      },
      "execution_count": 61,
      "outputs": []
    }
  ]
}