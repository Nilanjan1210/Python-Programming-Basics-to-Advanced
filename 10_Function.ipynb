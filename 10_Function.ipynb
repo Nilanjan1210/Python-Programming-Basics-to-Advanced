{
  "nbformat": 4,
  "nbformat_minor": 0,
  "metadata": {
    "colab": {
      "provenance": [],
      "authorship_tag": "ABX9TyMf2x6quvijaXbLiP8HE9mY",
      "include_colab_link": true
    },
    "kernelspec": {
      "name": "python3",
      "display_name": "Python 3"
    },
    "language_info": {
      "name": "python"
    }
  },
  "cells": [
    {
      "cell_type": "markdown",
      "metadata": {
        "id": "view-in-github",
        "colab_type": "text"
      },
      "source": [
        "<a href=\"https://colab.research.google.com/github/Nilanjan1210/Python-Programming-Basics-to-Advanced/blob/main/10_Function.ipynb\" target=\"_parent\"><img src=\"https://colab.research.google.com/assets/colab-badge.svg\" alt=\"Open In Colab\"/></a>"
      ]
    },
    {
      "cell_type": "markdown",
      "source": [
        "# Function\n",
        "\n",
        "Function is a block of code that can be executed multiple time from different parts of our program. It's a way to group related statements trgether to perform a specific task."
      ],
      "metadata": {
        "id": "qOBp542mkNM1"
      }
    },
    {
      "cell_type": "code",
      "execution_count": 1,
      "metadata": {
        "colab": {
          "base_uri": "https://localhost:8080/"
        },
        "id": "bHHeft29UK9u",
        "outputId": "70d642b7-136a-451e-dadb-0cbfb05dcfba"
      },
      "outputs": [
        {
          "output_type": "stream",
          "name": "stdout",
          "text": [
            "This is my function.\n"
          ]
        }
      ],
      "source": [
        "def my_function():\n",
        "  print(\"This is my function.\")\n",
        "\n",
        "my_function()"
      ]
    },
    {
      "cell_type": "markdown",
      "source": [
        "- **Built-in Function** : Per defien function that are part of the Python standard library. such as `print()`, `len()`, `range()`, `type()` etc.\n",
        "- **User-defined Function** :Custom function created by the user to perform specific tasks. like `my_function()`\n",
        "\n",
        "```\n",
        "def my_function():\n",
        "  print(\"This is my function.\")\n",
        "```\n",
        "\n"
      ],
      "metadata": {
        "id": "6sfdu2kClb7g"
      }
    },
    {
      "cell_type": "code",
      "source": [
        "# Function to greet a person\n",
        "def greet(name):\n",
        "  print(f\"Hello, {name}!\")\n",
        "\n",
        "# Call the greet function\n",
        "greet(\"Nilanjan\")"
      ],
      "metadata": {
        "colab": {
          "base_uri": "https://localhost:8080/"
        },
        "id": "0MSJvW7wlYvZ",
        "outputId": "954525a9-3ecc-4a25-eced-cf3c7c269264"
      },
      "execution_count": 2,
      "outputs": [
        {
          "output_type": "stream",
          "name": "stdout",
          "text": [
            "Hello, Nilanjan!\n"
          ]
        }
      ]
    },
    {
      "cell_type": "code",
      "source": [
        "# function add two number\n",
        "def add(a,b):\n",
        "  return a+b\n",
        "\n",
        "add(2,3)"
      ],
      "metadata": {
        "colab": {
          "base_uri": "https://localhost:8080/"
        },
        "id": "GbzPhEV1mriT",
        "outputId": "f1e0f889-e2c2-4e8d-ad8d-123fb1f461f8"
      },
      "execution_count": 3,
      "outputs": [
        {
          "output_type": "execute_result",
          "data": {
            "text/plain": [
              "5"
            ]
          },
          "metadata": {},
          "execution_count": 3
        }
      ]
    },
    {
      "cell_type": "markdown",
      "source": [
        "# Function Arguments\n",
        "Function arguments are the values you pass to a function when calling it. They allow you to provide input so the function can perform its task.\n",
        "- **Positional Arguments** :These are passed in the correct order.\n",
        "\n",
        "- **Keyword Arguments** : You specify which value goes to which parameter by name.\n",
        "\n",
        "- **Default Arguments** : You can assign a default value to a parameter. If no argument is provided, the default is used.\n",
        "\n",
        "- **Variable-Length Arguments** (\\*args, \\*\\*kwargs) :\n",
        "    - `*args` → Non-keyword variable-length (tuple of values)\n",
        "    - `**kwargs` → Keyword variable-length (dictionary of key-value pairs)\n",
        "\n",
        "\n",
        "\n",
        "\n"
      ],
      "metadata": {
        "id": "_FuMUEvgXfy_"
      }
    },
    {
      "cell_type": "code",
      "source": [
        "# Positional Arguments\n",
        "# These are passed in the correct order.\n",
        "def greet(name, age):\n",
        "    print(f\"Hello {name}, you are {age} years old.\")\n",
        "\n",
        "greet(\"Nilanjan\", 25)\n"
      ],
      "metadata": {
        "colab": {
          "base_uri": "https://localhost:8080/"
        },
        "id": "4esVNemaXMV_",
        "outputId": "7858a3e7-ef68-40e1-8976-064f082d151b"
      },
      "execution_count": 4,
      "outputs": [
        {
          "output_type": "stream",
          "name": "stdout",
          "text": [
            "Hello Nilanjan, you are 25 years old.\n"
          ]
        }
      ]
    },
    {
      "cell_type": "code",
      "source": [
        "# Keyword Arguments\n",
        "# You specify which value goes to which parameter by name.\n",
        "\n",
        "greet(age= 25, name='Soumya')"
      ],
      "metadata": {
        "colab": {
          "base_uri": "https://localhost:8080/"
        },
        "id": "OR5OAd5OaqM1",
        "outputId": "71f002bb-27a0-4cfe-a8ec-f8c415cad1cf"
      },
      "execution_count": 5,
      "outputs": [
        {
          "output_type": "stream",
          "name": "stdout",
          "text": [
            "Hello Soumya, you are 25 years old.\n"
          ]
        }
      ]
    },
    {
      "cell_type": "code",
      "source": [
        "# Default Arguments\n",
        "# You can assign a default value to a parameter. If no argument is provided, the default is used.\n",
        "def greet(name= 'Nilanjan', age=25):\n",
        "    print(f\"Hello {name}, you are {age} years old.\")\n",
        "\n",
        "greet()\n",
        "greet(\"soumya\", 30)\n",
        "greet('priya')\n",
        "\n",
        "\n"
      ],
      "metadata": {
        "colab": {
          "base_uri": "https://localhost:8080/"
        },
        "id": "m-cM5p1Ia7R-",
        "outputId": "ee3fb83c-1088-4b66-c0c9-4d0d2d6f77c0"
      },
      "execution_count": 6,
      "outputs": [
        {
          "output_type": "stream",
          "name": "stdout",
          "text": [
            "Hello Nilanjan, you are 25 years old.\n",
            "Hello soumya, you are 30 years old.\n",
            "Hello priya, you are 25 years old.\n"
          ]
        }
      ]
    },
    {
      "cell_type": "code",
      "source": [
        "# *args → Non-keyword variable-length (tuple of values)\n",
        "def print_numbers(*numbers):\n",
        "    for number in numbers:\n",
        "        print(number)\n",
        "print_numbers(1, 2, 3, 4)"
      ],
      "metadata": {
        "colab": {
          "base_uri": "https://localhost:8080/"
        },
        "id": "HKoRxjUNbRZO",
        "outputId": "6a1dc278-7f81-4350-dfb9-b63dde4290df"
      },
      "execution_count": 7,
      "outputs": [
        {
          "output_type": "stream",
          "name": "stdout",
          "text": [
            "1\n",
            "2\n",
            "3\n",
            "4\n"
          ]
        }
      ]
    },
    {
      "cell_type": "code",
      "source": [
        "# sum of all numbers\n",
        "def add_numbers(*args):\n",
        "    print(sum(args))\n",
        "\n",
        "add_numbers(1, 2, 3, 4)"
      ],
      "metadata": {
        "colab": {
          "base_uri": "https://localhost:8080/"
        },
        "id": "IdjGBBJdbm2N",
        "outputId": "e16f5c15-d3ce-44f5-f26e-9f6bc594c25a"
      },
      "execution_count": 8,
      "outputs": [
        {
          "output_type": "stream",
          "name": "stdout",
          "text": [
            "10\n"
          ]
        }
      ]
    },
    {
      "cell_type": "code",
      "source": [
        "def print_details(**kwargs):\n",
        "    for key,value in kwargs.items():\n",
        "        print(f\"{key}:{value}\")\n",
        "print_details(Name='Nilanjan', Age=25, City='Kolkata')"
      ],
      "metadata": {
        "colab": {
          "base_uri": "https://localhost:8080/"
        },
        "id": "_YY7lT56b58_",
        "outputId": "9335ffc7-3ff4-4ebe-bb32-6e91ff3cf78d"
      },
      "execution_count": 9,
      "outputs": [
        {
          "output_type": "stream",
          "name": "stdout",
          "text": [
            "Name:Nilanjan\n",
            "Age:25\n",
            "City:Kolkata\n"
          ]
        }
      ]
    },
    {
      "cell_type": "code",
      "source": [
        "def print_details(*args,**kwargs):\n",
        "    for val in args:\n",
        "        print(f\"Positional arument : {val}\")\n",
        "\n",
        "    for key,value in kwargs.items():\n",
        "        print(f\"{key}:{value}\")\n",
        "\n",
        "print_details(1,6.1,\"hello\",True,Name='Nilanjan', Age=25, City='Kolkata')"
      ],
      "metadata": {
        "colab": {
          "base_uri": "https://localhost:8080/"
        },
        "id": "6LPq2KD_cJeJ",
        "outputId": "16d3399f-d44d-4788-eb62-4f0e8ea144aa"
      },
      "execution_count": 10,
      "outputs": [
        {
          "output_type": "stream",
          "name": "stdout",
          "text": [
            "Positional arument : 1\n",
            "Positional arument : 6.1\n",
            "Positional arument : hello\n",
            "Positional arument : True\n",
            "Name:Nilanjan\n",
            "Age:25\n",
            "City:Kolkata\n"
          ]
        }
      ]
    },
    {
      "cell_type": "markdown",
      "source": [
        "# Return Statements\n",
        "The return statement is used in a function to send a value back to the caller. It ends the function and optionally passes back an expression or value.\n",
        "\n",
        "\n",
        "Syntax:\n",
        "```\n",
        "def function_name():\n",
        "    return value\n",
        "```\n",
        "\n"
      ],
      "metadata": {
        "id": "_WAa87Kvdo7l"
      }
    },
    {
      "cell_type": "code",
      "source": [
        "# Return statements\n",
        "def multiply(a,b):\n",
        "    return a*b\n",
        "\n",
        "multiply(2,3)"
      ],
      "metadata": {
        "colab": {
          "base_uri": "https://localhost:8080/"
        },
        "id": "zW4FK8DUcghk",
        "outputId": "f531eb29-f49a-4148-ccd6-b3d74eccd25c"
      },
      "execution_count": 11,
      "outputs": [
        {
          "output_type": "execute_result",
          "data": {
            "text/plain": [
              "6"
            ]
          },
          "metadata": {},
          "execution_count": 11
        }
      ]
    },
    {
      "cell_type": "code",
      "source": [
        "def calculate(a, b):\n",
        "    return a + b, a * b\n",
        "\n",
        "sum_, product = calculate(2, 3)\n",
        "print(sum_)     # Output: 5\n",
        "print(product)  # Output: 6\n"
      ],
      "metadata": {
        "colab": {
          "base_uri": "https://localhost:8080/"
        },
        "id": "t3XZk-S5duyZ",
        "outputId": "bbd3071b-9742-4540-a214-6624d7e4681d"
      },
      "execution_count": 12,
      "outputs": [
        {
          "output_type": "stream",
          "name": "stdout",
          "text": [
            "5\n",
            "6\n"
          ]
        }
      ]
    },
    {
      "cell_type": "markdown",
      "source": [
        "# Lamba Function\n",
        "A lambda function is a small, anonymous function in Python. It's used to write quick, simple functions in a single line, especially when a full def function would be unnecessary.\n",
        "\n",
        "Syntax:\n",
        "\n",
        "```\n",
        "lambda arguments: expression\n",
        "```\n",
        "Limitations of Lambda:\n",
        "- Can only have one expression\n",
        "- Cannot contain statements (like loops, if, return, etc.)\n",
        "- Best for simple operation\n",
        "\n"
      ],
      "metadata": {
        "id": "po0Ftvd4d7Fr"
      }
    },
    {
      "cell_type": "code",
      "source": [
        "# addition two number\n",
        "add = lambda x, y: x + y\n",
        "print(add(2, 3))\n"
      ],
      "metadata": {
        "colab": {
          "base_uri": "https://localhost:8080/"
        },
        "id": "bzHE4_3sdx8B",
        "outputId": "dfc8d41f-ccc1-46f7-de56-7c3c427b8816"
      },
      "execution_count": 13,
      "outputs": [
        {
          "output_type": "stream",
          "name": "stdout",
          "text": [
            "5\n"
          ]
        }
      ]
    },
    {
      "cell_type": "code",
      "source": [
        "# Square of a number\n",
        "square = lambda x: x * x\n",
        "print(square(4))\n"
      ],
      "metadata": {
        "colab": {
          "base_uri": "https://localhost:8080/"
        },
        "id": "u6kzHyo2e8ba",
        "outputId": "814f17eb-8d49-4a1d-b203-a956a7f0f29e"
      },
      "execution_count": 14,
      "outputs": [
        {
          "output_type": "stream",
          "name": "stdout",
          "text": [
            "16\n"
          ]
        }
      ]
    },
    {
      "cell_type": "code",
      "source": [
        "nums = [1, 2, 3, 4]\n",
        "squares = list(map(lambda x: x**2, nums))\n",
        "print(squares)"
      ],
      "metadata": {
        "colab": {
          "base_uri": "https://localhost:8080/"
        },
        "id": "lOTIXwXofKy3",
        "outputId": "4529f253-e3a6-4a12-e640-95801213ca1d"
      },
      "execution_count": 15,
      "outputs": [
        {
          "output_type": "stream",
          "name": "stdout",
          "text": [
            "[1, 4, 9, 16]\n"
          ]
        }
      ]
    },
    {
      "cell_type": "code",
      "source": [
        "nums = [1, 2, 3, 4, 5]\n",
        "even = list(filter(lambda x: x % 2 == 0, nums))\n",
        "print(even)"
      ],
      "metadata": {
        "colab": {
          "base_uri": "https://localhost:8080/"
        },
        "id": "IyU4zxNHfSMP",
        "outputId": "9e26d8d1-5309-4a1c-83dc-a43e63a8d5b5"
      },
      "execution_count": 16,
      "outputs": [
        {
          "output_type": "stream",
          "name": "stdout",
          "text": [
            "[2, 4]\n"
          ]
        }
      ]
    },
    {
      "cell_type": "code",
      "source": [
        "names = ['Nilanjan', 'Ram', 'Priya', 'Soumya']\n",
        "names_sorted = sorted(names, key=lambda x: len(x))\n",
        "print(names_sorted)"
      ],
      "metadata": {
        "colab": {
          "base_uri": "https://localhost:8080/"
        },
        "id": "fhy-C6o1fTAu",
        "outputId": "d103825b-47cd-46f5-81aa-6486d1527dee"
      },
      "execution_count": 17,
      "outputs": [
        {
          "output_type": "stream",
          "name": "stdout",
          "text": [
            "['Ram', 'Priya', 'Soumya', 'Nilanjan']\n"
          ]
        }
      ]
    },
    {
      "cell_type": "markdown",
      "source": [
        "# Recursive Function\n",
        "A recursive function is a function that calls itself to solve a problem by breaking it down into smaller, simpler subproblems.\n",
        "\n",
        "It must have:\n",
        "- A base case – the condition under which the function stops calling itself.\n",
        "\n",
        "- A recursive case – the part where the function calls itself with modified arguments."
      ],
      "metadata": {
        "id": "M4vxK9g-foK4"
      }
    },
    {
      "cell_type": "code",
      "source": [
        "# Factorial using Recursion\n",
        "\n",
        "# n! = n × (n-1) × (n-2) × ... × 1\n",
        "\n",
        "def factorial(n):\n",
        "    if n == 0 or n == 1:  # base case\n",
        "        return 1\n",
        "    else:\n",
        "        return n * factorial(n - 1)  # recursive case\n",
        "\n",
        "print(factorial(5))\n"
      ],
      "metadata": {
        "colab": {
          "base_uri": "https://localhost:8080/"
        },
        "id": "j6LR7-IpfYrc",
        "outputId": "8031282c-bf7e-4984-b664-373da98d679d"
      },
      "execution_count": 18,
      "outputs": [
        {
          "output_type": "stream",
          "name": "stdout",
          "text": [
            "120\n"
          ]
        }
      ]
    },
    {
      "cell_type": "code",
      "source": [
        "# Fibonacci Sequence\n",
        "def fibonacci(n):\n",
        "    if n == 0:\n",
        "        return 0\n",
        "    elif n == 1:\n",
        "        return 1\n",
        "    else:\n",
        "        return fibonacci(n-1) + fibonacci(n-2)\n",
        "\n",
        "print(fibonacci(6))\n"
      ],
      "metadata": {
        "colab": {
          "base_uri": "https://localhost:8080/"
        },
        "id": "WHkm0xDLgHjR",
        "outputId": "5496356e-9109-4795-ccbd-a9ded2fee20a"
      },
      "execution_count": 19,
      "outputs": [
        {
          "output_type": "stream",
          "name": "stdout",
          "text": [
            "8\n"
          ]
        }
      ]
    },
    {
      "cell_type": "code",
      "source": [],
      "metadata": {
        "id": "De8_hXrcgQmG"
      },
      "execution_count": 19,
      "outputs": []
    }
  ]
}