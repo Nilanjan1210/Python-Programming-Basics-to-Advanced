{
  "nbformat": 4,
  "nbformat_minor": 0,
  "metadata": {
    "colab": {
      "provenance": [],
      "authorship_tag": "ABX9TyPaFDBXlmC8m/EE/5hIS6tI",
      "include_colab_link": true
    },
    "kernelspec": {
      "name": "python3",
      "display_name": "Python 3"
    },
    "language_info": {
      "name": "python"
    }
  },
  "cells": [
    {
      "cell_type": "markdown",
      "metadata": {
        "id": "view-in-github",
        "colab_type": "text"
      },
      "source": [
        "<a href=\"https://colab.research.google.com/github/Nilanjan1210/Python-Programming-Basics-to-Advanced/blob/main/10_Function.ipynb\" target=\"_parent\"><img src=\"https://colab.research.google.com/assets/colab-badge.svg\" alt=\"Open In Colab\"/></a>"
      ]
    },
    {
      "cell_type": "markdown",
      "source": [
        "# Function\n",
        "\n",
        "Function is a block of code that can be executed multiple time from different parts of our program. It's a way to group related statements trgether to perform a specific task."
      ],
      "metadata": {
        "id": "qOBp542mkNM1"
      }
    },
    {
      "cell_type": "code",
      "execution_count": 1,
      "metadata": {
        "colab": {
          "base_uri": "https://localhost:8080/"
        },
        "id": "bHHeft29UK9u",
        "outputId": "966cee61-e37f-4a46-bef8-ad02214fe6be"
      },
      "outputs": [
        {
          "output_type": "stream",
          "name": "stdout",
          "text": [
            "This is my function.\n"
          ]
        }
      ],
      "source": [
        "def my_function():\n",
        "  print(\"This is my function.\")\n",
        "\n",
        "my_function()"
      ]
    },
    {
      "cell_type": "markdown",
      "source": [
        "- **Built-in Function** : Per defien function that are part of the Python standard library. such as `print()`, `len()`, `range()`, `type()` etc.\n",
        "- **User-defined Function** :Custom function created by the user to perform specific tasks. like `my_function()`\n",
        "\n",
        "```\n",
        "def my_function():\n",
        "  print(\"This is my function.\")\n",
        "```\n",
        "\n"
      ],
      "metadata": {
        "id": "6sfdu2kClb7g"
      }
    },
    {
      "cell_type": "code",
      "source": [
        "# Function to greet a person\n",
        "def greet(name):\n",
        "  print(f\"Hello, {name}!\")\n",
        "\n",
        "# Call the greet function\n",
        "greet(\"Nilanjan\")"
      ],
      "metadata": {
        "colab": {
          "base_uri": "https://localhost:8080/"
        },
        "id": "0MSJvW7wlYvZ",
        "outputId": "88d8180e-f9ef-40c4-d82f-ec490f95fd51"
      },
      "execution_count": 2,
      "outputs": [
        {
          "output_type": "stream",
          "name": "stdout",
          "text": [
            "Hello, Nilanjan!\n"
          ]
        }
      ]
    },
    {
      "cell_type": "code",
      "source": [],
      "metadata": {
        "id": "GbzPhEV1mriT"
      },
      "execution_count": null,
      "outputs": []
    }
  ]
}