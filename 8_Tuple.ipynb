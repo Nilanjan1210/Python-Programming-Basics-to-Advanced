{
  "nbformat": 4,
  "nbformat_minor": 0,
  "metadata": {
    "colab": {
      "provenance": [],
      "authorship_tag": "ABX9TyOc/7Atmz4LMnfYUWXP0cFt",
      "include_colab_link": true
    },
    "kernelspec": {
      "name": "python3",
      "display_name": "Python 3"
    },
    "language_info": {
      "name": "python"
    }
  },
  "cells": [
    {
      "cell_type": "markdown",
      "metadata": {
        "id": "view-in-github",
        "colab_type": "text"
      },
      "source": [
        "<a href=\"https://colab.research.google.com/github/Nilanjan1210/Python-Programming-Basics-to-Advanced/blob/main/8_Tuple.ipynb\" target=\"_parent\"><img src=\"https://colab.research.google.com/assets/colab-badge.svg\" alt=\"Open In Colab\"/></a>"
      ]
    },
    {
      "cell_type": "markdown",
      "source": [
        "# Tuple\n",
        "A tuple in Python is an ordered, immutable (unchangeable) collection of elements. It is used to store multiple items in a single variable, just like a list, but once created, you cannot modify (add, remove, or change) its elements."
      ],
      "metadata": {
        "id": "vIRp-lx2kYSq"
      }
    },
    {
      "cell_type": "code",
      "execution_count": 1,
      "metadata": {
        "colab": {
          "base_uri": "https://localhost:8080/"
        },
        "id": "LlysTs6_TuCb",
        "outputId": "e0b3d330-de23-47f6-e24f-a7830794ff5a"
      },
      "outputs": [
        {
          "output_type": "stream",
          "name": "stdout",
          "text": [
            "(1, 2, 3, 'apple', 'banana')\n",
            "<class 'tuple'>\n"
          ]
        }
      ],
      "source": [
        "# A tuple is defined using round brackets ()\n",
        "my_tuple = (1, 2, 3, 'apple', 'banana')\n",
        "print(my_tuple)\n",
        "print(type(my_tuple))\n"
      ]
    },
    {
      "cell_type": "code",
      "source": [
        "# we can also create a tuple without parentheses using commas:\n",
        "my_tuple = 1, 2, 3\n",
        "print(my_tuple)\n",
        "print(type(my_tuple))"
      ],
      "metadata": {
        "colab": {
          "base_uri": "https://localhost:8080/"
        },
        "id": "aClfaGr82cAC",
        "outputId": "0954eb15-490f-4ed5-a602-8abc815e4f6f"
      },
      "execution_count": 2,
      "outputs": [
        {
          "output_type": "stream",
          "name": "stdout",
          "text": [
            "(1, 2, 3)\n",
            "<class 'tuple'>\n"
          ]
        }
      ]
    },
    {
      "cell_type": "code",
      "source": [
        "# To create an empty tuple, we can use the `tuple()` constructor or empty parentheses `()`:\n",
        "empty_tuple = tuple()\n",
        "print(empty_tuple)\n",
        "print(type(empty_tuple))\n"
      ],
      "metadata": {
        "colab": {
          "base_uri": "https://localhost:8080/"
        },
        "id": "e3W02B2S6--c",
        "outputId": "8cd9934c-bd45-4ba7-dfd9-495b6c4c9ac8"
      },
      "execution_count": 3,
      "outputs": [
        {
          "output_type": "stream",
          "name": "stdout",
          "text": [
            "()\n",
            "<class 'tuple'>\n"
          ]
        }
      ]
    },
    {
      "cell_type": "code",
      "source": [
        "empty_tuple = ()\n",
        "print(empty_tuple)\n",
        "print(type(empty_tuple))"
      ],
      "metadata": {
        "colab": {
          "base_uri": "https://localhost:8080/"
        },
        "id": "dwf2d4ho7UnQ",
        "outputId": "d7463e4d-1e9b-48a7-da9c-5d048a2998bf"
      },
      "execution_count": 4,
      "outputs": [
        {
          "output_type": "stream",
          "name": "stdout",
          "text": [
            "()\n",
            "<class 'tuple'>\n"
          ]
        }
      ]
    },
    {
      "cell_type": "code",
      "source": [
        "# We can also convert other iterables (like lists, strings, etc.) to tuples using the `tuple()` function:\n",
        "my_list = [1, 2, 3, 4]\n",
        "list_to_tuple = tuple(my_list)\n",
        "print(list_to_tuple)"
      ],
      "metadata": {
        "colab": {
          "base_uri": "https://localhost:8080/"
        },
        "id": "lvQNYYyA7NOk",
        "outputId": "dd6465e8-af87-433a-f18d-2c9a534b4a63"
      },
      "execution_count": 5,
      "outputs": [
        {
          "output_type": "stream",
          "name": "stdout",
          "text": [
            "(1, 2, 3, 4)\n"
          ]
        }
      ]
    },
    {
      "cell_type": "code",
      "source": [
        "my_string = \"hello\"\n",
        "string_to_tuple = tuple(my_string)\n",
        "string_to_tuple"
      ],
      "metadata": {
        "colab": {
          "base_uri": "https://localhost:8080/"
        },
        "id": "HZiVlppZ7LAF",
        "outputId": "9a7485cb-2f3c-41f9-abd1-4feab1f7cf9a"
      },
      "execution_count": 6,
      "outputs": [
        {
          "output_type": "execute_result",
          "data": {
            "text/plain": [
              "('h', 'e', 'l', 'l', 'o')"
            ]
          },
          "metadata": {},
          "execution_count": 6
        }
      ]
    },
    {
      "cell_type": "code",
      "source": [
        "# For a single-item tuple, you must add a comma:\n",
        "single_item = (5,)  # This is a tuple\n",
        "print(single_item)\n",
        "print(type(single_item))\n",
        "not_a_tuple = (5)   # This is just an integer\n",
        "print(not_a_tuple)\n",
        "print(type(not_a_tuple))"
      ],
      "metadata": {
        "colab": {
          "base_uri": "https://localhost:8080/"
        },
        "id": "wMJWfC9R2m8K",
        "outputId": "5d592412-0a92-44af-efbe-bacbdb2b109d"
      },
      "execution_count": 7,
      "outputs": [
        {
          "output_type": "stream",
          "name": "stdout",
          "text": [
            "(5,)\n",
            "<class 'tuple'>\n",
            "5\n",
            "<class 'int'>\n"
          ]
        }
      ]
    },
    {
      "cell_type": "markdown",
      "source": [
        "# Tuple Packing and Unpacking\n"
      ],
      "metadata": {
        "id": "ZT6AXg4f3a5q"
      }
    },
    {
      "cell_type": "code",
      "source": [
        "# # Tuple Packing\n",
        "# Packing is creating a tuple from a sequence of values.\n",
        "packed_tuple = 10, 20, 30  # This automatically creates a tuple\n",
        "print(\"Packed tuple:\", packed_tuple,\"Type of Packed Tuple\" ,type(packed_tuple))\n",
        "\n",
        "# # Tuple Unpacking\n",
        "# Unpacking is the process of extracting values from a tuple and assigning them to individual variables.\n",
        "# The number of variables on the left side must match the number of elements in the tuple.\n",
        "a, b, c = packed_tuple\n",
        "print(\"Unpacked variables:\")\n",
        "print(\"a:\", a)\n",
        "print(\"b:\", b)\n",
        "print(\"c:\", c)\n"
      ],
      "metadata": {
        "colab": {
          "base_uri": "https://localhost:8080/"
        },
        "id": "BWmCDL072x52",
        "outputId": "25b9f6e2-e292-417c-c6c8-8c0209daa3ab"
      },
      "execution_count": 8,
      "outputs": [
        {
          "output_type": "stream",
          "name": "stdout",
          "text": [
            "Packed tuple: (10, 20, 30) Type of Packed Tuple <class 'tuple'>\n",
            "Unpacked variables:\n",
            "a: 10\n",
            "b: 20\n",
            "c: 30\n"
          ]
        }
      ]
    },
    {
      "cell_type": "code",
      "source": [
        "# Example with a different tuple\n",
        "student_info = (\"Nilanjan\", 25, \"Statistics\")\n",
        "name, age, major = student_info\n",
        "print(\"Student Info Unpacked:\")\n",
        "print(\"Name:\", name)\n",
        "print(\"Age:\", age)\n",
        "print(\"Major:\", major)\n"
      ],
      "metadata": {
        "colab": {
          "base_uri": "https://localhost:8080/"
        },
        "id": "KDajM5iQ3WOJ",
        "outputId": "aa63ca83-516d-417f-cf87-09010bbe6ab6"
      },
      "execution_count": 9,
      "outputs": [
        {
          "output_type": "stream",
          "name": "stdout",
          "text": [
            "Student Info Unpacked:\n",
            "Name: Nilanjan\n",
            "Age: 25\n",
            "Major: Statistics\n"
          ]
        }
      ]
    },
    {
      "cell_type": "code",
      "source": [
        "# Using the asterisk (*) to unpack partially (for the rest of the elements)\n",
        "numbers = (1, 2, 3, 4, 5, 6)\n",
        "first, *rest, last = numbers\n",
        "print(\"Partial Unpacking:\")\n",
        "print(\"First:\", first)\n",
        "print(\"Rest:\", rest) # 'rest' will be a list containing the remaining elements\n",
        "print(\"Last:\", last)\n"
      ],
      "metadata": {
        "colab": {
          "base_uri": "https://localhost:8080/"
        },
        "id": "Rc18Iuqd3WKv",
        "outputId": "0573f227-3bb9-4e3a-d2f9-3d302da318b6"
      },
      "execution_count": 10,
      "outputs": [
        {
          "output_type": "stream",
          "name": "stdout",
          "text": [
            "Partial Unpacking:\n",
            "First: 1\n",
            "Rest: [2, 3, 4, 5]\n",
            "Last: 6\n"
          ]
        }
      ]
    },
    {
      "cell_type": "markdown",
      "source": [
        "# Indexing and Slicing\n",
        "- Tuple indexing allows you to access individual elements in a tuple using their position (index). Indexing in Python starts at 0, meaning the first item is at index 0, the second at index 1, and so on.\n",
        "- Python also supports negative indexing, where -1 refers to the last item, -2 to the second last, etc."
      ],
      "metadata": {
        "id": "WZzLQR2f4TC9"
      }
    },
    {
      "cell_type": "code",
      "source": [
        "\n",
        "# Original tuple for indexing examples\n",
        "my_tuple_indexing = (10, 20, 30, 'apple', 'banana', 40, 50)\n",
        "\n",
        "# Accessing elements using positive indexing\n",
        "print(\"Element at index 0:\", my_tuple_indexing[0]) # 10\n",
        "print(\"Element at index 3:\", my_tuple_indexing[3]) # apple\n",
        "\n",
        "# Accessing elements using negative indexing\n",
        "print(\"Element at index -1 (last element):\", my_tuple_indexing[-1]) # 50\n",
        "print(\"Element at index -4:\", my_tuple_indexing[-4]) # apple"
      ],
      "metadata": {
        "colab": {
          "base_uri": "https://localhost:8080/"
        },
        "id": "ieVciCsZ4BV0",
        "outputId": "a4d95a24-c2e0-440c-bad6-898f94d43a90"
      },
      "execution_count": 11,
      "outputs": [
        {
          "output_type": "stream",
          "name": "stdout",
          "text": [
            "Element at index 0: 10\n",
            "Element at index 3: apple\n",
            "Element at index -1 (last element): 50\n",
            "Element at index -4: apple\n"
          ]
        }
      ]
    },
    {
      "cell_type": "code",
      "source": [
        "# Slicing\n",
        "# Slicing allows you to access a range of elements from a tuple.\n",
        "# It is done using the slicing syntax: [start:stop:step]\n",
        "# - start: The index where the slice begins (inclusive). If omitted, it defaults to the beginning of the tuple.\n",
        "# - stop: The index where the slice ends (exclusive). If omitted, it defaults to the end of the tuple.\n",
        "# - step: The step size for the slice (optional). If omitted, it defaults to 1.\n",
        "\n",
        "# Original tuple for slicing examples\n",
        "my_tuple_slicing = (10, 20, 30, 'apple', 'banana', 40, 50, 60, 70)"
      ],
      "metadata": {
        "id": "4MLRwzJV5ilL"
      },
      "execution_count": 12,
      "outputs": []
    },
    {
      "cell_type": "code",
      "source": [
        "# Slice from index 2 to index 5 (exclusive of 5)\n",
        "print(\"Slice from index 2 to 5:\", my_tuple_slicing[2:5]) # (30, 'apple', 'banana')"
      ],
      "metadata": {
        "colab": {
          "base_uri": "https://localhost:8080/"
        },
        "id": "DnIhWGE66E_Z",
        "outputId": "7f0f75b3-0b65-442d-a46b-af90f6d522e3"
      },
      "execution_count": 13,
      "outputs": [
        {
          "output_type": "stream",
          "name": "stdout",
          "text": [
            "Slice from index 2 to 5: (30, 'apple', 'banana')\n"
          ]
        }
      ]
    },
    {
      "cell_type": "code",
      "source": [
        "# Slice from the beginning to index 4 (exclusive of 4)\n",
        "print(\"Slice from beginning to index 4:\", my_tuple_slicing[:4]) # (10, 20, 30, 'apple')"
      ],
      "metadata": {
        "colab": {
          "base_uri": "https://localhost:8080/"
        },
        "id": "8RwxEDq76E7_",
        "outputId": "255acccc-775f-4dc3-fe45-7d2c9e2870c1"
      },
      "execution_count": 14,
      "outputs": [
        {
          "output_type": "stream",
          "name": "stdout",
          "text": [
            "Slice from beginning to index 4: (10, 20, 30, 'apple')\n"
          ]
        }
      ]
    },
    {
      "cell_type": "code",
      "source": [
        "# Slice from index 5 to the end\n",
        "print(\"Slice from index 5 to end:\", my_tuple_slicing[5:]) # (40, 50, 60, 70)"
      ],
      "metadata": {
        "colab": {
          "base_uri": "https://localhost:8080/"
        },
        "id": "J_sKn0KY6CgO",
        "outputId": "75a2ddb0-0785-4620-cd0c-b996798547fd"
      },
      "execution_count": 15,
      "outputs": [
        {
          "output_type": "stream",
          "name": "stdout",
          "text": [
            "Slice from index 5 to end: (40, 50, 60, 70)\n"
          ]
        }
      ]
    },
    {
      "cell_type": "code",
      "source": [
        "# Slice the entire tuple\n",
        "print(\"Slice of the entire tuple:\", my_tuple_slicing[:]) # (10, 20, 30, 'apple', 'banana', 40, 50, 60, 70)"
      ],
      "metadata": {
        "colab": {
          "base_uri": "https://localhost:8080/"
        },
        "id": "co8bkGgZ6Ccf",
        "outputId": "e19241b2-8b93-4401-a4c6-96e6ea6af49b"
      },
      "execution_count": 16,
      "outputs": [
        {
          "output_type": "stream",
          "name": "stdout",
          "text": [
            "Slice of the entire tuple: (10, 20, 30, 'apple', 'banana', 40, 50, 60, 70)\n"
          ]
        }
      ]
    },
    {
      "cell_type": "code",
      "source": [
        "# Slice with a step of 2\n",
        "print(\"Slice with step 2:\", my_tuple_slicing[::2]) # (10, 30, 'banana', 60)"
      ],
      "metadata": {
        "colab": {
          "base_uri": "https://localhost:8080/"
        },
        "id": "Qpxt-6-o57sF",
        "outputId": "17c8d0b5-f878-4964-ed4b-24c9a0db899f"
      },
      "execution_count": 17,
      "outputs": [
        {
          "output_type": "stream",
          "name": "stdout",
          "text": [
            "Slice with step 2: (10, 30, 'banana', 50, 70)\n"
          ]
        }
      ]
    },
    {
      "cell_type": "code",
      "source": [
        "# Slice from index 1 to 7 with a step of 3\n",
        "print(\"Slice from 1 to 7 with step 3:\", my_tuple_slicing[1:7:3]) # (20, 'banana')"
      ],
      "metadata": {
        "colab": {
          "base_uri": "https://localhost:8080/"
        },
        "id": "3CD_5oc757oq",
        "outputId": "9a245ad4-5b19-45d9-8d9d-1e28235c8868"
      },
      "execution_count": 18,
      "outputs": [
        {
          "output_type": "stream",
          "name": "stdout",
          "text": [
            "Slice from 1 to 7 with step 3: (20, 'banana')\n"
          ]
        }
      ]
    },
    {
      "cell_type": "code",
      "source": [
        "# Reverse the tuple using slicing\n",
        "print(\"Reversed tuple:\", my_tuple_slicing[::-1]) # (70, 60, 50, 40, 'banana', 'apple', 30, 20, 10)"
      ],
      "metadata": {
        "colab": {
          "base_uri": "https://localhost:8080/"
        },
        "id": "4-OwIB-757mX",
        "outputId": "c595723c-7f8f-4d44-a384-22d5d308b9df"
      },
      "execution_count": 19,
      "outputs": [
        {
          "output_type": "stream",
          "name": "stdout",
          "text": [
            "Reversed tuple: (70, 60, 50, 40, 'banana', 'apple', 30, 20, 10)\n"
          ]
        }
      ]
    },
    {
      "cell_type": "markdown",
      "source": [
        "# Tuple Concatenation"
      ],
      "metadata": {
        "id": "a3dTAwG66Z2g"
      }
    },
    {
      "cell_type": "code",
      "source": [
        "tuple1 = (1, 2, 3)\n",
        "tuple2 = ('a', 'b', 'c')\n",
        "concatenated_tuple = tuple1 + tuple2\n",
        "print(\"Concatenated tuple:\", concatenated_tuple)\n",
        "\n",
        "# You can concatenate any number of tuples\n",
        "tuple3 = (4, 5)\n",
        "another_concatenated_tuple = tuple1 + tuple2 + tuple3\n",
        "print(\"Another concatenated tuple:\", another_concatenated_tuple)"
      ],
      "metadata": {
        "colab": {
          "base_uri": "https://localhost:8080/"
        },
        "id": "11YkcCJQ6YVI",
        "outputId": "27cbce58-8035-435a-f20e-009d271cdba3"
      },
      "execution_count": 20,
      "outputs": [
        {
          "output_type": "stream",
          "name": "stdout",
          "text": [
            "Concatenated tuple: (1, 2, 3, 'a', 'b', 'c')\n",
            "Another concatenated tuple: (1, 2, 3, 'a', 'b', 'c', 4, 5)\n"
          ]
        }
      ]
    },
    {
      "cell_type": "markdown",
      "source": [
        "# Tuple Methods"
      ],
      "metadata": {
        "id": "SkcmLpam63l4"
      }
    },
    {
      "cell_type": "code",
      "source": [
        "# count()\n",
        "# This method returns the number of times a specified value occurs in a tuple.\n",
        "my_tuple_count = (1, 5, 2, 7, 5, 3, 5, 8)\n",
        "count_of_5 = my_tuple_count.count(5)\n",
        "print(f\"The number 5 appears {count_of_5} times in the tuple.\")\n",
        "count_of_10 = my_tuple_count.count(10)\n",
        "print(f\"The number 10 appears {count_of_10} times in the tuple.\")\n",
        "\n",
        "\n"
      ],
      "metadata": {
        "colab": {
          "base_uri": "https://localhost:8080/"
        },
        "id": "y8zrS0ou62mT",
        "outputId": "769f1440-d4a4-4d8f-88ec-0b69a398168f"
      },
      "execution_count": 21,
      "outputs": [
        {
          "output_type": "stream",
          "name": "stdout",
          "text": [
            "The number 5 appears 3 times in the tuple.\n",
            "The number 10 appears 0 times in the tuple.\n"
          ]
        }
      ]
    },
    {
      "cell_type": "code",
      "source": [
        "# index()\n",
        "# This method searches the tuple for a specified value and returns the position (index) of the first occurrence.\n",
        "# If the value is not found, it raises a ValueError.\n",
        "my_tuple_index = (10, 20, 30, 40, 20, 50)\n",
        "index_of_30 = my_tuple_index.index(30)\n",
        "print(f\"The first occurrence of 30 is at index: {index_of_30}\")\n",
        "# You can optionally specify a start and end index to search within a specific slice.\n",
        "index_of_20_after_index_2 = my_tuple_index.index(20,3) # Search for 20 starting from index 3\n",
        "print(f\"The first occurrence of 20 after index 2 is at index: {index_of_20_after_index_2}\")\n"
      ],
      "metadata": {
        "colab": {
          "base_uri": "https://localhost:8080/"
        },
        "id": "3aHaQVWS7l0x",
        "outputId": "a8722134-9d14-4738-d7ff-a0eec59cb40e"
      },
      "execution_count": 22,
      "outputs": [
        {
          "output_type": "stream",
          "name": "stdout",
          "text": [
            "The first occurrence of 30 is at index: 2\n",
            "The first occurrence of 20 after index 2 is at index: 4\n"
          ]
        }
      ]
    },
    {
      "cell_type": "code",
      "source": [
        "my_tuple_index = (10, 20, 30, 40, 20, 50)\n",
        "try:\n",
        "    my_tuple_index.index(100)\n",
        "except ValueError as e:\n",
        "    print(e)"
      ],
      "metadata": {
        "colab": {
          "base_uri": "https://localhost:8080/"
        },
        "id": "Glj05XfM7mSo",
        "outputId": "3f5d8254-99db-480e-fdf4-77ec7a39e2b9"
      },
      "execution_count": 23,
      "outputs": [
        {
          "output_type": "stream",
          "name": "stdout",
          "text": [
            "tuple.index(x): x not in tuple\n"
          ]
        }
      ]
    },
    {
      "cell_type": "markdown",
      "source": [
        "# Tuple Comperhension\n",
        "\n",
        "Python does not have something called **tuple comprehension** in the same way it has **list comprehensions**.\n",
        "\n"
      ],
      "metadata": {
        "id": "9DQ4U2kG8bI0"
      }
    },
    {
      "cell_type": "code",
      "source": [
        "t = (x for x in range(5))\n",
        "#  we're actually creating a generator object, not a tuple.\n",
        "print(t)\n",
        "# Use a list comprehension inside the tuple() constructor\n",
        "print(tuple(t))\n"
      ],
      "metadata": {
        "colab": {
          "base_uri": "https://localhost:8080/"
        },
        "id": "7x6x3AHs7yLR",
        "outputId": "ca2523ac-5afa-443a-9e53-3d9c5b4178b3"
      },
      "execution_count": 24,
      "outputs": [
        {
          "output_type": "stream",
          "name": "stdout",
          "text": [
            "<generator object <genexpr> at 0x7c6192ea2740>\n",
            "(0, 1, 2, 3, 4)\n"
          ]
        }
      ]
    },
    {
      "cell_type": "code",
      "source": [],
      "metadata": {
        "id": "h0EWqZQA8yhw"
      },
      "execution_count": 24,
      "outputs": []
    }
  ]
}