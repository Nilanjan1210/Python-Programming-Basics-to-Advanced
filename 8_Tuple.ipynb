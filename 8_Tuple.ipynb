{
  "nbformat": 4,
  "nbformat_minor": 0,
  "metadata": {
    "colab": {
      "provenance": [],
      "authorship_tag": "ABX9TyOTbwm8g7/NATnlttV867PW",
      "include_colab_link": true
    },
    "kernelspec": {
      "name": "python3",
      "display_name": "Python 3"
    },
    "language_info": {
      "name": "python"
    }
  },
  "cells": [
    {
      "cell_type": "markdown",
      "metadata": {
        "id": "view-in-github",
        "colab_type": "text"
      },
      "source": [
        "<a href=\"https://colab.research.google.com/github/Nilanjan1210/Python-Programming-Basics-to-Advanced/blob/main/8_Tuple.ipynb\" target=\"_parent\"><img src=\"https://colab.research.google.com/assets/colab-badge.svg\" alt=\"Open In Colab\"/></a>"
      ]
    },
    {
      "cell_type": "markdown",
      "source": [
        "# Tuple\n",
        "A tuple in Python is an ordered, immutable (unchangeable) collection of elements. It is used to store multiple items in a single variable, just like a list, but once created, you cannot modify (add, remove, or change) its elements."
      ],
      "metadata": {
        "id": "vIRp-lx2kYSq"
      }
    },
    {
      "cell_type": "code",
      "execution_count": 1,
      "metadata": {
        "colab": {
          "base_uri": "https://localhost:8080/"
        },
        "id": "LlysTs6_TuCb",
        "outputId": "0d27cd6a-64a8-4edf-c39a-44463cc03690"
      },
      "outputs": [
        {
          "output_type": "stream",
          "name": "stdout",
          "text": [
            "(1, 2, 3, 'apple', 'banana')\n",
            "<class 'tuple'>\n"
          ]
        }
      ],
      "source": [
        "# A tuple is defined using round brackets ()\n",
        "my_tuple = (1, 2, 3, 'apple', 'banana')\n",
        "print(my_tuple)\n",
        "print(type(my_tuple))\n"
      ]
    },
    {
      "cell_type": "code",
      "source": [
        "# we can also create a tuple without parentheses using commas:\n",
        "my_tuple = 1, 2, 3\n",
        "print(my_tuple)\n",
        "print(type(my_tuple))"
      ],
      "metadata": {
        "colab": {
          "base_uri": "https://localhost:8080/"
        },
        "id": "aClfaGr82cAC",
        "outputId": "417cc3ec-1095-4e8f-e991-72c69d8b2e7a"
      },
      "execution_count": 2,
      "outputs": [
        {
          "output_type": "stream",
          "name": "stdout",
          "text": [
            "(1, 2, 3)\n",
            "<class 'tuple'>\n"
          ]
        }
      ]
    },
    {
      "cell_type": "code",
      "source": [
        "# To create an empty tuple, we can use the `tuple()` constructor or empty parentheses `()`:\n",
        "empty_tuple = tuple()\n",
        "print(empty_tuple)\n",
        "print(type(empty_tuple))\n"
      ],
      "metadata": {
        "colab": {
          "base_uri": "https://localhost:8080/"
        },
        "id": "e3W02B2S6--c",
        "outputId": "9e658461-8bed-4f95-f26d-d53857714496"
      },
      "execution_count": 3,
      "outputs": [
        {
          "output_type": "stream",
          "name": "stdout",
          "text": [
            "()\n",
            "<class 'tuple'>\n"
          ]
        }
      ]
    },
    {
      "cell_type": "code",
      "source": [
        "empty_tuple = ()\n",
        "print(empty_tuple)\n",
        "print(type(empty_tuple))"
      ],
      "metadata": {
        "colab": {
          "base_uri": "https://localhost:8080/"
        },
        "id": "dwf2d4ho7UnQ",
        "outputId": "ba83a465-9156-4ba6-828a-1ea213040a6b"
      },
      "execution_count": 4,
      "outputs": [
        {
          "output_type": "stream",
          "name": "stdout",
          "text": [
            "()\n",
            "<class 'tuple'>\n"
          ]
        }
      ]
    },
    {
      "cell_type": "code",
      "source": [
        "# We can also convert other iterables (like lists, strings, etc.) to tuples using the `tuple()` function:\n",
        "my_list = [1, 2, 3, 4]\n",
        "list_to_tuple = tuple(my_list)\n",
        "print(list_to_tuple)"
      ],
      "metadata": {
        "colab": {
          "base_uri": "https://localhost:8080/"
        },
        "id": "lvQNYYyA7NOk",
        "outputId": "a3deaa28-e2ae-4bfb-a9e3-0d90b3390f22"
      },
      "execution_count": 5,
      "outputs": [
        {
          "output_type": "stream",
          "name": "stdout",
          "text": [
            "(1, 2, 3, 4)\n"
          ]
        }
      ]
    },
    {
      "cell_type": "code",
      "source": [
        "my_string = \"hello\"\n",
        "string_to_tuple = tuple(my_string)\n",
        "string_to_tuple"
      ],
      "metadata": {
        "colab": {
          "base_uri": "https://localhost:8080/"
        },
        "id": "HZiVlppZ7LAF",
        "outputId": "a4579127-5bb0-4565-e74e-98b1e448f8fd"
      },
      "execution_count": 6,
      "outputs": [
        {
          "output_type": "execute_result",
          "data": {
            "text/plain": [
              "('h', 'e', 'l', 'l', 'o')"
            ]
          },
          "metadata": {},
          "execution_count": 6
        }
      ]
    },
    {
      "cell_type": "code",
      "source": [
        "# For a single-item tuple, you must add a comma:\n",
        "single_item = (5,)  # This is a tuple\n",
        "print(single_item)\n",
        "print(type(single_item))\n",
        "not_a_tuple = (5)   # This is just an integer\n",
        "print(not_a_tuple)\n",
        "print(type(not_a_tuple))"
      ],
      "metadata": {
        "colab": {
          "base_uri": "https://localhost:8080/"
        },
        "id": "wMJWfC9R2m8K",
        "outputId": "085b1a5a-6e57-4c58-9eaf-15b9dc126497"
      },
      "execution_count": 7,
      "outputs": [
        {
          "output_type": "stream",
          "name": "stdout",
          "text": [
            "(5,)\n",
            "<class 'tuple'>\n",
            "5\n",
            "<class 'int'>\n"
          ]
        }
      ]
    },
    {
      "cell_type": "markdown",
      "source": [
        "# Tuple Packing and Unpacking\n"
      ],
      "metadata": {
        "id": "ZT6AXg4f3a5q"
      }
    },
    {
      "cell_type": "code",
      "source": [
        "# # Tuple Packing\n",
        "# Packing is creating a tuple from a sequence of values.\n",
        "packed_tuple = 10, 20, 30  # This automatically creates a tuple\n",
        "print(\"Packed tuple:\", packed_tuple,\"Type of Packed Tuple\" ,type(packed_tuple))\n",
        "\n",
        "# # Tuple Unpacking\n",
        "# Unpacking is the process of extracting values from a tuple and assigning them to individual variables.\n",
        "# The number of variables on the left side must match the number of elements in the tuple.\n",
        "a, b, c = packed_tuple\n",
        "print(\"Unpacked variables:\")\n",
        "print(\"a:\", a)\n",
        "print(\"b:\", b)\n",
        "print(\"c:\", c)\n"
      ],
      "metadata": {
        "colab": {
          "base_uri": "https://localhost:8080/"
        },
        "id": "BWmCDL072x52",
        "outputId": "1d702ed0-a6e0-4aa1-fee4-d8047ce22b74"
      },
      "execution_count": 8,
      "outputs": [
        {
          "output_type": "stream",
          "name": "stdout",
          "text": [
            "Packed tuple: (10, 20, 30) Type of Packed Tuple <class 'tuple'>\n",
            "Unpacked variables:\n",
            "a: 10\n",
            "b: 20\n",
            "c: 30\n"
          ]
        }
      ]
    },
    {
      "cell_type": "code",
      "source": [
        "# Example with a different tuple\n",
        "student_info = (\"Nilanjan\", 25, \"Statistics\")\n",
        "name, age, major = student_info\n",
        "print(\"Student Info Unpacked:\")\n",
        "print(\"Name:\", name)\n",
        "print(\"Age:\", age)\n",
        "print(\"Major:\", major)\n"
      ],
      "metadata": {
        "colab": {
          "base_uri": "https://localhost:8080/"
        },
        "id": "KDajM5iQ3WOJ",
        "outputId": "45890d29-ec15-441b-f601-935e706b8e13"
      },
      "execution_count": 9,
      "outputs": [
        {
          "output_type": "stream",
          "name": "stdout",
          "text": [
            "Student Info Unpacked:\n",
            "Name: Nilanjan\n",
            "Age: 25\n",
            "Major: Statistics\n"
          ]
        }
      ]
    },
    {
      "cell_type": "code",
      "source": [
        "# Using the asterisk (*) to unpack partially (for the rest of the elements)\n",
        "numbers = (1, 2, 3, 4, 5, 6)\n",
        "first, *rest, last = numbers\n",
        "print(\"Partial Unpacking:\")\n",
        "print(\"First:\", first)\n",
        "print(\"Rest:\", rest) # 'rest' will be a list containing the remaining elements\n",
        "print(\"Last:\", last)\n"
      ],
      "metadata": {
        "colab": {
          "base_uri": "https://localhost:8080/"
        },
        "id": "Rc18Iuqd3WKv",
        "outputId": "090f4ad7-8440-4732-9a42-21a0fa113477"
      },
      "execution_count": 10,
      "outputs": [
        {
          "output_type": "stream",
          "name": "stdout",
          "text": [
            "Partial Unpacking:\n",
            "First: 1\n",
            "Rest: [2, 3, 4, 5]\n",
            "Last: 6\n"
          ]
        }
      ]
    },
    {
      "cell_type": "markdown",
      "source": [
        "# Indexing and Slicing\n",
        "- Tuple indexing allows you to access individual elements in a tuple using their position (index). Indexing in Python starts at 0, meaning the first item is at index 0, the second at index 1, and so on.\n",
        "- Python also supports negative indexing, where -1 refers to the last item, -2 to the second last, etc."
      ],
      "metadata": {
        "id": "WZzLQR2f4TC9"
      }
    },
    {
      "cell_type": "code",
      "source": [
        "\n",
        "# Original tuple for indexing examples\n",
        "my_tuple_indexing = (10, 20, 30, 'apple', 'banana', 40, 50)\n",
        "\n",
        "# Accessing elements using positive indexing\n",
        "print(\"Element at index 0:\", my_tuple_indexing[0]) # 10\n",
        "print(\"Element at index 3:\", my_tuple_indexing[3]) # apple\n",
        "\n",
        "# Accessing elements using negative indexing\n",
        "print(\"Element at index -1 (last element):\", my_tuple_indexing[-1]) # 50\n",
        "print(\"Element at index -4:\", my_tuple_indexing[-4]) # apple"
      ],
      "metadata": {
        "colab": {
          "base_uri": "https://localhost:8080/"
        },
        "id": "ieVciCsZ4BV0",
        "outputId": "5f800e80-2963-4df0-aa7c-e88f4e5a4400"
      },
      "execution_count": 11,
      "outputs": [
        {
          "output_type": "stream",
          "name": "stdout",
          "text": [
            "Element at index 0: 10\n",
            "Element at index 3: apple\n",
            "Element at index -1 (last element): 50\n",
            "Element at index -4: apple\n"
          ]
        }
      ]
    },
    {
      "cell_type": "code",
      "source": [
        "# Slicing\n",
        "# Slicing allows you to access a range of elements from a tuple.\n",
        "# It is done using the slicing syntax: [start:stop:step]\n",
        "# - start: The index where the slice begins (inclusive). If omitted, it defaults to the beginning of the tuple.\n",
        "# - stop: The index where the slice ends (exclusive). If omitted, it defaults to the end of the tuple.\n",
        "# - step: The step size for the slice (optional). If omitted, it defaults to 1.\n",
        "\n",
        "# Original tuple for slicing examples\n",
        "my_tuple_slicing = (10, 20, 30, 'apple', 'banana', 40, 50, 60, 70)"
      ],
      "metadata": {
        "id": "4MLRwzJV5ilL"
      },
      "execution_count": 12,
      "outputs": []
    },
    {
      "cell_type": "code",
      "source": [
        "# Slice from index 2 to index 5 (exclusive of 5)\n",
        "print(\"Slice from index 2 to 5:\", my_tuple_slicing[2:5]) # (30, 'apple', 'banana')"
      ],
      "metadata": {
        "colab": {
          "base_uri": "https://localhost:8080/"
        },
        "id": "DnIhWGE66E_Z",
        "outputId": "292cfc50-375f-45cf-c13c-d801e7eaa8f7"
      },
      "execution_count": 13,
      "outputs": [
        {
          "output_type": "stream",
          "name": "stdout",
          "text": [
            "Slice from index 2 to 5: (30, 'apple', 'banana')\n"
          ]
        }
      ]
    },
    {
      "cell_type": "code",
      "source": [
        "# Slice from the beginning to index 4 (exclusive of 4)\n",
        "print(\"Slice from beginning to index 4:\", my_tuple_slicing[:4]) # (10, 20, 30, 'apple')"
      ],
      "metadata": {
        "colab": {
          "base_uri": "https://localhost:8080/"
        },
        "id": "8RwxEDq76E7_",
        "outputId": "832af957-0f88-41c4-d3cc-b06b1175ce23"
      },
      "execution_count": 14,
      "outputs": [
        {
          "output_type": "stream",
          "name": "stdout",
          "text": [
            "Slice from beginning to index 4: (10, 20, 30, 'apple')\n"
          ]
        }
      ]
    },
    {
      "cell_type": "code",
      "source": [
        "# Slice from index 5 to the end\n",
        "print(\"Slice from index 5 to end:\", my_tuple_slicing[5:]) # (40, 50, 60, 70)"
      ],
      "metadata": {
        "colab": {
          "base_uri": "https://localhost:8080/"
        },
        "id": "J_sKn0KY6CgO",
        "outputId": "a788d2a6-f2c9-40b4-c292-d7f0c6b7deb6"
      },
      "execution_count": 15,
      "outputs": [
        {
          "output_type": "stream",
          "name": "stdout",
          "text": [
            "Slice from index 5 to end: (40, 50, 60, 70)\n"
          ]
        }
      ]
    },
    {
      "cell_type": "code",
      "source": [
        "# Slice the entire tuple\n",
        "print(\"Slice of the entire tuple:\", my_tuple_slicing[:]) # (10, 20, 30, 'apple', 'banana', 40, 50, 60, 70)"
      ],
      "metadata": {
        "colab": {
          "base_uri": "https://localhost:8080/"
        },
        "id": "co8bkGgZ6Ccf",
        "outputId": "cdadaa10-97d3-446f-d0a6-d13f9db95427"
      },
      "execution_count": 16,
      "outputs": [
        {
          "output_type": "stream",
          "name": "stdout",
          "text": [
            "Slice of the entire tuple: (10, 20, 30, 'apple', 'banana', 40, 50, 60, 70)\n"
          ]
        }
      ]
    },
    {
      "cell_type": "code",
      "source": [
        "# Slice with a step of 2\n",
        "print(\"Slice with step 2:\", my_tuple_slicing[::2]) # (10, 30, 'banana', 60)"
      ],
      "metadata": {
        "colab": {
          "base_uri": "https://localhost:8080/"
        },
        "id": "Qpxt-6-o57sF",
        "outputId": "87044b36-0712-4b25-f79a-17e5dfff5e50"
      },
      "execution_count": 17,
      "outputs": [
        {
          "output_type": "stream",
          "name": "stdout",
          "text": [
            "Slice with step 2: (10, 30, 'banana', 50, 70)\n"
          ]
        }
      ]
    },
    {
      "cell_type": "code",
      "source": [
        "# Slice from index 1 to 7 with a step of 3\n",
        "print(\"Slice from 1 to 7 with step 3:\", my_tuple_slicing[1:7:3]) # (20, 'banana')"
      ],
      "metadata": {
        "colab": {
          "base_uri": "https://localhost:8080/"
        },
        "id": "3CD_5oc757oq",
        "outputId": "e34a1db0-2fc9-4827-d1af-0ca7e6490987"
      },
      "execution_count": 18,
      "outputs": [
        {
          "output_type": "stream",
          "name": "stdout",
          "text": [
            "Slice from 1 to 7 with step 3: (20, 'banana')\n"
          ]
        }
      ]
    },
    {
      "cell_type": "code",
      "source": [
        "# Reverse the tuple using slicing\n",
        "print(\"Reversed tuple:\", my_tuple_slicing[::-1]) # (70, 60, 50, 40, 'banana', 'apple', 30, 20, 10)"
      ],
      "metadata": {
        "colab": {
          "base_uri": "https://localhost:8080/"
        },
        "id": "4-OwIB-757mX",
        "outputId": "d616b5de-dbeb-43af-c26c-15187e445aaa"
      },
      "execution_count": 19,
      "outputs": [
        {
          "output_type": "stream",
          "name": "stdout",
          "text": [
            "Reversed tuple: (70, 60, 50, 40, 'banana', 'apple', 30, 20, 10)\n"
          ]
        }
      ]
    },
    {
      "cell_type": "markdown",
      "source": [
        "# Tuple Concatenation"
      ],
      "metadata": {
        "id": "a3dTAwG66Z2g"
      }
    },
    {
      "cell_type": "code",
      "source": [
        "tuple1 = (1, 2, 3)\n",
        "tuple2 = ('a', 'b', 'c')\n",
        "concatenated_tuple = tuple1 + tuple2\n",
        "print(\"Concatenated tuple:\", concatenated_tuple)\n",
        "\n",
        "# You can concatenate any number of tuples\n",
        "tuple3 = (4, 5)\n",
        "another_concatenated_tuple = tuple1 + tuple2 + tuple3\n",
        "print(\"Another concatenated tuple:\", another_concatenated_tuple)"
      ],
      "metadata": {
        "colab": {
          "base_uri": "https://localhost:8080/"
        },
        "id": "11YkcCJQ6YVI",
        "outputId": "09a983fc-4a1a-49cc-ffa1-66b63ccf868a"
      },
      "execution_count": 20,
      "outputs": [
        {
          "output_type": "stream",
          "name": "stdout",
          "text": [
            "Concatenated tuple: (1, 2, 3, 'a', 'b', 'c')\n",
            "Another concatenated tuple: (1, 2, 3, 'a', 'b', 'c', 4, 5)\n"
          ]
        }
      ]
    },
    {
      "cell_type": "markdown",
      "source": [
        "# Tuple Methods"
      ],
      "metadata": {
        "id": "SkcmLpam63l4"
      }
    },
    {
      "cell_type": "code",
      "source": [
        "# count()\n",
        "# This method returns the number of times a specified value occurs in a tuple.\n",
        "my_tuple_count = (1, 5, 2, 7, 5, 3, 5, 8)\n",
        "count_of_5 = my_tuple_count.count(5)\n",
        "print(f\"The number 5 appears {count_of_5} times in the tuple.\")\n",
        "count_of_10 = my_tuple_count.count(10)\n",
        "print(f\"The number 10 appears {count_of_10} times in the tuple.\")\n",
        "\n",
        "\n"
      ],
      "metadata": {
        "colab": {
          "base_uri": "https://localhost:8080/"
        },
        "id": "y8zrS0ou62mT",
        "outputId": "a7cf2fc2-89ee-4687-9559-22970991341a"
      },
      "execution_count": 21,
      "outputs": [
        {
          "output_type": "stream",
          "name": "stdout",
          "text": [
            "The number 5 appears 3 times in the tuple.\n",
            "The number 10 appears 0 times in the tuple.\n"
          ]
        }
      ]
    },
    {
      "cell_type": "code",
      "source": [
        "# index()\n",
        "# This method searches the tuple for a specified value and returns the position (index) of the first occurrence.\n",
        "# If the value is not found, it raises a ValueError.\n",
        "my_tuple_index = (10, 20, 30, 40, 20, 50)\n",
        "index_of_30 = my_tuple_index.index(30)\n",
        "print(f\"The first occurrence of 30 is at index: {index_of_30}\")\n",
        "# You can optionally specify a start and end index to search within a specific slice.\n",
        "index_of_20_after_index_2 = my_tuple_index.index(20,3) # Search for 20 starting from index 3\n",
        "print(f\"The first occurrence of 20 after index 2 is at index: {index_of_20_after_index_2}\")\n"
      ],
      "metadata": {
        "colab": {
          "base_uri": "https://localhost:8080/"
        },
        "id": "3aHaQVWS7l0x",
        "outputId": "84a8cd37-f324-4755-996f-fe714639b5d0"
      },
      "execution_count": 22,
      "outputs": [
        {
          "output_type": "stream",
          "name": "stdout",
          "text": [
            "The first occurrence of 30 is at index: 2\n",
            "The first occurrence of 20 after index 2 is at index: 4\n"
          ]
        }
      ]
    },
    {
      "cell_type": "code",
      "source": [
        "my_tuple_index = (10, 20, 30, 40, 20, 50)\n",
        "try:\n",
        "    my_tuple_index.index(100)\n",
        "except ValueError as e:\n",
        "    print(e)"
      ],
      "metadata": {
        "colab": {
          "base_uri": "https://localhost:8080/"
        },
        "id": "Glj05XfM7mSo",
        "outputId": "3e9c0de8-cfae-4608-a300-b65b65e23983"
      },
      "execution_count": 23,
      "outputs": [
        {
          "output_type": "stream",
          "name": "stdout",
          "text": [
            "tuple.index(x): x not in tuple\n"
          ]
        }
      ]
    },
    {
      "cell_type": "markdown",
      "source": [
        "# Tuple Comperhension\n",
        "\n",
        "Python does not have something called **tuple comprehension** in the same way it has **list comprehensions**.\n",
        "\n"
      ],
      "metadata": {
        "id": "9DQ4U2kG8bI0"
      }
    },
    {
      "cell_type": "code",
      "source": [
        "t = (x for x in range(5))\n",
        "#  we're actually creating a generator object, not a tuple.\n",
        "print(t)\n",
        "# Use a list comprehension inside the tuple() constructor\n",
        "print(tuple(t))\n"
      ],
      "metadata": {
        "colab": {
          "base_uri": "https://localhost:8080/"
        },
        "id": "7x6x3AHs7yLR",
        "outputId": "0ab63c54-2b4d-4f1e-fb6b-c846957d6eb8"
      },
      "execution_count": 24,
      "outputs": [
        {
          "output_type": "stream",
          "name": "stdout",
          "text": [
            "<generator object <genexpr> at 0x781ddee25a40>\n",
            "(0, 1, 2, 3, 4)\n"
          ]
        }
      ]
    },
    {
      "cell_type": "code",
      "source": [
        "# Example: Create a tuple of squares of numbers from 0 to 4\n",
        "tuple_of_squares = tuple([x**2 for x in range(5)])\n",
        "print(tuple_of_squares)\n"
      ],
      "metadata": {
        "id": "h0EWqZQA8yhw",
        "colab": {
          "base_uri": "https://localhost:8080/"
        },
        "outputId": "1ad3f840-4eac-4a3e-bf09-c695bf758e91"
      },
      "execution_count": 25,
      "outputs": [
        {
          "output_type": "stream",
          "name": "stdout",
          "text": [
            "(0, 1, 4, 9, 16)\n"
          ]
        }
      ]
    },
    {
      "cell_type": "code",
      "source": [
        "# Example: Create a tuple of even numbers from a list\n",
        "my_list_for_comp = [1, 2, 3, 4, 5, 6, 7, 8, 9, 10]\n",
        "even_numbers_tuple = tuple([num for num in my_list_for_comp if num % 2 == 0])\n",
        "print(even_numbers_tuple)"
      ],
      "metadata": {
        "colab": {
          "base_uri": "https://localhost:8080/"
        },
        "id": "feHcBMvhhfZl",
        "outputId": "7f9af5ce-0330-4fe9-b3a7-b6d48600aef9"
      },
      "execution_count": 26,
      "outputs": [
        {
          "output_type": "stream",
          "name": "stdout",
          "text": [
            "(2, 4, 6, 8, 10)\n"
          ]
        }
      ]
    },
    {
      "cell_type": "code",
      "source": [],
      "metadata": {
        "id": "cYEsi1svhfWG"
      },
      "execution_count": 26,
      "outputs": []
    }
  ]
}