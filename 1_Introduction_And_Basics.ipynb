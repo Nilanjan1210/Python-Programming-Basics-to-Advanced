{
  "nbformat": 4,
  "nbformat_minor": 0,
  "metadata": {
    "colab": {
      "provenance": [],
      "collapsed_sections": [
        "zhKQ8kPEW2WN",
        "HG7wdJrqXPHU",
        "5inuke5iabNl"
      ],
      "authorship_tag": "ABX9TyOKLZEuPB1S51+kEtDHK3o7",
      "include_colab_link": true
    },
    "kernelspec": {
      "name": "python3",
      "display_name": "Python 3"
    },
    "language_info": {
      "name": "python"
    }
  },
  "cells": [
    {
      "cell_type": "markdown",
      "metadata": {
        "id": "view-in-github",
        "colab_type": "text"
      },
      "source": [
        "<a href=\"https://colab.research.google.com/github/Nilanjan1210/Python-Programming-Basics-to-Advanced/blob/main/1_Introduction_And_Basics.ipynb\" target=\"_parent\"><img src=\"https://colab.research.google.com/assets/colab-badge.svg\" alt=\"Open In Colab\"/></a>"
      ]
    },
    {
      "cell_type": "code",
      "execution_count": 1,
      "metadata": {
        "colab": {
          "base_uri": "https://localhost:8080/"
        },
        "id": "2ry6p9xGU80p",
        "outputId": "a3aa563d-e4f3-483b-8e7a-6e9d90c766d6"
      },
      "outputs": [
        {
          "output_type": "stream",
          "name": "stdout",
          "text": [
            "Hello World\n"
          ]
        }
      ],
      "source": [
        "## This is a single line comment\n",
        "\"\"\"This\n",
        "is\n",
        "Multiline\n",
        "comment\"\"\"\n",
        "\n",
        "print(\"Hello World\")\n"
      ]
    },
    {
      "cell_type": "code",
      "source": [
        "## Line Continuation\n",
        "##Use a backslash (\\) to continue a statement to the next line\n",
        "\n",
        "total=1+2+3+4+5+6+7+\\\n",
        "4+5+6\n",
        "\n",
        "print(total)"
      ],
      "metadata": {
        "colab": {
          "base_uri": "https://localhost:8080/"
        },
        "id": "rZ6yFbtSWG93",
        "outputId": "cc253e7a-08f1-4024-c0a5-cabe4099d893"
      },
      "execution_count": 2,
      "outputs": [
        {
          "output_type": "stream",
          "name": "stdout",
          "text": [
            "43\n"
          ]
        }
      ]
    },
    {
      "cell_type": "code",
      "source": [
        "## Multiple Statements on a single line\n",
        "x=5;y=10;z=x+y\n",
        "print(z)"
      ],
      "metadata": {
        "colab": {
          "base_uri": "https://localhost:8080/"
        },
        "id": "LY7Dx_80WMGo",
        "outputId": "03906f3a-b87e-4d66-f8c7-bd9aa50ee361"
      },
      "execution_count": 3,
      "outputs": [
        {
          "output_type": "stream",
          "name": "stdout",
          "text": [
            "15\n"
          ]
        }
      ]
    },
    {
      "cell_type": "code",
      "source": [
        "# variable assignment\n",
        "age=25 # age is an integer\n",
        "name=\"Nilanjan\" # name is a string\n",
        "print(type(age))\n",
        "print(type(name))"
      ],
      "metadata": {
        "colab": {
          "base_uri": "https://localhost:8080/"
        },
        "id": "hp8wDMjwWPMv",
        "outputId": "d9bec0c0-c174-49c4-b819-59a3cef4045d"
      },
      "execution_count": 4,
      "outputs": [
        {
          "output_type": "stream",
          "name": "stdout",
          "text": [
            "<class 'int'>\n",
            "<class 'str'>\n"
          ]
        }
      ]
    },
    {
      "cell_type": "markdown",
      "source": [
        "### Indentation\n",
        "Indentation in Python is used to define the structure and hierarchy of the code. Unlike many other programming languages that use braces {} to delimit blocks of code, Python uses indentation to determine the grouping of statements. This means that all the statements within a block must be indented at the same level."
      ],
      "metadata": {
        "id": "zhKQ8kPEW2WN"
      }
    },
    {
      "cell_type": "code",
      "source": [
        "name = 'nilanjan'\n",
        "if name == \"nilanjan\":\n",
        "  print(name)\n",
        "else:\n",
        "  print(\"not found\")"
      ],
      "metadata": {
        "colab": {
          "base_uri": "https://localhost:8080/"
        },
        "id": "d1sditNGWZEa",
        "outputId": "6385433a-c114-4b14-a2ee-027ad2c0df53"
      },
      "execution_count": 5,
      "outputs": [
        {
          "output_type": "stream",
          "name": "stdout",
          "text": [
            "nilanjan\n"
          ]
        }
      ]
    },
    {
      "cell_type": "markdown",
      "source": [
        "### Variables\n",
        "Variable is a name given to a value. Variables are used to store and manipulate data in a program. In Python, variables are created when you assign a value to them, and they do not need explicit declaration to reserve memory space. The declaration happens automatically when you assign a value to a variable.\n",
        "\n"
      ],
      "metadata": {
        "id": "HG7wdJrqXPHU"
      }
    },
    {
      "cell_type": "code",
      "source": [
        "## Declaring And Assigning Variables\n",
        "\n",
        "name=\"Nilanjan\"\n",
        "age=25\n",
        "height=6.1\n",
        "is_student=True\n",
        "\n",
        "## printing the variables\n",
        "print(\"Name:\",name)\n",
        "print(\"age :\",age)\n",
        "print(\"Height:\",height)\n"
      ],
      "metadata": {
        "colab": {
          "base_uri": "https://localhost:8080/"
        },
        "id": "nDuQtfq6XKJC",
        "outputId": "36778603-47af-4558-95c4-7bb2fea534e1"
      },
      "execution_count": 6,
      "outputs": [
        {
          "output_type": "stream",
          "name": "stdout",
          "text": [
            "Name: Nilanjan\n",
            "age : 25\n",
            "Height: 6.1\n"
          ]
        }
      ]
    },
    {
      "cell_type": "code",
      "source": [
        "## Naming Conventions\n",
        "## Variable names should be descriptive\n",
        "## They must start with a letter or an '_' and contains letter,numbers and underscores\n",
        "## variables names case sensitive\n",
        "\n",
        "#valid variable names\n",
        "\n",
        "first_name=\"Nilanjan\"\n",
        "last_name=\"Samanta\"\n",
        "print(first_name, last_name)"
      ],
      "metadata": {
        "colab": {
          "base_uri": "https://localhost:8080/"
        },
        "id": "2YmY5egoYVDb",
        "outputId": "e0fc9259-c603-4881-c50c-4873254dcf06"
      },
      "execution_count": 7,
      "outputs": [
        {
          "output_type": "stream",
          "name": "stdout",
          "text": [
            "Nilanjan Samanta\n"
          ]
        }
      ]
    },
    {
      "cell_type": "code",
      "source": [
        "# Invalid variable names\n",
        "# 2age=30\n",
        "# first-name=\"Nilanjan\"\n",
        "## @name=\"Nilanjan\""
      ],
      "metadata": {
        "id": "VAcfIRnPYkfZ"
      },
      "execution_count": 8,
      "outputs": []
    },
    {
      "cell_type": "code",
      "source": [
        "## case sensitivity\n",
        "name=\"Nilanjan\"\n",
        "Name=\"Samanta\"\n",
        "print(name,Name)\n",
        "print(name==Name)"
      ],
      "metadata": {
        "colab": {
          "base_uri": "https://localhost:8080/"
        },
        "id": "8lrRgbl8YsBT",
        "outputId": "781c0089-6968-433a-9b7e-eac4a961feaa"
      },
      "execution_count": 9,
      "outputs": [
        {
          "output_type": "stream",
          "name": "stdout",
          "text": [
            "Nilanjan Samanta\n",
            "False\n"
          ]
        }
      ]
    },
    {
      "cell_type": "code",
      "source": [
        "## Understnading Variable types\n",
        "## Python is dynamically typed,type of a variable is determined at runtime\n",
        "age=25 #int\n",
        "hight=6.1 #float\n",
        "name=\"Nilanjan\" #str\n",
        "is_student=True #bool\n",
        "\n",
        "## Type Checking\n",
        "print(type(name))\n",
        "print(type(age))\n",
        "print(type(hight))\n",
        "print(type(is_student))\n"
      ],
      "metadata": {
        "colab": {
          "base_uri": "https://localhost:8080/"
        },
        "id": "ypAxJSw6Yr9x",
        "outputId": "76f7f403-1ecb-4850-bd94-3f611ebc899d"
      },
      "execution_count": 10,
      "outputs": [
        {
          "output_type": "stream",
          "name": "stdout",
          "text": [
            "<class 'str'>\n",
            "<class 'int'>\n",
            "<class 'float'>\n",
            "<class 'bool'>\n"
          ]
        }
      ]
    },
    {
      "cell_type": "code",
      "source": [
        "age=\"25\"\n",
        "print(age,type(age))\n",
        "age=int(age)\n",
        "print(age,type(age))\n",
        "age=str(age)\n",
        "print(age,type(age))"
      ],
      "metadata": {
        "colab": {
          "base_uri": "https://localhost:8080/"
        },
        "id": "86LFVM5LYr7P",
        "outputId": "68d67b78-1be3-4821-ca6d-fbabdc4d367c"
      },
      "execution_count": 11,
      "outputs": [
        {
          "output_type": "stream",
          "name": "stdout",
          "text": [
            "25 <class 'str'>\n",
            "25 <class 'int'>\n",
            "25 <class 'str'>\n"
          ]
        }
      ]
    },
    {
      "cell_type": "code",
      "source": [
        "name=\"Nilanjan\"\n",
        "try :\n",
        "  int(name)\n",
        "except Exception as e:\n",
        "  print(e)"
      ],
      "metadata": {
        "colab": {
          "base_uri": "https://localhost:8080/"
        },
        "id": "wvXoZsiLZdkm",
        "outputId": "fce81624-e86c-4c38-c112-172d8853d8cb"
      },
      "execution_count": 12,
      "outputs": [
        {
          "output_type": "stream",
          "name": "stdout",
          "text": [
            "invalid literal for int() with base 10: 'Nilanjan'\n"
          ]
        }
      ]
    },
    {
      "cell_type": "code",
      "source": [
        "## Dynamic Typing\n",
        "## Python allows the type of a vraible to change as the program executes\n",
        "var=10 #int\n",
        "print(var,type(var))\n",
        "\n",
        "var=\"Hello\"\n",
        "print(var,type(var))\n",
        "\n",
        "var=3.14\n",
        "print(var,type(var))\n",
        "\n"
      ],
      "metadata": {
        "colab": {
          "base_uri": "https://localhost:8080/"
        },
        "id": "T2pjPCtXZ3IR",
        "outputId": "7497a6d6-ae61-4dea-d0d4-b968b881d25e"
      },
      "execution_count": 13,
      "outputs": [
        {
          "output_type": "stream",
          "name": "stdout",
          "text": [
            "10 <class 'int'>\n",
            "Hello <class 'str'>\n",
            "3.14 <class 'float'>\n"
          ]
        }
      ]
    },
    {
      "cell_type": "code",
      "source": [
        "### Simple calculator\n",
        "num1 = float(input(\"Enter first number: \"))\n",
        "num2 = float(input(\"Enter second number: \"))\n",
        "\n",
        "sum = num1 + num2\n",
        "difference = num1 - num2\n",
        "product = num1 * num2\n",
        "quotient = num1 / num2\n",
        "\n",
        "print(\"Sum:\", sum)\n",
        "print(\"Difference:\", difference)\n",
        "print(\"Product:\", product)\n",
        "print(\"Quotient:\", quotient)\n"
      ],
      "metadata": {
        "colab": {
          "base_uri": "https://localhost:8080/"
        },
        "id": "lTiFDFncaCNM",
        "outputId": "a7b2a1fe-b03e-4c01-bc0e-7bcab2bd95fd"
      },
      "execution_count": 14,
      "outputs": [
        {
          "output_type": "stream",
          "name": "stdout",
          "text": [
            "Enter first number: 25\n",
            "Enter second number: 7\n",
            "Sum: 32.0\n",
            "Difference: 18.0\n",
            "Product: 175.0\n",
            "Quotient: 3.5714285714285716\n"
          ]
        }
      ]
    },
    {
      "cell_type": "markdown",
      "source": [
        "### Print and Input Function\n",
        "\n",
        "- The print() function in Python is used to output text or value to the screen. It can take multiple arguments which are separated by comma.\n",
        "\n",
        "- We can get input from user the input() function. The input() function returns a string value represent the user's input."
      ],
      "metadata": {
        "id": "5inuke5iabNl"
      }
    },
    {
      "cell_type": "code",
      "source": [
        "\n",
        "# Printing a single value (string)\n",
        "print(\"Hello World\")\n",
        "\n",
        "# Printing multiple values (integers) separated by default space\n",
        "a = 1\n",
        "b = 2\n",
        "c = 3\n",
        "print(a, b, c)\n",
        "\n",
        "# The print() function has several optional arguments:\n",
        "\n",
        "# sep: Specifies the separator between the arguments. Default is a space.\n",
        "print(a, b, c, sep='-')\n",
        "\n",
        "# end: Specifies what to print at the end. Default is a newline character (\\n).\n",
        "print(a, end=' ')\n",
        "print(b) # Output: 1 2 (prints 1 followed by a space, then 2 on the same line)\n",
        "\n",
        "# Printing different data types\n",
        "print(\"Integer:\", age)\n",
        "print(\"Float:\", 6.1)\n",
        "print(\"Boolean:\", True)\n",
        "print(\"List:\", [1, 2, 3])\n",
        "print(\"Dictionary:\", {\"a\": 1, \"b\": 2})\n"
      ],
      "metadata": {
        "colab": {
          "base_uri": "https://localhost:8080/"
        },
        "id": "7WcPsbHPbhVO",
        "outputId": "75f98b70-2594-4775-a949-414000b2eae8"
      },
      "execution_count": 15,
      "outputs": [
        {
          "output_type": "stream",
          "name": "stdout",
          "text": [
            "Hello World\n",
            "1 2 3\n",
            "1-2-3\n",
            "1 2\n",
            "Integer: 25\n",
            "Float: 6.1\n",
            "Boolean: True\n",
            "List: [1, 2, 3]\n",
            "Dictionary: {'a': 1, 'b': 2}\n"
          ]
        }
      ]
    },
    {
      "cell_type": "code",
      "source": [
        "user_input = input(\"Enter your name: \")\n",
        "print(\"Hello,\", user_input)\n",
        "print(type(user_input))"
      ],
      "metadata": {
        "colab": {
          "base_uri": "https://localhost:8080/"
        },
        "id": "BAGZpVSycPaB",
        "outputId": "839a5bd0-d69a-4662-df07-129a9665e57e"
      },
      "execution_count": 16,
      "outputs": [
        {
          "output_type": "stream",
          "name": "stdout",
          "text": [
            "Enter your name: nilanjan\n",
            "Hello, nilanjan\n",
            "<class 'str'>\n"
          ]
        }
      ]
    },
    {
      "cell_type": "code",
      "source": [
        "int_input = input(\"Enter an integer: \")\n",
        "print(\"You entered:\", int_input)\n",
        "print(type(int_input))\n",
        "# type conversion str to int\n",
        "int_input = int(int_input)\n",
        "print(type(int_input))"
      ],
      "metadata": {
        "colab": {
          "base_uri": "https://localhost:8080/"
        },
        "id": "JG5L6_uycuk9",
        "outputId": "324f1c78-bd05-45ba-ab63-4851fcb1c9e9"
      },
      "execution_count": 17,
      "outputs": [
        {
          "output_type": "stream",
          "name": "stdout",
          "text": [
            "Enter an integer: 25\n",
            "You entered: 25\n",
            "<class 'str'>\n",
            "<class 'int'>\n"
          ]
        }
      ]
    },
    {
      "cell_type": "markdown",
      "source": [
        "### Type function\n",
        "- The type() function is used to determine the data type of a variable or a value."
      ],
      "metadata": {
        "id": "8YwerGszARdx"
      }
    },
    {
      "cell_type": "code",
      "source": [
        "# String data type\n",
        "name = 'Nilanjan'\n",
        "print(type(name))"
      ],
      "metadata": {
        "colab": {
          "base_uri": "https://localhost:8080/"
        },
        "id": "7zZdcpGEAQXj",
        "outputId": "8f0cfce3-e169-4e4e-a438-0bf73fdb3b3e"
      },
      "execution_count": 18,
      "outputs": [
        {
          "output_type": "stream",
          "name": "stdout",
          "text": [
            "<class 'str'>\n"
          ]
        }
      ]
    },
    {
      "cell_type": "markdown",
      "source": [
        "### Data Types\n",
        "Python has several built-in data types including...\n",
        "- **Integer** : Whole numbers e.g. 1,2,3\n",
        "- **Float** : Decimal numbers e.g 3.14, 0.5\n",
        "- **String** : Sequence of character e.g. 'Hello', \"Nilanjan\". String can be enclosed in single or double quotes.\n",
        "- **Boolean** : A logical value that can be either *True* or *False*.\n",
        "- **List** : An order collection of items e.g. [1,2,3] , ['a','b','c']\n",
        "- **Tuple** : Ordered, immutable collectio of items e.g. (1,2,3), ('a','b','c')\n",
        "- **Dictionary** : Unorder collection of key-value pairs e.g. {'name':'Nilanjan', 'age':25}\n",
        "- **Complex Number**: Number with real and imaginary parts e.g. 3+4j, 2+5j\n",
        "- **Set** : Unorder collectio of unique items e.g. {1,2,3}, {'a','b','c'}\n",
        "-  **Frozenset** : Immutable sets e.g. forzenset({1,2})\n",
        "- **Bytes** : Sequence of integer in the range 0 <= x < 256 e.g. b'hello'\n",
        "- **ByteArray** : Mutable sequence of integers in the range 0 <= x <256 e.g. bytearray(b'Hello')\n",
        "- **MemoryView** : A view into an existing buffer e.g. memoryview(b'hello')\n",
        "\n"
      ],
      "metadata": {
        "id": "OkHUyZPx5WbX"
      }
    },
    {
      "cell_type": "code",
      "source": [
        "# Integer\n",
        "my_integer = 10\n",
        "print(\"Data:\", my_integer)\n",
        "print(\"Type:\", type(my_integer))"
      ],
      "metadata": {
        "id": "hH2nZ9qDc4Ai",
        "colab": {
          "base_uri": "https://localhost:8080/"
        },
        "outputId": "7c6098bc-ee6d-464b-d8e2-11845476a5ba"
      },
      "execution_count": 19,
      "outputs": [
        {
          "output_type": "stream",
          "name": "stdout",
          "text": [
            "Data: 10\n",
            "Type: <class 'int'>\n"
          ]
        }
      ]
    },
    {
      "cell_type": "code",
      "source": [
        "# Float\n",
        "my_float = 3.14\n",
        "print(\"Data:\", my_float)\n",
        "print(\"Type:\", type(my_float))"
      ],
      "metadata": {
        "colab": {
          "base_uri": "https://localhost:8080/"
        },
        "id": "LvVsEwfP-Zz3",
        "outputId": "78bc7e75-0904-4a37-e352-a0391d056c45"
      },
      "execution_count": 20,
      "outputs": [
        {
          "output_type": "stream",
          "name": "stdout",
          "text": [
            "Data: 3.14\n",
            "Type: <class 'float'>\n"
          ]
        }
      ]
    },
    {
      "cell_type": "code",
      "source": [
        "# String\n",
        "my_string = \"Hello Python\"\n",
        "print(\"Data:\", my_string)\n",
        "print(\"Type:\", type(my_string))"
      ],
      "metadata": {
        "colab": {
          "base_uri": "https://localhost:8080/"
        },
        "id": "0b7Hu-w1-T6j",
        "outputId": "05aba961-3fce-4a58-c36c-f502f0b8a65e"
      },
      "execution_count": 21,
      "outputs": [
        {
          "output_type": "stream",
          "name": "stdout",
          "text": [
            "Data: Hello Python\n",
            "Type: <class 'str'>\n"
          ]
        }
      ]
    },
    {
      "cell_type": "code",
      "source": [
        "# Boolean\n",
        "my_boolean = True\n",
        "print(\"Data:\", my_boolean)\n",
        "print(\"Type:\", type(my_boolean))"
      ],
      "metadata": {
        "colab": {
          "base_uri": "https://localhost:8080/"
        },
        "id": "kMMpzNeH-T3N",
        "outputId": "2cf3f686-761a-45c8-d062-1061b8f11c83"
      },
      "execution_count": 22,
      "outputs": [
        {
          "output_type": "stream",
          "name": "stdout",
          "text": [
            "Data: True\n",
            "Type: <class 'bool'>\n"
          ]
        }
      ]
    },
    {
      "cell_type": "code",
      "source": [
        "# List\n",
        "my_list = [1, 2, 3, 'a', 'b']\n",
        "print(\"Data:\", my_list)\n",
        "print(\"Type:\", type(my_list))\n"
      ],
      "metadata": {
        "colab": {
          "base_uri": "https://localhost:8080/"
        },
        "id": "VaVu0uG8-T1E",
        "outputId": "293684ec-8b03-4999-ddd5-38203b7d7921"
      },
      "execution_count": 23,
      "outputs": [
        {
          "output_type": "stream",
          "name": "stdout",
          "text": [
            "Data: [1, 2, 3, 'a', 'b']\n",
            "Type: <class 'list'>\n"
          ]
        }
      ]
    },
    {
      "cell_type": "code",
      "source": [
        "# Tuple\n",
        "my_tuple = (1, 2, 3, 'a', 'b')\n",
        "print(\"Data:\", my_tuple)\n",
        "print(\"Type:\", type(my_tuple))"
      ],
      "metadata": {
        "colab": {
          "base_uri": "https://localhost:8080/"
        },
        "id": "I8UVhs67-QOW",
        "outputId": "a2aaf2af-3c29-4a22-e482-fc67bdb4e36d"
      },
      "execution_count": 24,
      "outputs": [
        {
          "output_type": "stream",
          "name": "stdout",
          "text": [
            "Data: (1, 2, 3, 'a', 'b')\n",
            "Type: <class 'tuple'>\n"
          ]
        }
      ]
    },
    {
      "cell_type": "code",
      "source": [
        "# Dictionary\n",
        "my_dict = {'name': 'Alice', 'age': 30}\n",
        "print(\"Data:\", my_dict)\n",
        "print(\"Type:\", type(my_dict))"
      ],
      "metadata": {
        "colab": {
          "base_uri": "https://localhost:8080/"
        },
        "id": "2K0jyvE1-QK8",
        "outputId": "4b43cf63-6fa4-4297-b87c-c011ea5d516c"
      },
      "execution_count": 25,
      "outputs": [
        {
          "output_type": "stream",
          "name": "stdout",
          "text": [
            "Data: {'name': 'Alice', 'age': 30}\n",
            "Type: <class 'dict'>\n"
          ]
        }
      ]
    },
    {
      "cell_type": "code",
      "source": [
        "# Complex Number\n",
        "my_complex = 2 + 3j\n",
        "print(\"Data:\", my_complex)\n",
        "print(\"Type:\", type(my_complex))"
      ],
      "metadata": {
        "colab": {
          "base_uri": "https://localhost:8080/"
        },
        "id": "X31sZ2Q7-GEO",
        "outputId": "255922b2-efa5-4000-810a-999aac3bf22e"
      },
      "execution_count": 26,
      "outputs": [
        {
          "output_type": "stream",
          "name": "stdout",
          "text": [
            "Data: (2+3j)\n",
            "Type: <class 'complex'>\n"
          ]
        }
      ]
    },
    {
      "cell_type": "code",
      "source": [
        "# Set\n",
        "my_set = {1, 2, 3, 3, 4} # Sets store unique elements\n",
        "print(\"Data:\", my_set)\n",
        "print(\"Type:\", type(my_set))"
      ],
      "metadata": {
        "colab": {
          "base_uri": "https://localhost:8080/"
        },
        "id": "L3NLk_Dp-GA_",
        "outputId": "99f32b09-882f-4b03-840b-0d247ebc8b67"
      },
      "execution_count": 27,
      "outputs": [
        {
          "output_type": "stream",
          "name": "stdout",
          "text": [
            "Data: {1, 2, 3, 4}\n",
            "Type: <class 'set'>\n"
          ]
        }
      ]
    },
    {
      "cell_type": "code",
      "source": [
        "# Frozenset\n",
        "my_frozenset = frozenset({1, 2, 3, 3, 4}) # Frozensets are immutable sets\n",
        "print(\"Data:\", my_frozenset)\n",
        "print(\"Type:\", type(my_frozenset))"
      ],
      "metadata": {
        "colab": {
          "base_uri": "https://localhost:8080/"
        },
        "id": "MeNszPyz-F--",
        "outputId": "e914c9be-1905-484c-df30-4b3b648e95bf"
      },
      "execution_count": 28,
      "outputs": [
        {
          "output_type": "stream",
          "name": "stdout",
          "text": [
            "Data: frozenset({1, 2, 3, 4})\n",
            "Type: <class 'frozenset'>\n"
          ]
        }
      ]
    },
    {
      "cell_type": "code",
      "source": [
        "# Bytes\n",
        "my_bytes = b'hello'\n",
        "print(\"Data:\", my_bytes)\n",
        "print(\"Type:\", type(my_bytes))"
      ],
      "metadata": {
        "colab": {
          "base_uri": "https://localhost:8080/"
        },
        "id": "IMgzL07a-F8u",
        "outputId": "e79f4e83-b173-4e01-da74-dbe2aa2570a2"
      },
      "execution_count": 29,
      "outputs": [
        {
          "output_type": "stream",
          "name": "stdout",
          "text": [
            "Data: b'hello'\n",
            "Type: <class 'bytes'>\n"
          ]
        }
      ]
    },
    {
      "cell_type": "code",
      "source": [
        "# Bytearray\n",
        "my_bytearray = bytearray(b'Hello')\n",
        "print(\"Data:\", my_bytearray)\n",
        "print(\"Type:\", type(my_bytearray))\n"
      ],
      "metadata": {
        "colab": {
          "base_uri": "https://localhost:8080/"
        },
        "id": "rJvM-sM5-F6G",
        "outputId": "f96b7c65-cbdd-4dcb-e661-1ccaec402a31"
      },
      "execution_count": 30,
      "outputs": [
        {
          "output_type": "stream",
          "name": "stdout",
          "text": [
            "Data: bytearray(b'Hello')\n",
            "Type: <class 'bytearray'>\n"
          ]
        }
      ]
    },
    {
      "cell_type": "code",
      "source": [
        "# Memoryview\n",
        "my_memoryview = memoryview(b'hello world')\n",
        "print(\"Data:\", my_memoryview)\n",
        "print(\"Type:\", type(my_memoryview))"
      ],
      "metadata": {
        "colab": {
          "base_uri": "https://localhost:8080/"
        },
        "id": "Q-zm-l5x-F31",
        "outputId": "a613230b-3064-4bfc-f92f-fd77ecfebca5"
      },
      "execution_count": 31,
      "outputs": [
        {
          "output_type": "stream",
          "name": "stdout",
          "text": [
            "Data: <memory at 0x7b2e1f06e980>\n",
            "Type: <class 'memoryview'>\n"
          ]
        }
      ]
    },
    {
      "cell_type": "markdown",
      "source": [
        "### Type conversion\n",
        "we can convert between different data type using various function such as -\n",
        "- **int()** : Converts a value to an interger.\n",
        "- **float()** : Converts a vlue to an float.\n",
        "- **str()** : Converts a value to string.\n",
        "- **list()** : Converts a value to list.\n",
        "- **tuple()** : Converts a value to tuple.\n",
        "- **set()** : Converts a  value to set."
      ],
      "metadata": {
        "id": "JxcGfPo9--ko"
      }
    },
    {
      "cell_type": "code",
      "source": [
        "# Convert integer to float\n",
        "int_num = 18\n",
        "float_num = float(int_num)\n",
        "print(f\"Integer: {int_num}, converted to float: {float_num} (Type: {type(float_num)})\")\n"
      ],
      "metadata": {
        "colab": {
          "base_uri": "https://localhost:8080/"
        },
        "id": "XdRowDZ7-F1Z",
        "outputId": "739171e9-9c3b-4e2d-d88c-5c02fee4c43d"
      },
      "execution_count": 32,
      "outputs": [
        {
          "output_type": "stream",
          "name": "stdout",
          "text": [
            "Integer: 18, converted to float: 18.0 (Type: <class 'float'>)\n"
          ]
        }
      ]
    },
    {
      "cell_type": "code",
      "source": [
        "# Convert float to integer (truncates decimal part)\n",
        "float_num_2 = 3.95\n",
        "int_num_2 = int(float_num_2)\n",
        "print(f\"Float: {float_num_2}, converted to integer: {int_num_2} (Type: {type(int_num_2)})\")\n",
        "\n"
      ],
      "metadata": {
        "colab": {
          "base_uri": "https://localhost:8080/"
        },
        "id": "FV6tTAfPBsF1",
        "outputId": "6e8aa585-ef94-4e6c-d5a5-e2bd29adbba0"
      },
      "execution_count": 33,
      "outputs": [
        {
          "output_type": "stream",
          "name": "stdout",
          "text": [
            "Float: 3.95, converted to integer: 3 (Type: <class 'int'>)\n"
          ]
        }
      ]
    },
    {
      "cell_type": "code",
      "source": [
        "# Convert integer to string\n",
        "int_num_3 = 18\n",
        "str_num = str(int_num_3)\n",
        "print(f\"Integer: {int_num_3}, converted to string: {str_num} (Type: {type(str_num)})\")\n"
      ],
      "metadata": {
        "colab": {
          "base_uri": "https://localhost:8080/"
        },
        "id": "2KgbAtGtBoa2",
        "outputId": "4326da0f-ac03-4604-c413-54c972edbe46"
      },
      "execution_count": 34,
      "outputs": [
        {
          "output_type": "stream",
          "name": "stdout",
          "text": [
            "Integer: 18, converted to string: 18 (Type: <class 'str'>)\n"
          ]
        }
      ]
    },
    {
      "cell_type": "code",
      "source": [
        "# Convert float to string\n",
        "float_num_3 = 3.14\n",
        "str_float = str(float_num_3)\n",
        "print(f\"Float: {float_num_3}, converted to string: {str_float} (Type: {type(str_float)})\")\n"
      ],
      "metadata": {
        "colab": {
          "base_uri": "https://localhost:8080/"
        },
        "id": "sAeHyuXBBoXd",
        "outputId": "70811c41-9fb5-4998-ce88-bc3e1306ba00"
      },
      "execution_count": 35,
      "outputs": [
        {
          "output_type": "stream",
          "name": "stdout",
          "text": [
            "Float: 3.14, converted to string: 3.14 (Type: <class 'str'>)\n"
          ]
        }
      ]
    },
    {
      "cell_type": "code",
      "source": [
        "# Convert string to integer (if the string represents an integer)\n",
        "str_int = \"123\"\n",
        "try:\n",
        "  int_from_str = int(str_int)\n",
        "  print(f\"String: '{str_int}', converted to integer: {int_from_str} (Type: {type(int_from_str)})\")\n",
        "except ValueError as e:\n",
        "  print(f\"Cannot convert string '{str_int}' to integer: {e}\")\n"
      ],
      "metadata": {
        "colab": {
          "base_uri": "https://localhost:8080/"
        },
        "id": "IDXkeAESBkdv",
        "outputId": "957a2713-34db-42da-f255-48188e3b2b8c"
      },
      "execution_count": 36,
      "outputs": [
        {
          "output_type": "stream",
          "name": "stdout",
          "text": [
            "String: '123', converted to integer: 123 (Type: <class 'int'>)\n"
          ]
        }
      ]
    },
    {
      "cell_type": "code",
      "source": [
        "# Convert string to float (if the string represents a number)\n",
        "str_float_2 = \"3.14\"\n",
        "try:\n",
        "  float_from_str = float(str_float_2)\n",
        "  print(f\"String: '{str_float_2}', converted to float: {float_from_str} (Type: {type(float_from_str)})\")\n",
        "except ValueError as e:\n",
        "  print(f\"Cannot convert string '{str_float_2}' to float: {e}\")\n"
      ],
      "metadata": {
        "colab": {
          "base_uri": "https://localhost:8080/"
        },
        "id": "1VYns8GzBkaK",
        "outputId": "6d0246c0-bb03-41ac-b8f9-06c0a56b49f5"
      },
      "execution_count": 37,
      "outputs": [
        {
          "output_type": "stream",
          "name": "stdout",
          "text": [
            "String: '3.14', converted to float: 3.14 (Type: <class 'float'>)\n"
          ]
        }
      ]
    },
    {
      "cell_type": "code",
      "source": [
        "# Convert list to tuple\n",
        "my_list_to_tuple = [1, 2, 3, 4]\n",
        "my_tuple_from_list = tuple(my_list_to_tuple)\n",
        "print(f\"List: {my_list_to_tuple}, converted to tuple: {my_tuple_from_list} (Type: {type(my_tuple_from_list)})\")\n",
        "\n"
      ],
      "metadata": {
        "colab": {
          "base_uri": "https://localhost:8080/"
        },
        "id": "rh5bzGAnBfnT",
        "outputId": "ba4ccfcd-091c-48d7-a653-4b684aa26d03"
      },
      "execution_count": 38,
      "outputs": [
        {
          "output_type": "stream",
          "name": "stdout",
          "text": [
            "List: [1, 2, 3, 4], converted to tuple: (1, 2, 3, 4) (Type: <class 'tuple'>)\n"
          ]
        }
      ]
    },
    {
      "cell_type": "code",
      "source": [
        "# Convert tuple to list\n",
        "my_tuple_to_list = (5, 6, 7)\n",
        "my_list_from_tuple = list(my_tuple_to_list)\n",
        "print(f\"Tuple: {my_tuple_to_list}, converted to list: {my_list_from_tuple} (Type: {type(my_list_from_tuple)})\")\n",
        "\n"
      ],
      "metadata": {
        "colab": {
          "base_uri": "https://localhost:8080/"
        },
        "id": "UuwNKw4gBfj6",
        "outputId": "5836bdda-20da-4b63-a3a0-3cdf9b36262b"
      },
      "execution_count": 39,
      "outputs": [
        {
          "output_type": "stream",
          "name": "stdout",
          "text": [
            "Tuple: (5, 6, 7), converted to list: [5, 6, 7] (Type: <class 'list'>)\n"
          ]
        }
      ]
    },
    {
      "cell_type": "code",
      "source": [
        "# Convert list to set (removes duplicates)\n",
        "my_list_to_set = [1, 2, 2, 3, 4, 4, 5]\n",
        "my_set_from_list = set(my_list_to_set)\n",
        "print(f\"List: {my_list_to_set}, converted to set: {my_set_from_list} (Type: {type(my_set_from_list)})\")\n"
      ],
      "metadata": {
        "colab": {
          "base_uri": "https://localhost:8080/"
        },
        "id": "uUxzqxSsBfh2",
        "outputId": "771a0503-3853-43b7-94b0-1f7062b7d149"
      },
      "execution_count": 40,
      "outputs": [
        {
          "output_type": "stream",
          "name": "stdout",
          "text": [
            "List: [1, 2, 2, 3, 4, 4, 5], converted to set: {1, 2, 3, 4, 5} (Type: <class 'set'>)\n"
          ]
        }
      ]
    },
    {
      "cell_type": "code",
      "source": [
        "# Convert set to list (order is not guaranteed)\n",
        "my_set_to_list = {10, 20, 30}\n",
        "my_list_from_set = list(my_set_to_list)\n",
        "print(f\"Set: {my_set_to_list}, converted to list: {my_list_from_set} (Type: {type(my_list_from_set)})\")\n"
      ],
      "metadata": {
        "colab": {
          "base_uri": "https://localhost:8080/"
        },
        "id": "5r00G4zyBXIW",
        "outputId": "fd4d3a55-e87d-48f2-d2d8-fedd06df6f17"
      },
      "execution_count": 41,
      "outputs": [
        {
          "output_type": "stream",
          "name": "stdout",
          "text": [
            "Set: {10, 20, 30}, converted to list: [10, 20, 30] (Type: <class 'list'>)\n"
          ]
        }
      ]
    },
    {
      "cell_type": "code",
      "source": [
        "# Convert string to list of characters\n",
        "my_string_to_list = \"Nilanjan\"\n",
        "my_list_from_string = list(my_string_to_list)\n",
        "print(f\"String: '{my_string_to_list}', converted to list: {my_list_from_string} (Type: {type(my_list_from_string)})\")\n"
      ],
      "metadata": {
        "colab": {
          "base_uri": "https://localhost:8080/"
        },
        "id": "yc1AlTTN-FzC",
        "outputId": "502464c8-6072-4e20-f0ec-c9df1ff1d14a"
      },
      "execution_count": 42,
      "outputs": [
        {
          "output_type": "stream",
          "name": "stdout",
          "text": [
            "String: 'Nilanjan', converted to list: ['N', 'i', 'l', 'a', 'n', 'j', 'a', 'n'] (Type: <class 'list'>)\n"
          ]
        }
      ]
    },
    {
      "cell_type": "code",
      "source": [
        "# Convert string to tuple of characters\n",
        "my_string_to_tuple = \"Nilanjan\"\n",
        "my_tuple_from_string = tuple(my_string_to_tuple)\n",
        "print(f\"String: '{my_string_to_tuple}', converted to tuple: {my_tuple_from_string} (Type: {type(my_tuple_from_string)})\")\n"
      ],
      "metadata": {
        "colab": {
          "base_uri": "https://localhost:8080/"
        },
        "id": "wI24F7Vv-FwZ",
        "outputId": "c9b94fbb-04e7-45df-9053-e436c3e8b9a7"
      },
      "execution_count": 43,
      "outputs": [
        {
          "output_type": "stream",
          "name": "stdout",
          "text": [
            "String: 'Nilanjan', converted to tuple: ('N', 'i', 'l', 'a', 'n', 'j', 'a', 'n') (Type: <class 'tuple'>)\n"
          ]
        }
      ]
    },
    {
      "cell_type": "code",
      "source": [
        "# Convert iterable (like list or tuple) to set\n",
        "my_iterable_to_set = [1, 1, 2, 3, 'a', 'a']\n",
        "my_set_from_iterable = set(my_iterable_to_set)\n",
        "print(f\"Iterable: {my_iterable_to_set}, converted to set: {my_set_from_iterable} (Type: {type(my_set_from_iterable)})\")"
      ],
      "metadata": {
        "colab": {
          "base_uri": "https://localhost:8080/"
        },
        "id": "mGioIhW0-FuX",
        "outputId": "d503deb9-e89b-4af2-bf82-eab77261db98"
      },
      "execution_count": 44,
      "outputs": [
        {
          "output_type": "stream",
          "name": "stdout",
          "text": [
            "Iterable: [1, 1, 2, 3, 'a', 'a'], converted to set: {'a', 1, 2, 3} (Type: <class 'set'>)\n"
          ]
        }
      ]
    },
    {
      "cell_type": "code",
      "source": [],
      "metadata": {
        "id": "ovkHvpKnDR_t"
      },
      "execution_count": 44,
      "outputs": []
    }
  ]
}