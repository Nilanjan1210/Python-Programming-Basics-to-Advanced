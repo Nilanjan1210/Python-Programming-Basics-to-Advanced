{
  "nbformat": 4,
  "nbformat_minor": 0,
  "metadata": {
    "colab": {
      "provenance": [],
      "collapsed_sections": [
        "zhKQ8kPEW2WN",
        "HG7wdJrqXPHU",
        "5inuke5iabNl"
      ],
      "authorship_tag": "ABX9TyOKLZEuPB1S51+kEtDHK3o7",
      "include_colab_link": true
    },
    "kernelspec": {
      "name": "python3",
      "display_name": "Python 3"
    },
    "language_info": {
      "name": "python"
    }
  },
  "cells": [
    {
      "cell_type": "markdown",
      "metadata": {
        "id": "view-in-github",
        "colab_type": "text"
      },
      "source": [
        "<a href=\"https://colab.research.google.com/github/Nilanjan1210/Python-Programming-Basics-to-Advanced/blob/main/1_Introduction_And_Basics.ipynb\" target=\"_parent\"><img src=\"https://colab.research.google.com/assets/colab-badge.svg\" alt=\"Open In Colab\"/></a>"
      ]
    },
    {
      "cell_type": "code",
      "execution_count": 30,
      "metadata": {
        "colab": {
          "base_uri": "https://localhost:8080/"
        },
        "id": "2ry6p9xGU80p",
        "outputId": "9e6b8943-e20c-420c-cfd6-18c86f0fb020"
      },
      "outputs": [
        {
          "output_type": "stream",
          "name": "stdout",
          "text": [
            "Hello World\n"
          ]
        }
      ],
      "source": [
        "## This is a single line comment\n",
        "\"\"\"This\n",
        "is\n",
        "Multiline\n",
        "comment\"\"\"\n",
        "\n",
        "print(\"Hello World\")\n"
      ]
    },
    {
      "cell_type": "code",
      "source": [
        "## Line Continuation\n",
        "##Use a backslash (\\) to continue a statement to the next line\n",
        "\n",
        "total=1+2+3+4+5+6+7+\\\n",
        "4+5+6\n",
        "\n",
        "print(total)"
      ],
      "metadata": {
        "colab": {
          "base_uri": "https://localhost:8080/"
        },
        "id": "rZ6yFbtSWG93",
        "outputId": "d7c9b217-95f1-4a91-8de9-28bf39f21439"
      },
      "execution_count": 31,
      "outputs": [
        {
          "output_type": "stream",
          "name": "stdout",
          "text": [
            "43\n"
          ]
        }
      ]
    },
    {
      "cell_type": "code",
      "source": [
        "## Multiple Statements on a single line\n",
        "x=5;y=10;z=x+y\n",
        "print(z)"
      ],
      "metadata": {
        "colab": {
          "base_uri": "https://localhost:8080/"
        },
        "id": "LY7Dx_80WMGo",
        "outputId": "711b5404-4d74-4bce-8000-2859ea32f661"
      },
      "execution_count": 32,
      "outputs": [
        {
          "output_type": "stream",
          "name": "stdout",
          "text": [
            "15\n"
          ]
        }
      ]
    },
    {
      "cell_type": "code",
      "source": [
        "# variable assignment\n",
        "age=25 # age is an integer\n",
        "name=\"Nilanjan\" # name is a string\n",
        "print(type(age))\n",
        "print(type(name))"
      ],
      "metadata": {
        "colab": {
          "base_uri": "https://localhost:8080/"
        },
        "id": "hp8wDMjwWPMv",
        "outputId": "c28ccaa0-6680-44f9-ac80-6c011192e9c8"
      },
      "execution_count": 33,
      "outputs": [
        {
          "output_type": "stream",
          "name": "stdout",
          "text": [
            "<class 'int'>\n",
            "<class 'str'>\n"
          ]
        }
      ]
    },
    {
      "cell_type": "markdown",
      "source": [
        "### Indentation\n",
        "Indentation in Python is used to define the structure and hierarchy of the code. Unlike many other programming languages that use braces {} to delimit blocks of code, Python uses indentation to determine the grouping of statements. This means that all the statements within a block must be indented at the same level."
      ],
      "metadata": {
        "id": "zhKQ8kPEW2WN"
      }
    },
    {
      "cell_type": "code",
      "source": [
        "name = 'nilanjan'\n",
        "if name == \"nilanjan\":\n",
        "  print(name)\n",
        "else:\n",
        "  print(\"not found\")"
      ],
      "metadata": {
        "colab": {
          "base_uri": "https://localhost:8080/"
        },
        "id": "d1sditNGWZEa",
        "outputId": "7a6b950f-f28c-4fd3-895d-3a7b1c43da6e"
      },
      "execution_count": 34,
      "outputs": [
        {
          "output_type": "stream",
          "name": "stdout",
          "text": [
            "nilanjan\n"
          ]
        }
      ]
    },
    {
      "cell_type": "markdown",
      "source": [
        "### Variables\n",
        "Variable is a name given to a value. Variables are used to store and manipulate data in a program. In Python, variables are created when you assign a value to them, and they do not need explicit declaration to reserve memory space. The declaration happens automatically when you assign a value to a variable.\n",
        "\n"
      ],
      "metadata": {
        "id": "HG7wdJrqXPHU"
      }
    },
    {
      "cell_type": "code",
      "source": [
        "## Declaring And Assigning Variables\n",
        "\n",
        "name=\"Nilanjan\"\n",
        "age=25\n",
        "height=6.1\n",
        "is_student=True\n",
        "\n",
        "## printing the variables\n",
        "print(\"Name:\",name)\n",
        "print(\"age :\",age)\n",
        "print(\"Height:\",height)\n"
      ],
      "metadata": {
        "colab": {
          "base_uri": "https://localhost:8080/"
        },
        "id": "nDuQtfq6XKJC",
        "outputId": "7627f4f8-03c1-40b6-9da5-19f94dc30177"
      },
      "execution_count": 35,
      "outputs": [
        {
          "output_type": "stream",
          "name": "stdout",
          "text": [
            "Name: Nilanjan\n",
            "age : 25\n",
            "Height: 6.1\n"
          ]
        }
      ]
    },
    {
      "cell_type": "code",
      "source": [
        "## Naming Conventions\n",
        "## Variable names should be descriptive\n",
        "## They must start with a letter or an '_' and contains letter,numbers and underscores\n",
        "## variables names case sensitive\n",
        "\n",
        "#valid variable names\n",
        "\n",
        "first_name=\"Nilanjan\"\n",
        "last_name=\"Samanta\"\n",
        "print(first_name, last_name)"
      ],
      "metadata": {
        "colab": {
          "base_uri": "https://localhost:8080/"
        },
        "id": "2YmY5egoYVDb",
        "outputId": "b6cf17bd-87d3-460e-f2a8-04e8f3a4064b"
      },
      "execution_count": 36,
      "outputs": [
        {
          "output_type": "stream",
          "name": "stdout",
          "text": [
            "Nilanjan Samanta\n"
          ]
        }
      ]
    },
    {
      "cell_type": "code",
      "source": [
        "# Invalid variable names\n",
        "# 2age=30\n",
        "# first-name=\"Nilanjan\"\n",
        "## @name=\"Nilanjan\""
      ],
      "metadata": {
        "id": "VAcfIRnPYkfZ"
      },
      "execution_count": 37,
      "outputs": []
    },
    {
      "cell_type": "code",
      "source": [
        "## case sensitivity\n",
        "name=\"Nilanjan\"\n",
        "Name=\"Samanta\"\n",
        "print(name,Name)\n",
        "print(name==Name)"
      ],
      "metadata": {
        "colab": {
          "base_uri": "https://localhost:8080/"
        },
        "id": "8lrRgbl8YsBT",
        "outputId": "737eca0c-5510-4597-92b6-db86ce19aceb"
      },
      "execution_count": 38,
      "outputs": [
        {
          "output_type": "stream",
          "name": "stdout",
          "text": [
            "Nilanjan Samanta\n",
            "False\n"
          ]
        }
      ]
    },
    {
      "cell_type": "code",
      "source": [
        "## Understnading Variable types\n",
        "## Python is dynamically typed,type of a variable is determined at runtime\n",
        "age=25 #int\n",
        "hight=6.1 #float\n",
        "name=\"Nilanjan\" #str\n",
        "is_student=True #bool\n",
        "\n",
        "## Type Checking\n",
        "print(type(name))\n",
        "print(type(age))\n",
        "print(type(hight))\n",
        "print(type(is_student))\n"
      ],
      "metadata": {
        "colab": {
          "base_uri": "https://localhost:8080/"
        },
        "id": "ypAxJSw6Yr9x",
        "outputId": "b34ab624-6aec-444b-d633-171cda05d4df"
      },
      "execution_count": 39,
      "outputs": [
        {
          "output_type": "stream",
          "name": "stdout",
          "text": [
            "<class 'str'>\n",
            "<class 'int'>\n",
            "<class 'float'>\n",
            "<class 'bool'>\n"
          ]
        }
      ]
    },
    {
      "cell_type": "code",
      "source": [
        "age=\"25\"\n",
        "print(age,type(age))\n",
        "age=int(age)\n",
        "print(age,type(age))\n",
        "age=str(age)\n",
        "print(age,type(age))"
      ],
      "metadata": {
        "colab": {
          "base_uri": "https://localhost:8080/"
        },
        "id": "86LFVM5LYr7P",
        "outputId": "43e9e4c7-ce48-4ff5-e705-0bf100fcb963"
      },
      "execution_count": 40,
      "outputs": [
        {
          "output_type": "stream",
          "name": "stdout",
          "text": [
            "25 <class 'str'>\n",
            "25 <class 'int'>\n",
            "25 <class 'str'>\n"
          ]
        }
      ]
    },
    {
      "cell_type": "code",
      "source": [
        "name=\"Nilanjan\"\n",
        "try :\n",
        "  int(name)\n",
        "except Exception as e:\n",
        "  print(e)"
      ],
      "metadata": {
        "colab": {
          "base_uri": "https://localhost:8080/"
        },
        "id": "wvXoZsiLZdkm",
        "outputId": "ec1cd591-bcbb-49f0-b732-02e7eb1f4d8b"
      },
      "execution_count": 41,
      "outputs": [
        {
          "output_type": "stream",
          "name": "stdout",
          "text": [
            "invalid literal for int() with base 10: 'Nilanjan'\n"
          ]
        }
      ]
    },
    {
      "cell_type": "code",
      "source": [
        "## Dynamic Typing\n",
        "## Python allows the type of a vraible to change as the program executes\n",
        "var=10 #int\n",
        "print(var,type(var))\n",
        "\n",
        "var=\"Hello\"\n",
        "print(var,type(var))\n",
        "\n",
        "var=3.14\n",
        "print(var,type(var))\n",
        "\n"
      ],
      "metadata": {
        "colab": {
          "base_uri": "https://localhost:8080/"
        },
        "id": "T2pjPCtXZ3IR",
        "outputId": "a2c3e48b-ad52-4459-fb4b-250b3ea18ee4"
      },
      "execution_count": 42,
      "outputs": [
        {
          "output_type": "stream",
          "name": "stdout",
          "text": [
            "10 <class 'int'>\n",
            "Hello <class 'str'>\n",
            "3.14 <class 'float'>\n"
          ]
        }
      ]
    },
    {
      "cell_type": "code",
      "source": [
        "### Simple calculator\n",
        "num1 = float(input(\"Enter first number: \"))\n",
        "num2 = float(input(\"Enter second number: \"))\n",
        "\n",
        "sum = num1 + num2\n",
        "difference = num1 - num2\n",
        "product = num1 * num2\n",
        "quotient = num1 / num2\n",
        "\n",
        "print(\"Sum:\", sum)\n",
        "print(\"Difference:\", difference)\n",
        "print(\"Product:\", product)\n",
        "print(\"Quotient:\", quotient)\n"
      ],
      "metadata": {
        "colab": {
          "base_uri": "https://localhost:8080/"
        },
        "id": "lTiFDFncaCNM",
        "outputId": "2cb3c5da-39d5-4ad9-e7cb-bb9fb9a22b1c"
      },
      "execution_count": 44,
      "outputs": [
        {
          "output_type": "stream",
          "name": "stdout",
          "text": [
            "Enter first number: 25\n",
            "Enter second number: 7\n",
            "Sum: 32.0\n",
            "Difference: 18.0\n",
            "Product: 175.0\n",
            "Quotient: 3.5714285714285716\n"
          ]
        }
      ]
    },
    {
      "cell_type": "markdown",
      "source": [
        "### Print and Input Function\n",
        "\n",
        "- The print() function in Python is used to output text or value to the screen. It can take multiple arguments which are separated by comma.\n",
        "\n",
        "- We can get input from user the input() function. The input() function returns a string value represent the user's input."
      ],
      "metadata": {
        "id": "5inuke5iabNl"
      }
    },
    {
      "cell_type": "code",
      "source": [
        "\n",
        "# Printing a single value (string)\n",
        "print(\"Hello World\")\n",
        "\n",
        "# Printing multiple values (integers) separated by default space\n",
        "a = 1\n",
        "b = 2\n",
        "c = 3\n",
        "print(a, b, c)\n",
        "\n",
        "# The print() function has several optional arguments:\n",
        "\n",
        "# sep: Specifies the separator between the arguments. Default is a space.\n",
        "print(a, b, c, sep='-')\n",
        "\n",
        "# end: Specifies what to print at the end. Default is a newline character (\\n).\n",
        "print(a, end=' ')\n",
        "print(b) # Output: 1 2 (prints 1 followed by a space, then 2 on the same line)\n",
        "\n",
        "# Printing different data types\n",
        "print(\"Integer:\", age)\n",
        "print(\"Float:\", 6.1)\n",
        "print(\"Boolean:\", True)\n",
        "print(\"List:\", [1, 2, 3])\n",
        "print(\"Dictionary:\", {\"a\": 1, \"b\": 2})\n"
      ],
      "metadata": {
        "colab": {
          "base_uri": "https://localhost:8080/"
        },
        "id": "7WcPsbHPbhVO",
        "outputId": "bc5f0e9f-7220-4b93-8967-2dc432191049"
      },
      "execution_count": 45,
      "outputs": [
        {
          "output_type": "stream",
          "name": "stdout",
          "text": [
            "Hello World\n",
            "1 2 3\n",
            "1-2-3\n",
            "1 2\n",
            "Integer: 25\n",
            "Float: 6.1\n",
            "Boolean: True\n",
            "List: [1, 2, 3]\n",
            "Dictionary: {'a': 1, 'b': 2}\n"
          ]
        }
      ]
    },
    {
      "cell_type": "code",
      "source": [
        "user_input = input(\"Enter your name: \")\n",
        "print(\"Hello,\", user_input)\n",
        "print(type(user_input))"
      ],
      "metadata": {
        "colab": {
          "base_uri": "https://localhost:8080/"
        },
        "id": "BAGZpVSycPaB",
        "outputId": "457e48a7-3189-4c82-c8cf-e38f5e41c90a"
      },
      "execution_count": 46,
      "outputs": [
        {
          "output_type": "stream",
          "name": "stdout",
          "text": [
            "Enter your name: \n",
            "Hello, \n",
            "<class 'str'>\n"
          ]
        }
      ]
    },
    {
      "cell_type": "code",
      "source": [
        "int_input = input(\"Enter an integer: \")\n",
        "print(\"You entered:\", int_input)\n",
        "print(type(int_input))\n",
        "# type conversion str to int\n",
        "int_input = int(int_input)\n",
        "print(type(int_input))"
      ],
      "metadata": {
        "colab": {
          "base_uri": "https://localhost:8080/"
        },
        "id": "JG5L6_uycuk9",
        "outputId": "3b523bd4-19d8-4c69-94b6-9e4e876b2c48"
      },
      "execution_count": 47,
      "outputs": [
        {
          "output_type": "stream",
          "name": "stdout",
          "text": [
            "Enter an integer: 52\n",
            "You entered: 52\n",
            "<class 'str'>\n",
            "<class 'int'>\n"
          ]
        }
      ]
    },
    {
      "cell_type": "markdown",
      "source": [
        "### Type function\n",
        "- The type() function is used to determine the data type of a variable or a value."
      ],
      "metadata": {
        "id": "8YwerGszARdx"
      }
    },
    {
      "cell_type": "code",
      "source": [
        "# String data type\n",
        "name = 'Nilanjan'\n",
        "print(type(name))"
      ],
      "metadata": {
        "colab": {
          "base_uri": "https://localhost:8080/"
        },
        "id": "7zZdcpGEAQXj",
        "outputId": "d0b039a6-ef12-49b9-8b6e-17964d088408"
      },
      "execution_count": 48,
      "outputs": [
        {
          "output_type": "stream",
          "name": "stdout",
          "text": [
            "<class 'str'>\n"
          ]
        }
      ]
    },
    {
      "cell_type": "markdown",
      "source": [
        "### Data Types\n",
        "Python has several built-in data types including...\n",
        "- **Integer** : Whole numbers e.g. 1,2,3\n",
        "- **Float** : Decimal numbers e.g 3.14, 0.5\n",
        "- **String** : Sequence of character e.g. 'Hello', \"Nilanjan\". String can be enclosed in single or double quotes.\n",
        "- **Boolean** : A logical value that can be either *True* or *False*.\n",
        "- **List** : An order collection of items e.g. [1,2,3] , ['a','b','c']\n",
        "- **Tuple** : Ordered, immutable collectio of items e.g. (1,2,3), ('a','b','c')\n",
        "- **Dictionary** : Unorder collection of key-value pairs e.g. {'name':'Nilanjan', 'age':25}\n",
        "- **Complex Number**: Number with real and imaginary parts e.g. 3+4j, 2+5j\n",
        "- **Set** : Unorder collectio of unique items e.g. {1,2,3}, {'a','b','c'}\n",
        "-  **Frozenset** : Immutable sets e.g. forzenset({1,2})\n",
        "- **Bytes** : Sequence of integer in the range 0 <= x < 256 e.g. b'hello'\n",
        "- **ByteArray** : Mutable sequence of integers in the range 0 <= x <256 e.g. bytearray(b'Hello')\n",
        "- **MemoryView** : A view into an existing buffer e.g. memoryview(b'hello')\n",
        "\n"
      ],
      "metadata": {
        "id": "OkHUyZPx5WbX"
      }
    },
    {
      "cell_type": "code",
      "source": [
        "# Integer\n",
        "my_integer = 10\n",
        "print(\"Data:\", my_integer)\n",
        "print(\"Type:\", type(my_integer))"
      ],
      "metadata": {
        "id": "hH2nZ9qDc4Ai",
        "colab": {
          "base_uri": "https://localhost:8080/"
        },
        "outputId": "976b3053-de43-4d3c-dc38-35a9aded97c0"
      },
      "execution_count": 49,
      "outputs": [
        {
          "output_type": "stream",
          "name": "stdout",
          "text": [
            "Data: 10\n",
            "Type: <class 'int'>\n"
          ]
        }
      ]
    },
    {
      "cell_type": "code",
      "source": [
        "# Float\n",
        "my_float = 3.14\n",
        "print(\"Data:\", my_float)\n",
        "print(\"Type:\", type(my_float))"
      ],
      "metadata": {
        "colab": {
          "base_uri": "https://localhost:8080/"
        },
        "id": "LvVsEwfP-Zz3",
        "outputId": "45988efe-27d9-46ab-d228-80107f8e64f8"
      },
      "execution_count": 50,
      "outputs": [
        {
          "output_type": "stream",
          "name": "stdout",
          "text": [
            "Data: 3.14\n",
            "Type: <class 'float'>\n"
          ]
        }
      ]
    },
    {
      "cell_type": "code",
      "source": [
        "# String\n",
        "my_string = \"Hello Python\"\n",
        "print(\"Data:\", my_string)\n",
        "print(\"Type:\", type(my_string))"
      ],
      "metadata": {
        "colab": {
          "base_uri": "https://localhost:8080/"
        },
        "id": "0b7Hu-w1-T6j",
        "outputId": "f7b71509-8e9b-40e5-8b0a-d0ec8afc4ed3"
      },
      "execution_count": 51,
      "outputs": [
        {
          "output_type": "stream",
          "name": "stdout",
          "text": [
            "Data: Hello Python\n",
            "Type: <class 'str'>\n"
          ]
        }
      ]
    },
    {
      "cell_type": "code",
      "source": [
        "# Boolean\n",
        "my_boolean = True\n",
        "print(\"Data:\", my_boolean)\n",
        "print(\"Type:\", type(my_boolean))"
      ],
      "metadata": {
        "colab": {
          "base_uri": "https://localhost:8080/"
        },
        "id": "kMMpzNeH-T3N",
        "outputId": "be69e141-f5d8-4cb9-d97d-8660df9f96bc"
      },
      "execution_count": 52,
      "outputs": [
        {
          "output_type": "stream",
          "name": "stdout",
          "text": [
            "Data: True\n",
            "Type: <class 'bool'>\n"
          ]
        }
      ]
    },
    {
      "cell_type": "code",
      "source": [
        "# List\n",
        "my_list = [1, 2, 3, 'a', 'b']\n",
        "print(\"Data:\", my_list)\n",
        "print(\"Type:\", type(my_list))\n"
      ],
      "metadata": {
        "colab": {
          "base_uri": "https://localhost:8080/"
        },
        "id": "VaVu0uG8-T1E",
        "outputId": "30031780-abc6-4094-9ae7-bb6ebd74eecd"
      },
      "execution_count": 53,
      "outputs": [
        {
          "output_type": "stream",
          "name": "stdout",
          "text": [
            "Data: [1, 2, 3, 'a', 'b']\n",
            "Type: <class 'list'>\n"
          ]
        }
      ]
    },
    {
      "cell_type": "code",
      "source": [
        "# Tuple\n",
        "my_tuple = (1, 2, 3, 'a', 'b')\n",
        "print(\"Data:\", my_tuple)\n",
        "print(\"Type:\", type(my_tuple))"
      ],
      "metadata": {
        "colab": {
          "base_uri": "https://localhost:8080/"
        },
        "id": "I8UVhs67-QOW",
        "outputId": "52f745bc-4807-48a9-b57b-6a9355493080"
      },
      "execution_count": 54,
      "outputs": [
        {
          "output_type": "stream",
          "name": "stdout",
          "text": [
            "Data: (1, 2, 3, 'a', 'b')\n",
            "Type: <class 'tuple'>\n"
          ]
        }
      ]
    },
    {
      "cell_type": "code",
      "source": [
        "# Dictionary\n",
        "my_dict = {'name': 'Alice', 'age': 30}\n",
        "print(\"Data:\", my_dict)\n",
        "print(\"Type:\", type(my_dict))"
      ],
      "metadata": {
        "colab": {
          "base_uri": "https://localhost:8080/"
        },
        "id": "2K0jyvE1-QK8",
        "outputId": "1d0111f1-8eef-482a-a6da-469a1919b0bb"
      },
      "execution_count": 55,
      "outputs": [
        {
          "output_type": "stream",
          "name": "stdout",
          "text": [
            "Data: {'name': 'Alice', 'age': 30}\n",
            "Type: <class 'dict'>\n"
          ]
        }
      ]
    },
    {
      "cell_type": "code",
      "source": [
        "# Complex Number\n",
        "my_complex = 2 + 3j\n",
        "print(\"Data:\", my_complex)\n",
        "print(\"Type:\", type(my_complex))"
      ],
      "metadata": {
        "colab": {
          "base_uri": "https://localhost:8080/"
        },
        "id": "X31sZ2Q7-GEO",
        "outputId": "457c5c02-ff89-4a89-bd6a-6fd169fb4c71"
      },
      "execution_count": 56,
      "outputs": [
        {
          "output_type": "stream",
          "name": "stdout",
          "text": [
            "Data: (2+3j)\n",
            "Type: <class 'complex'>\n"
          ]
        }
      ]
    },
    {
      "cell_type": "code",
      "source": [
        "# Set\n",
        "my_set = {1, 2, 3, 3, 4} # Sets store unique elements\n",
        "print(\"Data:\", my_set)\n",
        "print(\"Type:\", type(my_set))"
      ],
      "metadata": {
        "colab": {
          "base_uri": "https://localhost:8080/"
        },
        "id": "L3NLk_Dp-GA_",
        "outputId": "c5b8b380-af36-47ff-ee46-edc73af8aa9f"
      },
      "execution_count": 57,
      "outputs": [
        {
          "output_type": "stream",
          "name": "stdout",
          "text": [
            "Data: {1, 2, 3, 4}\n",
            "Type: <class 'set'>\n"
          ]
        }
      ]
    },
    {
      "cell_type": "code",
      "source": [
        "# Frozenset\n",
        "my_frozenset = frozenset({1, 2, 3, 3, 4}) # Frozensets are immutable sets\n",
        "print(\"Data:\", my_frozenset)\n",
        "print(\"Type:\", type(my_frozenset))"
      ],
      "metadata": {
        "colab": {
          "base_uri": "https://localhost:8080/"
        },
        "id": "MeNszPyz-F--",
        "outputId": "d7798ef4-f466-49a2-e177-0aee819cd448"
      },
      "execution_count": 58,
      "outputs": [
        {
          "output_type": "stream",
          "name": "stdout",
          "text": [
            "Data: frozenset({1, 2, 3, 4})\n",
            "Type: <class 'frozenset'>\n"
          ]
        }
      ]
    },
    {
      "cell_type": "code",
      "source": [
        "# Bytes\n",
        "my_bytes = b'hello'\n",
        "print(\"Data:\", my_bytes)\n",
        "print(\"Type:\", type(my_bytes))"
      ],
      "metadata": {
        "colab": {
          "base_uri": "https://localhost:8080/"
        },
        "id": "IMgzL07a-F8u",
        "outputId": "56346b06-732b-4ec9-bc37-af66e59ca1c0"
      },
      "execution_count": 59,
      "outputs": [
        {
          "output_type": "stream",
          "name": "stdout",
          "text": [
            "Data: b'hello'\n",
            "Type: <class 'bytes'>\n"
          ]
        }
      ]
    },
    {
      "cell_type": "code",
      "source": [
        "# Bytearray\n",
        "my_bytearray = bytearray(b'Hello')\n",
        "print(\"Data:\", my_bytearray)\n",
        "print(\"Type:\", type(my_bytearray))\n"
      ],
      "metadata": {
        "colab": {
          "base_uri": "https://localhost:8080/"
        },
        "id": "rJvM-sM5-F6G",
        "outputId": "4accfd44-c68d-4192-8919-6f1aed21e8c1"
      },
      "execution_count": 60,
      "outputs": [
        {
          "output_type": "stream",
          "name": "stdout",
          "text": [
            "Data: bytearray(b'Hello')\n",
            "Type: <class 'bytearray'>\n"
          ]
        }
      ]
    },
    {
      "cell_type": "code",
      "source": [
        "# Memoryview\n",
        "my_memoryview = memoryview(b'hello world')\n",
        "print(\"Data:\", my_memoryview)\n",
        "print(\"Type:\", type(my_memoryview))"
      ],
      "metadata": {
        "colab": {
          "base_uri": "https://localhost:8080/"
        },
        "id": "Q-zm-l5x-F31",
        "outputId": "ae6d0982-858f-442e-94a4-3902708ff1c0"
      },
      "execution_count": 61,
      "outputs": [
        {
          "output_type": "stream",
          "name": "stdout",
          "text": [
            "Data: <memory at 0x7e082ab57400>\n",
            "Type: <class 'memoryview'>\n"
          ]
        }
      ]
    },
    {
      "cell_type": "markdown",
      "source": [
        "### Type conversion\n",
        "we can convert between different data type using various function such as -\n",
        "- **int()** : Converts a value to an interger.\n",
        "- **float()** : Converts a vlue to an float.\n",
        "- **str()** : Converts a value to string.\n",
        "- **list()** : Converts a value to list.\n",
        "- **tuple()** : Converts a value to tuple.\n",
        "- **set()** : Converts a  value to set."
      ],
      "metadata": {
        "id": "JxcGfPo9--ko"
      }
    },
    {
      "cell_type": "code",
      "source": [
        "# Convert integer to float\n",
        "int_num = 18\n",
        "float_num = float(int_num)\n",
        "print(f\"Integer: {int_num}, converted to float: {float_num} (Type: {type(float_num)})\")\n"
      ],
      "metadata": {
        "colab": {
          "base_uri": "https://localhost:8080/"
        },
        "id": "XdRowDZ7-F1Z",
        "outputId": "12cdeea5-c2ce-4f53-dc24-e0359ba3017b"
      },
      "execution_count": 75,
      "outputs": [
        {
          "output_type": "stream",
          "name": "stdout",
          "text": [
            "Integer: 18, converted to float: 18.0 (Type: <class 'float'>)\n"
          ]
        }
      ]
    },
    {
      "cell_type": "code",
      "source": [
        "# Convert float to integer (truncates decimal part)\n",
        "float_num_2 = 3.95\n",
        "int_num_2 = int(float_num_2)\n",
        "print(f\"Float: {float_num_2}, converted to integer: {int_num_2} (Type: {type(int_num_2)})\")\n",
        "\n"
      ],
      "metadata": {
        "colab": {
          "base_uri": "https://localhost:8080/"
        },
        "id": "FV6tTAfPBsF1",
        "outputId": "f495c008-2bad-457e-f655-afeb7a69bee5"
      },
      "execution_count": 76,
      "outputs": [
        {
          "output_type": "stream",
          "name": "stdout",
          "text": [
            "Float: 3.95, converted to integer: 3 (Type: <class 'int'>)\n"
          ]
        }
      ]
    },
    {
      "cell_type": "code",
      "source": [
        "# Convert integer to string\n",
        "int_num_3 = 18\n",
        "str_num = str(int_num_3)\n",
        "print(f\"Integer: {int_num_3}, converted to string: {str_num} (Type: {type(str_num)})\")\n"
      ],
      "metadata": {
        "colab": {
          "base_uri": "https://localhost:8080/"
        },
        "id": "2KgbAtGtBoa2",
        "outputId": "12d3398a-330a-4a9d-ce5c-3094b1135d05"
      },
      "execution_count": 77,
      "outputs": [
        {
          "output_type": "stream",
          "name": "stdout",
          "text": [
            "Integer: 18, converted to string: 18 (Type: <class 'str'>)\n"
          ]
        }
      ]
    },
    {
      "cell_type": "code",
      "source": [
        "# Convert float to string\n",
        "float_num_3 = 3.14\n",
        "str_float = str(float_num_3)\n",
        "print(f\"Float: {float_num_3}, converted to string: {str_float} (Type: {type(str_float)})\")\n"
      ],
      "metadata": {
        "colab": {
          "base_uri": "https://localhost:8080/"
        },
        "id": "sAeHyuXBBoXd",
        "outputId": "29a261fe-8cb1-4a4e-b0e8-7b23313d109d"
      },
      "execution_count": 78,
      "outputs": [
        {
          "output_type": "stream",
          "name": "stdout",
          "text": [
            "Float: 3.14, converted to string: 3.14 (Type: <class 'str'>)\n"
          ]
        }
      ]
    },
    {
      "cell_type": "code",
      "source": [
        "# Convert string to integer (if the string represents an integer)\n",
        "str_int = \"123\"\n",
        "try:\n",
        "  int_from_str = int(str_int)\n",
        "  print(f\"String: '{str_int}', converted to integer: {int_from_str} (Type: {type(int_from_str)})\")\n",
        "except ValueError as e:\n",
        "  print(f\"Cannot convert string '{str_int}' to integer: {e}\")\n"
      ],
      "metadata": {
        "colab": {
          "base_uri": "https://localhost:8080/"
        },
        "id": "IDXkeAESBkdv",
        "outputId": "5af43e23-1724-4bdc-b4a3-b6c0f0ba7598"
      },
      "execution_count": 79,
      "outputs": [
        {
          "output_type": "stream",
          "name": "stdout",
          "text": [
            "String: '123', converted to integer: 123 (Type: <class 'int'>)\n"
          ]
        }
      ]
    },
    {
      "cell_type": "code",
      "source": [
        "# Convert string to float (if the string represents a number)\n",
        "str_float_2 = \"3.14\"\n",
        "try:\n",
        "  float_from_str = float(str_float_2)\n",
        "  print(f\"String: '{str_float_2}', converted to float: {float_from_str} (Type: {type(float_from_str)})\")\n",
        "except ValueError as e:\n",
        "  print(f\"Cannot convert string '{str_float_2}' to float: {e}\")\n"
      ],
      "metadata": {
        "colab": {
          "base_uri": "https://localhost:8080/"
        },
        "id": "1VYns8GzBkaK",
        "outputId": "f655341d-8cea-4faf-c1be-564500afd039"
      },
      "execution_count": 80,
      "outputs": [
        {
          "output_type": "stream",
          "name": "stdout",
          "text": [
            "String: '3.14', converted to float: 3.14 (Type: <class 'float'>)\n"
          ]
        }
      ]
    },
    {
      "cell_type": "code",
      "source": [
        "# Convert list to tuple\n",
        "my_list_to_tuple = [1, 2, 3, 4]\n",
        "my_tuple_from_list = tuple(my_list_to_tuple)\n",
        "print(f\"List: {my_list_to_tuple}, converted to tuple: {my_tuple_from_list} (Type: {type(my_tuple_from_list)})\")\n",
        "\n"
      ],
      "metadata": {
        "colab": {
          "base_uri": "https://localhost:8080/"
        },
        "id": "rh5bzGAnBfnT",
        "outputId": "ca327e02-0bca-49d7-f523-b54bb2b2288f"
      },
      "execution_count": 81,
      "outputs": [
        {
          "output_type": "stream",
          "name": "stdout",
          "text": [
            "List: [1, 2, 3, 4], converted to tuple: (1, 2, 3, 4) (Type: <class 'tuple'>)\n"
          ]
        }
      ]
    },
    {
      "cell_type": "code",
      "source": [
        "# Convert tuple to list\n",
        "my_tuple_to_list = (5, 6, 7)\n",
        "my_list_from_tuple = list(my_tuple_to_list)\n",
        "print(f\"Tuple: {my_tuple_to_list}, converted to list: {my_list_from_tuple} (Type: {type(my_list_from_tuple)})\")\n",
        "\n"
      ],
      "metadata": {
        "colab": {
          "base_uri": "https://localhost:8080/"
        },
        "id": "UuwNKw4gBfj6",
        "outputId": "735d6b66-3eb7-44b7-99be-13014e1aae86"
      },
      "execution_count": 82,
      "outputs": [
        {
          "output_type": "stream",
          "name": "stdout",
          "text": [
            "Tuple: (5, 6, 7), converted to list: [5, 6, 7] (Type: <class 'list'>)\n"
          ]
        }
      ]
    },
    {
      "cell_type": "code",
      "source": [
        "# Convert list to set (removes duplicates)\n",
        "my_list_to_set = [1, 2, 2, 3, 4, 4, 5]\n",
        "my_set_from_list = set(my_list_to_set)\n",
        "print(f\"List: {my_list_to_set}, converted to set: {my_set_from_list} (Type: {type(my_set_from_list)})\")\n"
      ],
      "metadata": {
        "colab": {
          "base_uri": "https://localhost:8080/"
        },
        "id": "uUxzqxSsBfh2",
        "outputId": "376ee251-cc89-4cc2-80ca-9af25f91f446"
      },
      "execution_count": 83,
      "outputs": [
        {
          "output_type": "stream",
          "name": "stdout",
          "text": [
            "List: [1, 2, 2, 3, 4, 4, 5], converted to set: {1, 2, 3, 4, 5} (Type: <class 'set'>)\n"
          ]
        }
      ]
    },
    {
      "cell_type": "code",
      "source": [
        "# Convert set to list (order is not guaranteed)\n",
        "my_set_to_list = {10, 20, 30}\n",
        "my_list_from_set = list(my_set_to_list)\n",
        "print(f\"Set: {my_set_to_list}, converted to list: {my_list_from_set} (Type: {type(my_list_from_set)})\")\n"
      ],
      "metadata": {
        "colab": {
          "base_uri": "https://localhost:8080/"
        },
        "id": "5r00G4zyBXIW",
        "outputId": "2c0d61e8-7fa7-4709-c5ed-b1251bba6396"
      },
      "execution_count": 85,
      "outputs": [
        {
          "output_type": "stream",
          "name": "stdout",
          "text": [
            "Set: {10, 20, 30}, converted to list: [10, 20, 30] (Type: <class 'list'>)\n"
          ]
        }
      ]
    },
    {
      "cell_type": "code",
      "source": [
        "# Convert string to list of characters\n",
        "my_string_to_list = \"Nilanjan\"\n",
        "my_list_from_string = list(my_string_to_list)\n",
        "print(f\"String: '{my_string_to_list}', converted to list: {my_list_from_string} (Type: {type(my_list_from_string)})\")\n"
      ],
      "metadata": {
        "colab": {
          "base_uri": "https://localhost:8080/"
        },
        "id": "yc1AlTTN-FzC",
        "outputId": "c7893c80-3e88-43b0-f2d7-e8dc20df6da8"
      },
      "execution_count": 88,
      "outputs": [
        {
          "output_type": "stream",
          "name": "stdout",
          "text": [
            "String: 'Nilanjan', converted to list: ['N', 'i', 'l', 'a', 'n', 'j', 'a', 'n'] (Type: <class 'list'>)\n"
          ]
        }
      ]
    },
    {
      "cell_type": "code",
      "source": [
        "# Convert string to tuple of characters\n",
        "my_string_to_tuple = \"Nilanjan\"\n",
        "my_tuple_from_string = tuple(my_string_to_tuple)\n",
        "print(f\"String: '{my_string_to_tuple}', converted to tuple: {my_tuple_from_string} (Type: {type(my_tuple_from_string)})\")\n"
      ],
      "metadata": {
        "colab": {
          "base_uri": "https://localhost:8080/"
        },
        "id": "wI24F7Vv-FwZ",
        "outputId": "b39a7c57-a662-407b-dfa0-ebb27691a93f"
      },
      "execution_count": 89,
      "outputs": [
        {
          "output_type": "stream",
          "name": "stdout",
          "text": [
            "String: 'Nilanjan', converted to tuple: ('N', 'i', 'l', 'a', 'n', 'j', 'a', 'n') (Type: <class 'tuple'>)\n"
          ]
        }
      ]
    },
    {
      "cell_type": "code",
      "source": [
        "# Convert iterable (like list or tuple) to set\n",
        "my_iterable_to_set = [1, 1, 2, 3, 'a', 'a']\n",
        "my_set_from_iterable = set(my_iterable_to_set)\n",
        "print(f\"Iterable: {my_iterable_to_set}, converted to set: {my_set_from_iterable} (Type: {type(my_set_from_iterable)})\")"
      ],
      "metadata": {
        "colab": {
          "base_uri": "https://localhost:8080/"
        },
        "id": "mGioIhW0-FuX",
        "outputId": "e4cc73d2-1c3d-44aa-848a-c29438ea6d12"
      },
      "execution_count": 90,
      "outputs": [
        {
          "output_type": "stream",
          "name": "stdout",
          "text": [
            "Iterable: [1, 1, 2, 3, 'a', 'a'], converted to set: {'a', 1, 2, 3} (Type: <class 'set'>)\n"
          ]
        }
      ]
    },
    {
      "cell_type": "code",
      "source": [],
      "metadata": {
        "id": "SRS-MBquCUMr"
      },
      "execution_count": 90,
      "outputs": []
    }
  ]
}