{
  "nbformat": 4,
  "nbformat_minor": 0,
  "metadata": {
    "colab": {
      "provenance": [],
      "authorship_tag": "ABX9TyMsKMuTRoBMQVYlfrXQ06oA",
      "include_colab_link": true
    },
    "kernelspec": {
      "name": "python3",
      "display_name": "Python 3"
    },
    "language_info": {
      "name": "python"
    }
  },
  "cells": [
    {
      "cell_type": "markdown",
      "metadata": {
        "id": "view-in-github",
        "colab_type": "text"
      },
      "source": [
        "<a href=\"https://colab.research.google.com/github/Nilanjan1210/Python-Programming-Basics-to-Advanced/blob/main/3_Conditional_Statements.ipynb\" target=\"_parent\"><img src=\"https://colab.research.google.com/assets/colab-badge.svg\" alt=\"Open In Colab\"/></a>"
      ]
    },
    {
      "cell_type": "markdown",
      "source": [
        "# If Statement\n",
        "- The 'If' statement is used to execute a block of code if a certain condition is True."
      ],
      "metadata": {
        "id": "v197roiY4kCk"
      }
    },
    {
      "cell_type": "code",
      "source": [
        "x = 5\n",
        "if x > 3:\n",
        "  print(\"x is greater than 3\")\n"
      ],
      "metadata": {
        "colab": {
          "base_uri": "https://localhost:8080/"
        },
        "id": "YpZ0CXSy43cx",
        "outputId": "9175926d-d9f8-43d8-f04a-c53e46982580"
      },
      "execution_count": null,
      "outputs": [
        {
          "output_type": "stream",
          "name": "stdout",
          "text": [
            "x is greater than 3\n"
          ]
        }
      ]
    },
    {
      "cell_type": "markdown",
      "source": [
        "# If-Else Statement\n",
        "- The else statement executes a block of code if the condition in the if statement is False."
      ],
      "metadata": {
        "id": "4Dyf6QlE4jmU"
      }
    },
    {
      "cell_type": "code",
      "execution_count": null,
      "metadata": {
        "colab": {
          "base_uri": "https://localhost:8080/"
        },
        "id": "Pk_WwOKdzhEY",
        "outputId": "430998c4-19d2-4065-d7de-d4afdfc90547"
      },
      "outputs": [
        {
          "output_type": "stream",
          "name": "stdout",
          "text": [
            "x is not greater than 3\n"
          ]
        }
      ],
      "source": [
        "x = 2\n",
        "if x > 3:\n",
        "  print(\"x is greater than 3\")\n",
        "else:\n",
        "  print(\"x is not greater than 3\")"
      ]
    },
    {
      "cell_type": "markdown",
      "source": [
        "# If-elif-else Statement\n",
        "- The elif statement is used to check multiple conditions.\n",
        "- If the condition in the if statement is False, Python checks the condition in the elif statement, and so on.\n",
        "\n"
      ],
      "metadata": {
        "id": "sJjMmYWv50CV"
      }
    },
    {
      "cell_type": "code",
      "source": [
        "x = 10\n",
        "\n",
        "if x > 15:\n",
        "  print(\"x is greater than 15\")\n",
        "elif x > 5:\n",
        "  print(\"x is greater than 5 but not greater than 15\")\n",
        "else:\n",
        "  print(\"x is 5 or less\")"
      ],
      "metadata": {
        "colab": {
          "base_uri": "https://localhost:8080/"
        },
        "id": "oVZZiX175zZX",
        "outputId": "b832393f-71e1-49e9-88d9-59d3a8bb6751"
      },
      "execution_count": null,
      "outputs": [
        {
          "output_type": "stream",
          "name": "stdout",
          "text": [
            "x is greater than 5 but not greater than 15\n"
          ]
        }
      ]
    },
    {
      "cell_type": "code",
      "source": [
        "# This is a nested if condition\n",
        "x = 10\n",
        "\n",
        "if x > 5:\n",
        "  if x > 15:\n",
        "    print(\"x is greater than 15\")\n",
        "  else:\n",
        "    print(\"x is greater than 5 but not greater than 15\")\n",
        "else:\n",
        "  print(\"x is 5 or less\")"
      ],
      "metadata": {
        "colab": {
          "base_uri": "https://localhost:8080/"
        },
        "id": "4MZ8ZRoT6-YO",
        "outputId": "51fd8838-1815-4766-dbb3-0de39006dc07"
      },
      "execution_count": null,
      "outputs": [
        {
          "output_type": "stream",
          "name": "stdout",
          "text": [
            "x is greater than 5 but not greater than 15\n"
          ]
        }
      ]
    },
    {
      "cell_type": "markdown",
      "source": [
        "# Nested Conditional Statements"
      ],
      "metadata": {
        "id": "mO8QzXfa935C"
      }
    },
    {
      "cell_type": "code",
      "source": [
        "# You can also nest conditional statements within each other.\n",
        "# This allows for more complex logic where a condition might depend on another condition.\n",
        "x = 25\n",
        "\n",
        "if x > 10:\n",
        "  print(\"x is greater than 10\")\n",
        "  if x > 20:\n",
        "    print(\"x is also greater than 20\")\n",
        "  else:\n",
        "    print(\"x is greater than 10 but not greater than 20\")\n",
        "else:\n",
        "  print(\"x is 10 or less\")"
      ],
      "metadata": {
        "id": "Cg3Z5CxR6-U2"
      },
      "execution_count": null,
      "outputs": []
    },
    {
      "cell_type": "markdown",
      "source": [
        "# Practical Examples"
      ],
      "metadata": {
        "id": "-8P-pKle_kYU"
      }
    },
    {
      "cell_type": "code",
      "source": [
        "# Determine if a year is a leap year using nested condition statement\n",
        "\n",
        "# We can change this value to test different years\n",
        "year = 1900\n",
        "\n",
        "if (year % 4) == 0:\n",
        "  if (year % 100) == 0:\n",
        "    if (year % 400) == 0:\n",
        "      print(f\"{year} is a leap year\")\n",
        "    else:\n",
        "      print(f\"{year} is not a leap year\")\n",
        "  else:\n",
        "    print(f\"{year} is a leap year\")\n",
        "else:\n",
        "  print(f\"{year} is not a leap year\")"
      ],
      "metadata": {
        "colab": {
          "base_uri": "https://localhost:8080/"
        },
        "id": "Vlb_r4Qs6-Pw",
        "outputId": "c1bdd38a-12c7-40d2-df92-36fc458a5a33"
      },
      "execution_count": null,
      "outputs": [
        {
          "output_type": "stream",
          "name": "stdout",
          "text": [
            "1900 is not a leap year\n"
          ]
        }
      ]
    }
  ]
}