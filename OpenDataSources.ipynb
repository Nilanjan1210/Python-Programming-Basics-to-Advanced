{
  "nbformat": 4,
  "nbformat_minor": 0,
  "metadata": {
    "colab": {
      "provenance": [],
      "authorship_tag": "ABX9TyMpbYqYTilFRnxKFPjvMoFi",
      "include_colab_link": true
    },
    "kernelspec": {
      "name": "python3",
      "display_name": "Python 3"
    },
    "language_info": {
      "name": "python"
    }
  },
  "cells": [
    {
      "cell_type": "markdown",
      "metadata": {
        "id": "view-in-github",
        "colab_type": "text"
      },
      "source": [
        "<a href=\"https://colab.research.google.com/github/Nilanjan1210/Python-Programming-Basics-to-Advanced/blob/main/OpenDataSources.ipynb\" target=\"_parent\"><img src=\"https://colab.research.google.com/assets/colab-badge.svg\" alt=\"Open In Colab\"/></a>"
      ]
    },
    {
      "cell_type": "markdown",
      "source": [
        "# **Political and Government Data**\n",
        " **Data.gov**\n",
        "\n",
        " [http://data.gov](http://data.gov)\n",
        "\n",
        " *This is the resource for most government-related data.*\n",
        "\n",
        " **Socrata**\n",
        "\n",
        " [http://www.socrata.com/resources/](http://www.socrata.com/resources/)\n",
        "\n",
        " *Socrata is a good place to explore government-related data. Furthermore, it provides some visualization\n",
        "tools for exploring data.*\n",
        "\n",
        " **US Census Bureau**\n",
        "\n",
        " [http://www.census.gov/data.html](http://www.census.gov/data.html)\n",
        "\n",
        " *This site provides information about US citizens covering population data, geographic data, and education.*\n",
        "\n",
        " **UN3ta**\n",
        "\n",
        " [https://data.un.org/](https://data.un.org/)\n",
        "\n",
        " *UNdata is an Internet-based data service which brings UN statistical databases.*\n",
        "\n",
        " **European Union Open Data Portal**\n",
        " [http://open-data.europa.eu/en/data/](http://open-data.europa.eu/en/data/)\n",
        "\n",
        " *This site provides a lot of data from European Union institutions.*\n",
        "\n",
        " **Data.gov.uk**\n",
        "\n",
        " [http://data.gov.uk/](http://data.gov.uk/)\n",
        "\n",
        "\n",
        "\n",
        " *This site of the UK Government includes the British National Bibliography: metadata on all UK books\n",
        "and publications since 1950.*\n",
        "\n",
        " **The CIA World Factbook**\n",
        "\n",
        " [https://www.cia.gov/library/publications/the-world-factbook/](https://www.cia.gov/library/publications/the-world-factbook/)\n",
        "\n",
        " *This site of the Central Intelligence Agency provides a lot of information on history, population,\n",
        "economy, government, infrastructure, and military of 267 countries.*\n",
        "\n",
        "\n",
        "\n",
        "\n"
      ],
      "metadata": {
        "id": "51yiN2rdeqUn"
      }
    },
    {
      "cell_type": "markdown",
      "source": [
        "# **Health Data**\n",
        " **Healthdata.gov**\n",
        "\n",
        " [https://www.healthdata.gov/](https://www.healthdata.gov/)\n",
        "\n",
        " *This site provides medical data about epidemiology and population statistics.*\n",
        "\n",
        " **NHS Health and Social Care Information Centre**\n",
        "\n",
        " [http://www.hscic.gov.uk/home](http://www.hscic.gov.uk/home)\n",
        "\n",
        " *Health data sets from the UK National Health Service.*"
      ],
      "metadata": {
        "id": "GD7ypti0eqW5"
      }
    },
    {
      "cell_type": "markdown",
      "source": [
        "# **Social Data**\n",
        " **Facebook Graph**\n",
        "\n",
        " [https://developers.facebook.com/docs/graph-api](https://developers.facebook.com/docs/graph-api)\n",
        "\n",
        " *Facebook provides this API which allows you to query the huge amount of information that users are\n",
        "sharing with the world.*\n",
        "\n",
        " **Topsy**\n",
        "\n",
        " [http://topsy.com/](http://topsy.com/)\n",
        "\n",
        " *Topsy provides a searchable database of public tweets going back to 2006 as well as several tools to\n",
        "analyze the conversations.*\n",
        "\n",
        " **Google Trends**\n",
        "\n",
        " [http://www.google.com/trends/explore](http://www.google.com/trends/explore)\n",
        "\n",
        " *Statistics on search volume (as a proportion of total search) for any given term, since 2004.*\n",
        "\n",
        " **Likebutton**\n",
        "\n",
        " [http://likebutton.com/](http://likebutton.com/)\n",
        "\n",
        " *Mines Facebook’s public data—globally and from your own network—to give an overview of what people “Like” at the moment.*"
      ],
      "metadata": {
        "id": "DX3576e8eqab"
      }
    },
    {
      "cell_type": "markdown",
      "source": [
        "# **Miscellaneous and Public Data Sets**\n",
        " **Amazon Web Services public datasets**\n",
        "\n",
        " [http://aws.amazon.com/datasets](http://aws.amazon.com/datasets)\n",
        " *The public data sets on Amazon Web Services provide a centralized repository of public data sets.*\n",
        "*An interesting dataset is the 1000 Genome Project, an attempt to build the most comprehensive database of human genetic information. Also a NASA database of satellite imagery of Earth is available.*\n",
        "\n",
        " **DBPedia**\n",
        "\n",
        " [http://wiki.dbpedia.org](http://wiki.dbpedia.org)\n",
        "\n",
        " *Wikipedia contains millions of pieces of data, structured and unstructured, on every subject. DBPedia is an ambitious project to catalogue and create a public, freely distributable database allowing anyone to\n",
        "analyze this data.*\n",
        "\n",
        " **Freebase**\n",
        "\n",
        " [http://www.freebase.com/](http://www.freebase.com/)\n",
        "\n",
        " *This community database provides information about several topics, with over 45 million entries.*\n",
        "\n",
        " **Gapminder**\n",
        "\n",
        "[http://www.gapminder.org/data/](http://www.gapminder.org/data/)\n",
        "\n",
        " *This site provides data coming from the World Health Organization and World Bank covering economic, medical, and social statistics from around the world.*"
      ],
      "metadata": {
        "id": "Ix8F1Fl2hK_5"
      }
    },
    {
      "cell_type": "markdown",
      "source": [
        "# **Financial Data**\n",
        " **Google Finance**\n",
        "\n",
        " [https://www.google.com/finance](https://www.google.com/finance)\n",
        "\n",
        " *Forty years’ worth of stock market data, updated in real time.*"
      ],
      "metadata": {
        "id": "CSMHr7klhOWk"
      }
    },
    {
      "cell_type": "markdown",
      "source": [
        "# **Climatic Data**\n",
        "\n",
        " **National Climatic Data Center**\n",
        "\n",
        " [http://www.ncdc.noaa.gov/data-access/quick-links#loc-clim](http://www.ncdc.noaa.gov/data-access/quick-links#loc-clim)\n",
        "\n",
        " *Huge collection of environmental, meteorological, and climate datasets from the US National Climatic Data Center. The world’s largest archive of weather data.*\n",
        "\n",
        " **WeatherBase**\n",
        "\n",
        " [http://www.weatherbase.com/](http://www.weatherbase.com/)\n",
        "\n",
        " *This site provides climate averages, forecasts, and current conditions for over 40,000 cities worldwide.*\n",
        "\n",
        " **Wunderground**\n",
        "[http://www.wunderground.com/](https://www.wunderground.com/)\n",
        "\n",
        " *This site provides climatic data from satellites and weather stations, allowing you to get all information\n",
        "about the temperature, wind, and other climatic measurements.*"
      ],
      "metadata": {
        "id": "zkwfOatchQmW"
      }
    },
    {
      "cell_type": "markdown",
      "source": [
        "Sports Data\n",
        " Pro-Football-Reference\n",
        " http://www.pro-football-reference.com/\n",
        " This site provides data about football and several other sports."
      ],
      "metadata": {
        "id": "gdu-LY7phVYI"
      }
    },
    {
      "cell_type": "markdown",
      "source": [
        "# **Publications, Newspapers, and Books**\n",
        " **New York Times**\n",
        "\n",
        " [http://developer.nytimes.com/docs](http://developer.nytimes.com/docs)\n",
        "\n",
        " *Searchable, indexed archive of news articles going back to 1851.*\n",
        "\n",
        " **Google Books Ngrams**\n",
        "\n",
        " [http://storage.googleapis.com/books/ngrams/books/datasetsv2.html](http://storage.googleapis.com/books/ngrams/books/datasetsv2.html)\n",
        "\n",
        " *This source searches and analyzes the full text of any of the millions of books digitized as part of the\n",
        "Google Books project.*"
      ],
      "metadata": {
        "id": "Ddm-TJH2hZXq"
      }
    },
    {
      "cell_type": "markdown",
      "source": [
        "# **Musical Data**\n",
        " **Million Song Data Set**\n",
        "\n",
        " [http://aws.amazon.com/datasets/6468931156960467](http://aws.amazon.com/datasets/6468931156960467)\n",
        "\n",
        " *Metadata on over a million songs and pieces of music. Part of Amazon Web Services.*"
      ],
      "metadata": {
        "id": "_6y2y0qbhcHt"
      }
    }
  ]
}