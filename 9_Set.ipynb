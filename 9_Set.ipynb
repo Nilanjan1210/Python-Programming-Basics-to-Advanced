{
  "nbformat": 4,
  "nbformat_minor": 0,
  "metadata": {
    "colab": {
      "provenance": [],
      "authorship_tag": "ABX9TyOLyGEn/NSdD17gYgrWVAwG",
      "include_colab_link": true
    },
    "kernelspec": {
      "name": "python3",
      "display_name": "Python 3"
    },
    "language_info": {
      "name": "python"
    }
  },
  "cells": [
    {
      "cell_type": "markdown",
      "metadata": {
        "id": "view-in-github",
        "colab_type": "text"
      },
      "source": [
        "<a href=\"https://colab.research.google.com/github/Nilanjan1210/Python-Programming-Basics-to-Advanced/blob/main/9_Set.ipynb\" target=\"_parent\"><img src=\"https://colab.research.google.com/assets/colab-badge.svg\" alt=\"Open In Colab\"/></a>"
      ]
    },
    {
      "cell_type": "markdown",
      "source": [
        "# Set\n",
        "\n",
        "A set is an unordered collection of unique elements."
      ],
      "metadata": {
        "id": "UC8Gv8kXkQwK"
      }
    },
    {
      "cell_type": "code",
      "execution_count": 1,
      "metadata": {
        "colab": {
          "base_uri": "https://localhost:8080/"
        },
        "id": "EiuDc7rWT-t4",
        "outputId": "042c577b-0f57-4398-bc1d-86a339d49dd2"
      },
      "outputs": [
        {
          "output_type": "stream",
          "name": "stdout",
          "text": [
            "{1, 2, 3, 4, 5}\n",
            "<class 'set'>\n"
          ]
        }
      ],
      "source": [
        "# Using curly braces {}\n",
        "my_set = {1, 2, 3, 4, 5}\n",
        "print(my_set)\n",
        "print(type(my_set))\n"
      ]
    },
    {
      "cell_type": "code",
      "source": [
        "# Using the set() constructor\n",
        "my_set_constructor = set([6, 7, 8, 9, 10])\n",
        "print(my_set_constructor)\n",
        "print(type(my_set_constructor))\n"
      ],
      "metadata": {
        "colab": {
          "base_uri": "https://localhost:8080/"
        },
        "id": "4Tz5OHAlnTEG",
        "outputId": "bafeb73c-1b17-41f6-8d20-bc31342bdcce"
      },
      "execution_count": 2,
      "outputs": [
        {
          "output_type": "stream",
          "name": "stdout",
          "text": [
            "{6, 7, 8, 9, 10}\n",
            "<class 'set'>\n"
          ]
        }
      ]
    },
    {
      "cell_type": "markdown",
      "source": [
        "# Set Methods\n"
      ],
      "metadata": {
        "id": "8Z9aVOJcnm3-"
      }
    },
    {
      "cell_type": "code",
      "source": [
        "# add() : Adds an element to the set.\n",
        "\n",
        "my_set = {1, 2, 3, 4, 5}\n",
        "print(my_set)\n",
        "my_set.add(6)\n",
        "print(my_set)"
      ],
      "metadata": {
        "colab": {
          "base_uri": "https://localhost:8080/"
        },
        "id": "756oHhfTnloz",
        "outputId": "44116a6e-d204-4bae-f5e2-ca1dfd395198"
      },
      "execution_count": 3,
      "outputs": [
        {
          "output_type": "stream",
          "name": "stdout",
          "text": [
            "{1, 2, 3, 4, 5}\n",
            "{1, 2, 3, 4, 5, 6}\n"
          ]
        }
      ]
    },
    {
      "cell_type": "code",
      "source": [
        "#  remove() : Removes an element from the set. Raises a KeyError if the element is not found.\n",
        "print(my_set)\n",
        "my_set.remove(6)\n",
        "print(my_set)"
      ],
      "metadata": {
        "colab": {
          "base_uri": "https://localhost:8080/"
        },
        "id": "xhpZAuHipdf-",
        "outputId": "419f10a7-d32e-4786-a015-9f394123f88e"
      },
      "execution_count": 4,
      "outputs": [
        {
          "output_type": "stream",
          "name": "stdout",
          "text": [
            "{1, 2, 3, 4, 5, 6}\n",
            "{1, 2, 3, 4, 5}\n"
          ]
        }
      ]
    },
    {
      "cell_type": "code",
      "source": [
        "# discard() : Removes an element from the set if it is present. Does not raise an error if the element is not found.\n",
        "print(my_set)\n",
        "my_set.discard(100) # Does nothing\n",
        "print(my_set)"
      ],
      "metadata": {
        "colab": {
          "base_uri": "https://localhost:8080/"
        },
        "id": "20O-6pywpdcV",
        "outputId": "697a42dc-5d57-498a-ba77-3130885ae733"
      },
      "execution_count": 5,
      "outputs": [
        {
          "output_type": "stream",
          "name": "stdout",
          "text": [
            "{1, 2, 3, 4, 5}\n",
            "{1, 2, 3, 4, 5}\n"
          ]
        }
      ]
    },
    {
      "cell_type": "code",
      "source": [
        "# pop() : Removes and returns an arbitrary element from the set. Raises a KeyError if the set is empty.\n",
        "print(my_set)\n",
        "popped_element = my_set.pop()\n",
        "print(f\"Popped element: {popped_element}\")\n",
        "print(my_set)"
      ],
      "metadata": {
        "colab": {
          "base_uri": "https://localhost:8080/"
        },
        "id": "9ycqTD96pW-j",
        "outputId": "e4a665b2-9cfa-4145-b9cf-768f4269bf63"
      },
      "execution_count": 6,
      "outputs": [
        {
          "output_type": "stream",
          "name": "stdout",
          "text": [
            "{1, 2, 3, 4, 5}\n",
            "Popped element: 1\n",
            "{2, 3, 4, 5}\n"
          ]
        }
      ]
    },
    {
      "cell_type": "code",
      "source": [
        "# clear() : Removes all elements from the set.\n",
        "print(my_set)\n",
        "my_set.clear()\n",
        "print(my_set)"
      ],
      "metadata": {
        "colab": {
          "base_uri": "https://localhost:8080/"
        },
        "id": "8zV9r3b_pW7J",
        "outputId": "0660055d-b5f2-4a09-dfe2-7e51052ec95a"
      },
      "execution_count": 7,
      "outputs": [
        {
          "output_type": "stream",
          "name": "stdout",
          "text": [
            "{2, 3, 4, 5}\n",
            "set()\n"
          ]
        }
      ]
    },
    {
      "cell_type": "code",
      "source": [
        "# union() : Returns a new set containing all elements from both sets.\n",
        "set1 = {1, 2, 3}\n",
        "set2 = {3, 4, 5}\n",
        "union_set = set1.union(set2)\n",
        "print(union_set)"
      ],
      "metadata": {
        "colab": {
          "base_uri": "https://localhost:8080/"
        },
        "id": "08zKe6_wpW4_",
        "outputId": "36d2fedd-acc3-4cab-b9ae-a64336c0a042"
      },
      "execution_count": 8,
      "outputs": [
        {
          "output_type": "stream",
          "name": "stdout",
          "text": [
            "{1, 2, 3, 4, 5}\n"
          ]
        }
      ]
    },
    {
      "cell_type": "code",
      "source": [
        "# intersection() : Returns a new set containing elements common to both sets.\n",
        "intersection_set = set1.intersection(set2)\n",
        "print(intersection_set)"
      ],
      "metadata": {
        "colab": {
          "base_uri": "https://localhost:8080/"
        },
        "id": "9qjASwRspQTA",
        "outputId": "9c145dd0-787d-4e7f-8d89-216ea77d79b7"
      },
      "execution_count": 9,
      "outputs": [
        {
          "output_type": "stream",
          "name": "stdout",
          "text": [
            "{3}\n"
          ]
        }
      ]
    },
    {
      "cell_type": "code",
      "source": [
        "# difference() : Returns a new set containing elements in the first set but not in the second.\n",
        "difference_set = set1.difference(set2)\n",
        "print(difference_set)"
      ],
      "metadata": {
        "colab": {
          "base_uri": "https://localhost:8080/"
        },
        "id": "NrwNMGpbpQPZ",
        "outputId": "4ae59a10-374d-4446-f064-b95a9efadbe3"
      },
      "execution_count": 10,
      "outputs": [
        {
          "output_type": "stream",
          "name": "stdout",
          "text": [
            "{1, 2}\n"
          ]
        }
      ]
    },
    {
      "cell_type": "code",
      "source": [
        "# symmetric_difference() : Returns a new set containing elements in either set, but not both.\n",
        "symmetric_difference_set = set1.symmetric_difference(set2)\n",
        "print(symmetric_difference_set)"
      ],
      "metadata": {
        "colab": {
          "base_uri": "https://localhost:8080/"
        },
        "id": "bOJkTjBXpQNJ",
        "outputId": "8773fb6f-0925-438d-fa8e-d983e9208409"
      },
      "execution_count": 11,
      "outputs": [
        {
          "output_type": "stream",
          "name": "stdout",
          "text": [
            "{1, 2, 4, 5}\n"
          ]
        }
      ]
    },
    {
      "cell_type": "code",
      "source": [
        "# issubset() : Returns True if all elements of one set are in another set.\n",
        "print(set1.issubset({1, 2, 3, 4, 5}))"
      ],
      "metadata": {
        "colab": {
          "base_uri": "https://localhost:8080/"
        },
        "id": "nKCrSy24pJWg",
        "outputId": "6d40f618-867c-40d8-f788-dd54ecf1297c"
      },
      "execution_count": 12,
      "outputs": [
        {
          "output_type": "stream",
          "name": "stdout",
          "text": [
            "True\n"
          ]
        }
      ]
    },
    {
      "cell_type": "code",
      "source": [
        "# issuperset(): Returns True if all elements of another set are in this set.\n",
        "print({1, 2, 3, 4, 5}.issuperset(set1))"
      ],
      "metadata": {
        "colab": {
          "base_uri": "https://localhost:8080/"
        },
        "id": "RIurQDMUpJTG",
        "outputId": "6378ab5d-ef6a-466e-d928-7e2d5e6e2233"
      },
      "execution_count": 13,
      "outputs": [
        {
          "output_type": "stream",
          "name": "stdout",
          "text": [
            "True\n"
          ]
        }
      ]
    },
    {
      "cell_type": "code",
      "source": [
        "# isdisjoint() : Returns True if the set has no elements in common with another set.\n",
        "set3 = {6, 7}\n",
        "print(set1.isdisjoint(set3))"
      ],
      "metadata": {
        "colab": {
          "base_uri": "https://localhost:8080/"
        },
        "id": "Hrnb5p-upJQ_",
        "outputId": "d974af0e-55b3-48c1-a00a-6203c9fce66a"
      },
      "execution_count": 14,
      "outputs": [
        {
          "output_type": "stream",
          "name": "stdout",
          "text": [
            "True\n"
          ]
        }
      ]
    },
    {
      "cell_type": "code",
      "source": [
        "# update(): Updates the set with elements from another iterable.\n",
        "set1.update({4, 5})\n",
        "print(set1)"
      ],
      "metadata": {
        "colab": {
          "base_uri": "https://localhost:8080/"
        },
        "id": "q4JWX9-xpJO1",
        "outputId": "6956ca64-bb1c-4ea1-baee-c899ff39b138"
      },
      "execution_count": 15,
      "outputs": [
        {
          "output_type": "stream",
          "name": "stdout",
          "text": [
            "{1, 2, 3, 4, 5}\n"
          ]
        }
      ]
    },
    {
      "cell_type": "code",
      "source": [
        "# intersection_update() : Updates the set with the intersection of itself and another iterable.\n",
        "set1.intersection_update({4, 5, 6})\n",
        "print(set1)\n"
      ],
      "metadata": {
        "colab": {
          "base_uri": "https://localhost:8080/"
        },
        "id": "IApCPOR_nfba",
        "outputId": "b246a030-a18d-48b3-d430-b4b6b5b73bf4"
      },
      "execution_count": 16,
      "outputs": [
        {
          "output_type": "stream",
          "name": "stdout",
          "text": [
            "{4, 5}\n"
          ]
        }
      ]
    },
    {
      "cell_type": "code",
      "source": [
        "# difference_update(): Updates the set with the difference of itself and another iterable.\n",
        "set1 = {1, 2, 3, 4, 5}\n",
        "set1.difference_update({4, 5, 6})\n",
        "print(set1)"
      ],
      "metadata": {
        "colab": {
          "base_uri": "https://localhost:8080/"
        },
        "id": "1DS_dcTRpDOT",
        "outputId": "b7416e23-1bb9-4c6c-cc8a-7f59bff603dd"
      },
      "execution_count": 17,
      "outputs": [
        {
          "output_type": "stream",
          "name": "stdout",
          "text": [
            "{1, 2, 3}\n"
          ]
        }
      ]
    },
    {
      "cell_type": "code",
      "source": [
        "# symmetric_difference_update() : Updates the set with the symmetric difference of itself and another iterable.\n",
        "set1 = {1, 2, 3, 4}\n",
        "set2 = {3, 4, 5, 6}\n",
        "set1.symmetric_difference_update(set2)\n",
        "set1"
      ],
      "metadata": {
        "colab": {
          "base_uri": "https://localhost:8080/"
        },
        "id": "0o-Q1jgJpDLD",
        "outputId": "fd04c93c-b34b-4d56-d220-e54f83a54920"
      },
      "execution_count": 18,
      "outputs": [
        {
          "output_type": "execute_result",
          "data": {
            "text/plain": [
              "{1, 2, 5, 6}"
            ]
          },
          "metadata": {},
          "execution_count": 18
        }
      ]
    },
    {
      "cell_type": "markdown",
      "source": [
        "# Frozensets:\n",
        "Frozensets are immutable sets."
      ],
      "metadata": {
        "id": "y5N_sk5-qOS8"
      }
    },
    {
      "cell_type": "code",
      "source": [
        "# Creating a frozenset\n",
        "my_frozenset = frozenset([1, 2, 3, 4, 5])\n",
        "print(my_frozenset)\n",
        "print(type(my_frozenset))\n"
      ],
      "metadata": {
        "colab": {
          "base_uri": "https://localhost:8080/"
        },
        "id": "RnzcJxuuqEYh",
        "outputId": "c887567c-efc5-40e7-ced1-45edc03b4bea"
      },
      "execution_count": 19,
      "outputs": [
        {
          "output_type": "stream",
          "name": "stdout",
          "text": [
            "frozenset({1, 2, 3, 4, 5})\n",
            "<class 'frozenset'>\n"
          ]
        }
      ]
    },
    {
      "cell_type": "code",
      "source": [
        "# Frozensets support methods that do not modify the set\n",
        "frozenset1 = frozenset({1, 2, 3})\n",
        "frozenset2 = frozenset({3, 4, 5})\n",
        "\n",
        "# union()\n",
        "print(frozenset1.union(frozenset2))"
      ],
      "metadata": {
        "colab": {
          "base_uri": "https://localhost:8080/"
        },
        "id": "8eZzQ0utqynB",
        "outputId": "39650d2a-b5ca-466d-bdb3-4f11eeaebb67"
      },
      "execution_count": 20,
      "outputs": [
        {
          "output_type": "stream",
          "name": "stdout",
          "text": [
            "frozenset({1, 2, 3, 4, 5})\n"
          ]
        }
      ]
    },
    {
      "cell_type": "code",
      "source": [
        "# intersection()\n",
        "print(frozenset1.intersection(frozenset2))"
      ],
      "metadata": {
        "colab": {
          "base_uri": "https://localhost:8080/"
        },
        "id": "YM1gkqgorc2-",
        "outputId": "3ae2e9d8-912c-4081-9557-6a7053ee6f44"
      },
      "execution_count": 21,
      "outputs": [
        {
          "output_type": "stream",
          "name": "stdout",
          "text": [
            "frozenset({3})\n"
          ]
        }
      ]
    },
    {
      "cell_type": "code",
      "source": [
        "# difference()\n",
        "print(frozenset1.difference(frozenset2))"
      ],
      "metadata": {
        "colab": {
          "base_uri": "https://localhost:8080/"
        },
        "id": "4IXXA9KMrczh",
        "outputId": "6df3fb1c-f9a7-49d7-bb56-62261c643f85"
      },
      "execution_count": 22,
      "outputs": [
        {
          "output_type": "stream",
          "name": "stdout",
          "text": [
            "frozenset({1, 2})\n"
          ]
        }
      ]
    },
    {
      "cell_type": "code",
      "source": [
        "# symmetric_difference()\n",
        "print(frozenset1.symmetric_difference(frozenset2))"
      ],
      "metadata": {
        "colab": {
          "base_uri": "https://localhost:8080/"
        },
        "id": "mA1VcKsSrYFn",
        "outputId": "adad5212-415f-44f4-9086-55d30609c8bf"
      },
      "execution_count": 23,
      "outputs": [
        {
          "output_type": "stream",
          "name": "stdout",
          "text": [
            "frozenset({1, 2, 4, 5})\n"
          ]
        }
      ]
    },
    {
      "cell_type": "code",
      "source": [
        "# issubset()\n",
        "print(frozenset1.issubset({1, 2, 3, 4, 5}))"
      ],
      "metadata": {
        "colab": {
          "base_uri": "https://localhost:8080/"
        },
        "id": "_xY3B2mIrYCA",
        "outputId": "a2285098-9e82-46a9-c48d-abab102ffa25"
      },
      "execution_count": 24,
      "outputs": [
        {
          "output_type": "stream",
          "name": "stdout",
          "text": [
            "True\n"
          ]
        }
      ]
    },
    {
      "cell_type": "code",
      "source": [
        "# issuperset()\n",
        "print({1, 2, 3, 4, 5}.issuperset(frozenset1))"
      ],
      "metadata": {
        "colab": {
          "base_uri": "https://localhost:8080/"
        },
        "id": "I3NrNSqJrVLp",
        "outputId": "e6f4140f-bc83-4902-a1ad-992f787d382c"
      },
      "execution_count": 25,
      "outputs": [
        {
          "output_type": "stream",
          "name": "stdout",
          "text": [
            "True\n"
          ]
        }
      ]
    },
    {
      "cell_type": "code",
      "source": [
        "# isdisjoint()\n",
        "frozenset3 = frozenset({6, 7})\n",
        "print(frozenset1.isdisjoint(frozenset3))"
      ],
      "metadata": {
        "colab": {
          "base_uri": "https://localhost:8080/"
        },
        "id": "1NGdhefgrVIS",
        "outputId": "8cd56195-e358-4b49-c2dc-011851a8da6f"
      },
      "execution_count": 26,
      "outputs": [
        {
          "output_type": "stream",
          "name": "stdout",
          "text": [
            "True\n"
          ]
        }
      ]
    },
    {
      "cell_type": "code",
      "source": [
        "# Frozensets do NOT support methods that modify the set (like add(), remove(), update())\n",
        "# my_frozenset.add(6) # This would raise an AttributeError"
      ],
      "metadata": {
        "id": "_BjYUYxZrPw8"
      },
      "execution_count": 27,
      "outputs": []
    },
    {
      "cell_type": "code",
      "source": [
        "try:\n",
        "  my_frozenset.add(6)\n",
        "except AttributeError as e:\n",
        "  print(e)"
      ],
      "metadata": {
        "colab": {
          "base_uri": "https://localhost:8080/"
        },
        "id": "Zb-rZ6w6rmUc",
        "outputId": "0261ed6a-5e62-4b12-c024-777504973de3"
      },
      "execution_count": 28,
      "outputs": [
        {
          "output_type": "stream",
          "name": "stdout",
          "text": [
            "'frozenset' object has no attribute 'add'\n"
          ]
        }
      ]
    }
  ]
}