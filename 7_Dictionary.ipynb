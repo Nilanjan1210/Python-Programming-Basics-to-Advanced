{
  "nbformat": 4,
  "nbformat_minor": 0,
  "metadata": {
    "colab": {
      "provenance": [],
      "authorship_tag": "ABX9TyOxrn1sntWJkfSma5wJWpY4",
      "include_colab_link": true
    },
    "kernelspec": {
      "name": "python3",
      "display_name": "Python 3"
    },
    "language_info": {
      "name": "python"
    }
  },
  "cells": [
    {
      "cell_type": "markdown",
      "metadata": {
        "id": "view-in-github",
        "colab_type": "text"
      },
      "source": [
        "<a href=\"https://colab.research.google.com/github/Nilanjan1210/Python-Programming-Basics-to-Advanced/blob/main/7_Dictionary.ipynb\" target=\"_parent\"><img src=\"https://colab.research.google.com/assets/colab-badge.svg\" alt=\"Open In Colab\"/></a>"
      ]
    },
    {
      "cell_type": "markdown",
      "source": [
        "# Dictionary\n",
        "In Python, a dictionary is a collection of key-value pairs. Each key is unique, and it maps to a value. Dictionaries are unordered  and mutable, meaning we can add, remove, or change items.\n",
        "\n",
        "- Keys are unique and immutable (e.g., strings, numbers, tuples)\n",
        "\n",
        "- Values can be any data type\n",
        "\n",
        "- Mutable (can be changed)\n",
        "\n",
        "- Defined using curly braces { }"
      ],
      "metadata": {
        "id": "IDCbiN5zkTjC"
      }
    },
    {
      "cell_type": "code",
      "execution_count": 1,
      "metadata": {
        "id": "tW8qYwOPTsbP",
        "colab": {
          "base_uri": "https://localhost:8080/"
        },
        "outputId": "60aeb192-9b25-4fe9-d236-1d34d09f9c75"
      },
      "outputs": [
        {
          "output_type": "stream",
          "name": "stdout",
          "text": [
            "{'name': 'Nilanjan', 'age': 25, 'grade': 'A'}\n",
            "<class 'dict'>\n"
          ]
        }
      ],
      "source": [
        "# Using Curly Braces {}\n",
        "student = {\n",
        "    \"name\": \"Nilanjan\",\n",
        "    \"age\": 25,\n",
        "    \"grade\": \"A\"\n",
        "}\n",
        "print(student)\n",
        "print(type(student))"
      ]
    },
    {
      "cell_type": "code",
      "source": [
        "# Using the dict() Function\n",
        "student = dict(name=\"Nilanjan\", age=25, grade=\"A\")\n",
        "print(student)\n",
        "print(type(student))\n"
      ],
      "metadata": {
        "colab": {
          "base_uri": "https://localhost:8080/"
        },
        "id": "Z8lIszVBisa2",
        "outputId": "cd775efb-78e6-4f13-aa81-9746ed27b5fc"
      },
      "execution_count": 2,
      "outputs": [
        {
          "output_type": "stream",
          "name": "stdout",
          "text": [
            "{'name': 'Nilanjan', 'age': 25, 'grade': 'A'}\n",
            "<class 'dict'>\n"
          ]
        }
      ]
    },
    {
      "cell_type": "code",
      "source": [
        "# Creating an Empty Dictionary and Adding Items\n",
        "student = {}\n",
        "student[\"name\"] = \"Nilanjan\"\n",
        "student[\"age\"] = 25\n",
        "student[\"grade\"] = \"A\"\n",
        "print(student)"
      ],
      "metadata": {
        "colab": {
          "base_uri": "https://localhost:8080/"
        },
        "id": "1Yn5AVami2RI",
        "outputId": "8a4e44ef-4ee4-4a1b-f4a9-590d79f47ad1"
      },
      "execution_count": 3,
      "outputs": [
        {
          "output_type": "stream",
          "name": "stdout",
          "text": [
            "{'name': 'Nilanjan', 'age': 25, 'grade': 'A'}\n"
          ]
        }
      ]
    },
    {
      "cell_type": "markdown",
      "source": [
        "# Access Elements in a Dictionary\n",
        "- We can access values in a dictionary using their keys.\n",
        "- Using the get() Method\n"
      ],
      "metadata": {
        "id": "zpPeGz7Ci-71"
      }
    },
    {
      "cell_type": "code",
      "source": [
        "student = {\n",
        "    \"name\": \"Nilanjan\",\n",
        "    \"age\": 25,\n",
        "    \"grade\": \"A\"\n",
        "}\n",
        "print(student[\"name\"]) # Nilanjan\n",
        "print(student[\"age\"]) # 25\n",
        "print(student[\"grade\"]) # A"
      ],
      "metadata": {
        "colab": {
          "base_uri": "https://localhost:8080/"
        },
        "id": "pE2fzxBpi53R",
        "outputId": "3ff2b9ae-f08f-45a5-8639-e9a9c55409f2"
      },
      "execution_count": 4,
      "outputs": [
        {
          "output_type": "stream",
          "name": "stdout",
          "text": [
            "Nilanjan\n",
            "25\n",
            "A\n"
          ]
        }
      ]
    },
    {
      "cell_type": "code",
      "source": [
        "# Using the get() Method\n",
        "student = {\n",
        "    \"name\": \"Nilanjan\",\n",
        "    \"age\": 25,\n",
        "    \"grade\": \"A\"\n",
        "}\n",
        "print(student.get(\"name\")) # Nilanjan"
      ],
      "metadata": {
        "colab": {
          "base_uri": "https://localhost:8080/"
        },
        "id": "Kcn0bB1rjX9M",
        "outputId": "b81221a5-cc21-40a9-b55d-e37892f0b301"
      },
      "execution_count": 5,
      "outputs": [
        {
          "output_type": "stream",
          "name": "stdout",
          "text": [
            "Nilanjan\n"
          ]
        }
      ]
    },
    {
      "cell_type": "code",
      "source": [
        "# key don't benog the dictionary\n",
        "print(student.get(\"school\"))  # None\n",
        "try:\n",
        "  print(student['school']) # raise KeyError\n",
        "except KeyError:\n",
        "  print(\"Error: Key not found\")"
      ],
      "metadata": {
        "colab": {
          "base_uri": "https://localhost:8080/"
        },
        "id": "lCrumzkYjjeX",
        "outputId": "1888c9f2-3182-40bf-97b1-40646033f75c"
      },
      "execution_count": 6,
      "outputs": [
        {
          "output_type": "stream",
          "name": "stdout",
          "text": [
            "None\n",
            "Error: Key not found\n"
          ]
        }
      ]
    },
    {
      "cell_type": "markdown",
      "source": [
        "# Dictionary Methods\n"
      ],
      "metadata": {
        "id": "wgeOIjs1kNt5"
      }
    },
    {
      "cell_type": "code",
      "source": [
        "# ## keys()\n",
        "# - Returns a view object that displays a list of all the keys in the dictionary.\n",
        "student = {\n",
        "    \"name\": \"Nilanjan\",\n",
        "    \"age\": 25,\n",
        "    \"grade\": \"A\"\n",
        "}\n",
        "keys = student.keys()\n",
        "print(keys)  # dict_keys(['name', 'age', 'grade'])\n"
      ],
      "metadata": {
        "colab": {
          "base_uri": "https://localhost:8080/"
        },
        "id": "fx4sH2FckLN4",
        "outputId": "e4ebe492-c542-4355-ac94-d7556ac2f69e"
      },
      "execution_count": 7,
      "outputs": [
        {
          "output_type": "stream",
          "name": "stdout",
          "text": [
            "dict_keys(['name', 'age', 'grade'])\n"
          ]
        }
      ]
    },
    {
      "cell_type": "code",
      "source": [
        "# ## values()\n",
        "# - Returns a view object that displays a list of all the values in the dictionary.\n",
        "student = {\n",
        "    \"name\": \"Nilanjan\",\n",
        "    \"age\": 25,\n",
        "    \"grade\": \"A\"\n",
        "}\n",
        "values = student.values()\n",
        "print(values)"
      ],
      "metadata": {
        "colab": {
          "base_uri": "https://localhost:8080/"
        },
        "id": "8gu-eqdwlfE2",
        "outputId": "3ed3b1bc-c7af-4c81-a053-c303cb74343b"
      },
      "execution_count": 8,
      "outputs": [
        {
          "output_type": "stream",
          "name": "stdout",
          "text": [
            "dict_values(['Nilanjan', 25, 'A'])\n"
          ]
        }
      ]
    },
    {
      "cell_type": "code",
      "source": [
        "# ## items()\n",
        "# - Returns a view object that displays a list of a dictionary's key-value tuple pairs.\n",
        "student = {\n",
        "    \"name\": \"Nilanjan\",\n",
        "    \"age\": 25,\n",
        "    \"grade\": \"A\"\n",
        "}\n",
        "items = student.items()\n",
        "print(items)\n"
      ],
      "metadata": {
        "colab": {
          "base_uri": "https://localhost:8080/"
        },
        "id": "NpuNyP6vlSFq",
        "outputId": "ab7f5b71-7388-400d-8987-54190a0baa30"
      },
      "execution_count": 9,
      "outputs": [
        {
          "output_type": "stream",
          "name": "stdout",
          "text": [
            "dict_items([('name', 'Nilanjan'), ('age', 25), ('grade', 'A')])\n"
          ]
        }
      ]
    },
    {
      "cell_type": "code",
      "source": [
        "# ## update()\n",
        "# - Updates the dictionary with the elements from another dictionary object or from an iterable of key-value pairs.\n",
        "student = {\n",
        "    \"name\": \"Nilanjan\",\n",
        "    \"age\": 25\n",
        "}\n",
        "student.update({\"grade\": \"A\", \"city\": \"Kolkata\"})\n",
        "print(student)\n"
      ],
      "metadata": {
        "colab": {
          "base_uri": "https://localhost:8080/"
        },
        "id": "u1FHMJo5lSCN",
        "outputId": "bb78cd74-52c4-4430-e966-459189d2c424"
      },
      "execution_count": 10,
      "outputs": [
        {
          "output_type": "stream",
          "name": "stdout",
          "text": [
            "{'name': 'Nilanjan', 'age': 25, 'grade': 'A', 'city': 'Kolkata'}\n"
          ]
        }
      ]
    },
    {
      "cell_type": "code",
      "source": [
        "# ## pop()\n",
        "# - Removes the item with the specified key and returns its value.\n",
        "student = {\n",
        "    \"name\": \"Nilanjan\",\n",
        "    \"age\": 25,\n",
        "    \"grade\": \"A\"\n",
        "}\n",
        "grade = student.pop(\"grade\")\n",
        "print(grade)  # A\n",
        "print(student)  # {'name': 'Nilanjan', 'age': 25}\n",
        "# pop with default value if key not found\n",
        "try:\n",
        "  city = student.pop(\"city\")\n",
        "  print(city)\n",
        "except KeyError:\n",
        "  print('Error: Key not found')\n",
        "# when not found then return \"Unknown\"\n",
        "city = student.pop(\"city\", \"Unknown\")\n",
        "print(city) # Unknown\n"
      ],
      "metadata": {
        "colab": {
          "base_uri": "https://localhost:8080/"
        },
        "id": "MvlYVaS6lHeT",
        "outputId": "85ccc703-9288-4f18-f88f-6e9036c9f5d1"
      },
      "execution_count": 11,
      "outputs": [
        {
          "output_type": "stream",
          "name": "stdout",
          "text": [
            "A\n",
            "{'name': 'Nilanjan', 'age': 25}\n",
            "Error: Key not found\n",
            "Unknown\n"
          ]
        }
      ]
    },
    {
      "cell_type": "code",
      "source": [
        "# ## popitem()\n",
        "# - Removes the last inserted key-value pair and returns it as a tuple. (In versions before 3.7, it removes a random item.)\n",
        "student = {\n",
        "    \"name\": \"Nilanjan\",\n",
        "    \"age\": 25,\n",
        "    \"grade\": \"A\"\n",
        "}\n",
        "item = student.popitem()\n",
        "print(item)  # ('grade', 'A')\n",
        "print(student)  # {'name': 'Nilanjan', 'age': 25}"
      ],
      "metadata": {
        "colab": {
          "base_uri": "https://localhost:8080/"
        },
        "id": "405eQ8EKk9k_",
        "outputId": "969dea29-15f7-4c15-fe87-0fb2c423f8f3"
      },
      "execution_count": 12,
      "outputs": [
        {
          "output_type": "stream",
          "name": "stdout",
          "text": [
            "('grade', 'A')\n",
            "{'name': 'Nilanjan', 'age': 25}\n"
          ]
        }
      ]
    },
    {
      "cell_type": "code",
      "source": [
        "# ## clear()\n",
        "# - Removes all the elements from the dictionary.\n",
        "student = {\n",
        "    \"name\": \"Nilanjan\",\n",
        "    \"age\": 25,\n",
        "    \"grade\": \"A\"\n",
        "}\n",
        "student.clear()\n",
        "print(student)  # {}"
      ],
      "metadata": {
        "colab": {
          "base_uri": "https://localhost:8080/"
        },
        "id": "5AnutwFJk9hn",
        "outputId": "5e3b44c7-a1a7-4f0f-f11e-7844d74a3df8"
      },
      "execution_count": 13,
      "outputs": [
        {
          "output_type": "stream",
          "name": "stdout",
          "text": [
            "{}\n"
          ]
        }
      ]
    },
    {
      "cell_type": "code",
      "source": [
        "# ## copy()\n",
        "# - Returns a shallow copy of the dictionary.\n",
        "student = {\n",
        "    \"name\": \"Nilanjan\",\n",
        "    \"age\": 25\n",
        "}\n",
        "student_copy = student.copy()\n",
        "print(student_copy)  # {'name': 'Nilanjan', 'age': 25}"
      ],
      "metadata": {
        "colab": {
          "base_uri": "https://localhost:8080/"
        },
        "id": "jZQTXkjUjxEs",
        "outputId": "c2e88ffd-1790-4d58-a643-ef637dd7466a"
      },
      "execution_count": 14,
      "outputs": [
        {
          "output_type": "stream",
          "name": "stdout",
          "text": [
            "{'name': 'Nilanjan', 'age': 25}\n"
          ]
        }
      ]
    },
    {
      "cell_type": "code",
      "source": [
        "# ## fromkeys()\n",
        "# - Creates a new dictionary with keys from an iterable and values set to a specified value (default is None).\n",
        "keys = [\"name\", \"age\", \"grade\"]\n",
        "student = dict.fromkeys(keys, \"Unknown\")\n",
        "print(student)  # {'name': 'Unknown', 'age': 'Unknown', 'grade': 'Unknown'}"
      ],
      "metadata": {
        "colab": {
          "base_uri": "https://localhost:8080/"
        },
        "id": "DfTYKIW0klyT",
        "outputId": "1cd8fc94-e717-4b87-effe-8a11e0822a81"
      },
      "execution_count": 15,
      "outputs": [
        {
          "output_type": "stream",
          "name": "stdout",
          "text": [
            "{'name': 'Unknown', 'age': 'Unknown', 'grade': 'Unknown'}\n"
          ]
        }
      ]
    },
    {
      "cell_type": "code",
      "source": [
        "# ## setdefault()\n",
        "# - Returns the value of the item with the specified key. If the key does not exist, insert the key, with the specified value.\n",
        "student = {\n",
        "    \"name\": \"Nilanjan\",\n",
        "    \"age\": 25\n",
        "}\n",
        "grade = student.setdefault(\"grade\", \"A\")\n",
        "print(grade)\n",
        "print(student) # {'name': 'Nilanjan', 'age': 25, 'grade': 'A'}\n",
        "city = student.setdefault(\"city\", \"Kolkata\")\n",
        "print(city)\n",
        "print(student) # {'name': 'Nilanjan', 'age': 25, 'grade': 'A', 'city': 'Kolkata'}"
      ],
      "metadata": {
        "colab": {
          "base_uri": "https://localhost:8080/"
        },
        "id": "s23ngOR5klu3",
        "outputId": "a1935720-55c6-41d8-8f95-c82c6474206f"
      },
      "execution_count": 16,
      "outputs": [
        {
          "output_type": "stream",
          "name": "stdout",
          "text": [
            "A\n",
            "{'name': 'Nilanjan', 'age': 25, 'grade': 'A'}\n",
            "Kolkata\n",
            "{'name': 'Nilanjan', 'age': 25, 'grade': 'A', 'city': 'Kolkata'}\n"
          ]
        }
      ]
    },
    {
      "cell_type": "markdown",
      "source": [
        "# Dictionary Comprehension\n",
        "\n",
        "Dictionary comprehension is a concise way to create dictionaries using a single line of code, similar to list comprehension but using key-value pairs.\n",
        "\n",
        "Basic Syntax:\n",
        "```\n",
        "{key_expression: value_expression for item in iterable}\n",
        "\n",
        "```\n",
        "\n",
        "\n"
      ],
      "metadata": {
        "id": "vFmF31-qmRhK"
      }
    },
    {
      "cell_type": "code",
      "source": [
        "#  Create a Dictionary of Squares\n",
        "squares = {x: x**2 for x in range(5)}\n",
        "print(squares)"
      ],
      "metadata": {
        "colab": {
          "base_uri": "https://localhost:8080/"
        },
        "id": "dgtWHs9GmK4Z",
        "outputId": "13e7fce8-8e8b-4666-a9eb-76482c6e6f20"
      },
      "execution_count": 17,
      "outputs": [
        {
          "output_type": "stream",
          "name": "stdout",
          "text": [
            "{0: 0, 1: 1, 2: 4, 3: 9, 4: 16}\n"
          ]
        }
      ]
    },
    {
      "cell_type": "code",
      "source": [
        "# Convert Two Lists into a Dictionary\n",
        "keys = [\"name\", \"age\", \"grade\"]\n",
        "values = [\"Nilanjan\", 25, \"A\"]\n",
        "student = {keys[i]: values[i] for i in range(len(keys))}\n",
        "print(student)\n"
      ],
      "metadata": {
        "colab": {
          "base_uri": "https://localhost:8080/"
        },
        "id": "67doItR-m0HR",
        "outputId": "f211c417-def2-4402-9f14-3843a17ac23b"
      },
      "execution_count": 18,
      "outputs": [
        {
          "output_type": "stream",
          "name": "stdout",
          "text": [
            "{'name': 'Nilanjan', 'age': 25, 'grade': 'A'}\n"
          ]
        }
      ]
    },
    {
      "cell_type": "code",
      "source": [
        "# Swap Keys and Values\n",
        "original = {'a': 1, 'b': 2, 'c': 3}\n",
        "swapped = {v: k for k, v in original.items()}\n",
        "print(swapped)  # Output: {1: 'a', 2: 'b', 3: 'c'}\n"
      ],
      "metadata": {
        "colab": {
          "base_uri": "https://localhost:8080/"
        },
        "id": "bN-zQOi5nADv",
        "outputId": "eec59a91-d0c0-4220-dad4-2f56737c4297"
      },
      "execution_count": 19,
      "outputs": [
        {
          "output_type": "stream",
          "name": "stdout",
          "text": [
            "{1: 'a', 2: 'b', 3: 'c'}\n"
          ]
        }
      ]
    },
    {
      "cell_type": "code",
      "source": [],
      "metadata": {
        "id": "HtGnKJD1nEjP"
      },
      "execution_count": 19,
      "outputs": []
    }
  ]
}