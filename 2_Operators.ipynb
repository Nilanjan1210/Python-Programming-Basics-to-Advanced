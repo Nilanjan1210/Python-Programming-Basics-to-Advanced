{
  "nbformat": 4,
  "nbformat_minor": 0,
  "metadata": {
    "colab": {
      "provenance": [],
      "authorship_tag": "ABX9TyPytDnP7j6grYVyv5zV3dvF",
      "include_colab_link": true
    },
    "kernelspec": {
      "name": "python3",
      "display_name": "Python 3"
    },
    "language_info": {
      "name": "python"
    }
  },
  "cells": [
    {
      "cell_type": "markdown",
      "metadata": {
        "id": "view-in-github",
        "colab_type": "text"
      },
      "source": [
        "<a href=\"https://colab.research.google.com/github/Nilanjan1210/Python-Programming-Basics-to-Advanced/blob/main/2_Operators.ipynb\" target=\"_parent\"><img src=\"https://colab.research.google.com/assets/colab-badge.svg\" alt=\"Open In Colab\"/></a>"
      ]
    },
    {
      "cell_type": "markdown",
      "source": [
        "# Arithmetic Operators\n"
      ],
      "metadata": {
        "id": "ZS0Xt0HUd5nT"
      }
    },
    {
      "cell_type": "code",
      "source": [
        "num1 = 59\n",
        "num2 = 7\n",
        "\n",
        "# Addition\n",
        "sum_result = num1 + num2\n",
        "print(\"Sum:\", sum_result)\n"
      ],
      "metadata": {
        "colab": {
          "base_uri": "https://localhost:8080/"
        },
        "id": "m_8dJWhueqYD",
        "outputId": "f3a98a45-626c-4902-f719-ed4ebece749f"
      },
      "execution_count": 1,
      "outputs": [
        {
          "output_type": "stream",
          "name": "stdout",
          "text": [
            "Sum: 66\n"
          ]
        }
      ]
    },
    {
      "cell_type": "code",
      "source": [
        "# Subtraction\n",
        "difference_result = num1 - num2\n",
        "print(\"Difference:\", difference_result)"
      ],
      "metadata": {
        "colab": {
          "base_uri": "https://localhost:8080/"
        },
        "id": "Dm3RiqAneqUn",
        "outputId": "497a0375-b87b-4b45-89f6-225df548951a"
      },
      "execution_count": 2,
      "outputs": [
        {
          "output_type": "stream",
          "name": "stdout",
          "text": [
            "Difference: 52\n"
          ]
        }
      ]
    },
    {
      "cell_type": "code",
      "source": [
        "# Multiplication\n",
        "product_result = num1 * num2\n",
        "print(\"Product:\", product_result)"
      ],
      "metadata": {
        "colab": {
          "base_uri": "https://localhost:8080/"
        },
        "id": "p_uBpeX1eqSO",
        "outputId": "c1634699-d14d-4df2-8ff6-2a6ff54a00a4"
      },
      "execution_count": 3,
      "outputs": [
        {
          "output_type": "stream",
          "name": "stdout",
          "text": [
            "Product: 413\n"
          ]
        }
      ]
    },
    {
      "cell_type": "code",
      "source": [
        "\n",
        "# Division\n",
        "division_result = num1 / num2\n",
        "print(\"Division:\", division_result)\n"
      ],
      "metadata": {
        "colab": {
          "base_uri": "https://localhost:8080/"
        },
        "id": "cQnwqmNre92V",
        "outputId": "5e4058a9-cc1e-4a1d-8a74-3dd8ba70dba7"
      },
      "execution_count": 4,
      "outputs": [
        {
          "output_type": "stream",
          "name": "stdout",
          "text": [
            "Division: 8.428571428571429\n"
          ]
        }
      ]
    },
    {
      "cell_type": "code",
      "source": [
        "# Floor Division\n",
        "floor_division_result = num1 // num2\n",
        "print(\"Floor Division:\", floor_division_result)"
      ],
      "metadata": {
        "colab": {
          "base_uri": "https://localhost:8080/"
        },
        "id": "dMEXRC1Ne9yx",
        "outputId": "c0b75f73-6a24-4e28-998c-7e023aaad57f"
      },
      "execution_count": 5,
      "outputs": [
        {
          "output_type": "stream",
          "name": "stdout",
          "text": [
            "Floor Division: 8\n"
          ]
        }
      ]
    },
    {
      "cell_type": "code",
      "source": [
        "# Modulo\n",
        "modulo_result = num1 % num2\n",
        "print(\"Modulo:\", modulo_result)"
      ],
      "metadata": {
        "colab": {
          "base_uri": "https://localhost:8080/"
        },
        "id": "KeZgEdQse9rz",
        "outputId": "0e66352c-a0e7-43ea-d4a4-ae72eeff2824"
      },
      "execution_count": 6,
      "outputs": [
        {
          "output_type": "stream",
          "name": "stdout",
          "text": [
            "Modulo: 3\n"
          ]
        }
      ]
    },
    {
      "cell_type": "code",
      "source": [
        "# Exponentiation\n",
        "exponentiation_result = num1 ** num2\n",
        "print(\"Exponentiation:\", exponentiation_result)"
      ],
      "metadata": {
        "colab": {
          "base_uri": "https://localhost:8080/"
        },
        "id": "uMp8jTwAfOl3",
        "outputId": "1c654925-4f5c-4534-83d4-004b0484ca33"
      },
      "execution_count": 7,
      "outputs": [
        {
          "output_type": "stream",
          "name": "stdout",
          "text": [
            "Exponentiation: 2488651484819\n"
          ]
        }
      ]
    },
    {
      "cell_type": "markdown",
      "source": [
        "### Operator Precedence (Order of Operations):\n",
        " 1. Parentheses ()\n",
        " 2. Exponentiation **\n",
        " 3. Multiplication *, Division /, Floor Division //, Modulo % (from left to right)\n",
        " 4. Addition +, Subtraction - (from left to right)"
      ],
      "metadata": {
        "id": "N-nNDGRqfgpw"
      }
    },
    {
      "cell_type": "code",
      "source": [
        "# Example demonstrating order of operations\n",
        "expression_result = 10 + 5 * 2 - 6 / 3\n",
        "print(\"Expression 1 Result:\", expression_result)\n",
        "# 18.0 (5 * 2 is 10, 6 / 3 is 2, 10 + 10 - 2 is 18)\n",
        "\n",
        "another_expression = (10 + 5) * 2 - 6 / 3\n",
        "print(\"Expression 2 Result:\", another_expression)\n",
        "# 28.0 ((10 + 5) is 15, 15 * 2 is 30, 6 / 3 is 2, 30 - 2 is 28)"
      ],
      "metadata": {
        "colab": {
          "base_uri": "https://localhost:8080/"
        },
        "id": "gGnuJUiYfOib",
        "outputId": "65d5093f-b5eb-4e59-9527-daa25bf8f01d"
      },
      "execution_count": 8,
      "outputs": [
        {
          "output_type": "stream",
          "name": "stdout",
          "text": [
            "Expression 1 Result: 18.0\n",
            "Expression 2 Result: 28.0\n"
          ]
        }
      ]
    },
    {
      "cell_type": "markdown",
      "source": [
        "# Relational Operators\n",
        "- Relational Operators (Comparison Operators)\n",
        "- These operators are used to compare two values and return a boolean result (True or False).\n",
        "- These operators are commonly used in conditional statements (like if statements) and loops."
      ],
      "metadata": {
        "id": "oGdAYduVd5_M"
      }
    },
    {
      "cell_type": "code",
      "source": [
        "a = 10\n",
        "b = 20\n",
        "\n",
        "# Equal to (==)\n",
        "print(\"a == b:\", a == b)\n"
      ],
      "metadata": {
        "id": "4h8jTgtweM0z",
        "colab": {
          "base_uri": "https://localhost:8080/"
        },
        "outputId": "ce50aef4-4a5c-46e0-8c91-d9b0a16031f1"
      },
      "execution_count": 9,
      "outputs": [
        {
          "output_type": "stream",
          "name": "stdout",
          "text": [
            "a == b: False\n"
          ]
        }
      ]
    },
    {
      "cell_type": "code",
      "source": [
        "\n",
        "# Not equal to (!=)\n",
        "print(\"a != b:\", a != b)"
      ],
      "metadata": {
        "colab": {
          "base_uri": "https://localhost:8080/"
        },
        "id": "pMgigrhpwCb3",
        "outputId": "ad4532af-f9b0-405d-dc85-8fc1f97115b1"
      },
      "execution_count": 10,
      "outputs": [
        {
          "output_type": "stream",
          "name": "stdout",
          "text": [
            "a != b: True\n"
          ]
        }
      ]
    },
    {
      "cell_type": "code",
      "source": [
        "# Greater than (>)\n",
        "print(\"a > b:\", a > b)"
      ],
      "metadata": {
        "colab": {
          "base_uri": "https://localhost:8080/"
        },
        "id": "jZG8EIUTwCYY",
        "outputId": "6c1631cd-8e03-4a98-ee28-435e63e320e2"
      },
      "execution_count": 11,
      "outputs": [
        {
          "output_type": "stream",
          "name": "stdout",
          "text": [
            "a > b: False\n"
          ]
        }
      ]
    },
    {
      "cell_type": "code",
      "source": [
        "# Less than (<)\n",
        "print(\"a < b:\", a < b)"
      ],
      "metadata": {
        "colab": {
          "base_uri": "https://localhost:8080/"
        },
        "id": "kklt_--zwCWH",
        "outputId": "b5e3f0f2-a0f2-4814-a89e-41b6cb564de2"
      },
      "execution_count": 12,
      "outputs": [
        {
          "output_type": "stream",
          "name": "stdout",
          "text": [
            "a < b: True\n"
          ]
        }
      ]
    },
    {
      "cell_type": "code",
      "source": [
        "# Greater than or equal to (>=)\n",
        "print(\"a >= b:\", a >= b)"
      ],
      "metadata": {
        "colab": {
          "base_uri": "https://localhost:8080/"
        },
        "id": "7FkcIsh-wUt1",
        "outputId": "9bfa0177-a26d-4a66-9675-a60a97082c62"
      },
      "execution_count": 13,
      "outputs": [
        {
          "output_type": "stream",
          "name": "stdout",
          "text": [
            "a >= b: False\n"
          ]
        }
      ]
    },
    {
      "cell_type": "code",
      "source": [
        "# Less than or equal to (<=)\n",
        "print(\"a <= b:\", a <= b)"
      ],
      "metadata": {
        "colab": {
          "base_uri": "https://localhost:8080/"
        },
        "id": "OzqcnhHqwX7S",
        "outputId": "c2bd58c1-b45e-4d18-8d4c-f575daf46472"
      },
      "execution_count": 14,
      "outputs": [
        {
          "output_type": "stream",
          "name": "stdout",
          "text": [
            "a <= b: True\n"
          ]
        }
      ]
    },
    {
      "cell_type": "markdown",
      "source": [
        "# Bitwise Operators\n",
        "- These operators perform operations on the individual bits of integers.\n",
        "- They are often used in low-level programming, data compression, and cryptography."
      ],
      "metadata": {
        "id": "To8nPhnad6LQ"
      }
    },
    {
      "cell_type": "code",
      "source": [
        "x = 10  # Binary: 1010\n",
        "y = 4   # Binary: 0100\n",
        "\n",
        "# Bitwise AND (&)\n",
        "# 1010\n",
        "# & 0100\n",
        "# ----\n",
        "# 0000 (Decimal 0)\n",
        "and_result = x & y\n",
        "print(\"Bitwise AND:\", and_result)\n"
      ],
      "metadata": {
        "id": "2deV_3n5eS0K",
        "colab": {
          "base_uri": "https://localhost:8080/"
        },
        "outputId": "0926b92e-600e-4666-9ea8-55f6266571e0"
      },
      "execution_count": 15,
      "outputs": [
        {
          "output_type": "stream",
          "name": "stdout",
          "text": [
            "Bitwise AND: 0\n"
          ]
        }
      ]
    },
    {
      "cell_type": "code",
      "source": [
        "# Bitwise OR (|)\n",
        "# 1010\n",
        "# | 0100\n",
        "# ----\n",
        "# 1110 (Decimal 14)\n",
        "or_result = x | y\n",
        "print(\"Bitwise OR:\", or_result)"
      ],
      "metadata": {
        "colab": {
          "base_uri": "https://localhost:8080/"
        },
        "id": "Kc8tdaIPxA1V",
        "outputId": "9050509b-4382-429f-80aa-76b09d012bf3"
      },
      "execution_count": 16,
      "outputs": [
        {
          "output_type": "stream",
          "name": "stdout",
          "text": [
            "Bitwise OR: 14\n"
          ]
        }
      ]
    },
    {
      "cell_type": "code",
      "source": [
        "# Bitwise XOR (^)\n",
        "# 1010\n",
        "# ^ 0100\n",
        "# ----\n",
        "# 1110 (Decimal 14)\n",
        "xor_result = x ^ y\n",
        "print(\"Bitwise XOR:\", xor_result)"
      ],
      "metadata": {
        "colab": {
          "base_uri": "https://localhost:8080/"
        },
        "id": "okgom27jxAx_",
        "outputId": "0bb4fb4c-3169-493e-964d-7af04e47c371"
      },
      "execution_count": 17,
      "outputs": [
        {
          "output_type": "stream",
          "name": "stdout",
          "text": [
            "Bitwise XOR: 14\n"
          ]
        }
      ]
    },
    {
      "cell_type": "code",
      "source": [
        "# Bitwise NOT (~) - Inverts all bits (depends on the integer's representation)\n",
        "# For positive numbers, it's often calculated as -(x + 1)\n",
        "not_result_x = ~x\n",
        "print(\"Bitwise NOT (x):\", not_result_x) # Output will be -11 for 10"
      ],
      "metadata": {
        "colab": {
          "base_uri": "https://localhost:8080/"
        },
        "id": "22VF87K3xAvw",
        "outputId": "7e66e777-9373-4ab6-8357-75fcf6e4b578"
      },
      "execution_count": 18,
      "outputs": [
        {
          "output_type": "stream",
          "name": "stdout",
          "text": [
            "Bitwise NOT (x): -11\n"
          ]
        }
      ]
    },
    {
      "cell_type": "code",
      "source": [
        "# Left Shift (<<) - Shifts bits to the left, equivalent to multiplying by 2^n\n",
        "# 1010 << 2 becomes 101000 (Decimal 40)\n",
        "left_shift_result = x << 2\n",
        "print(\"Left Shift:\", left_shift_result)"
      ],
      "metadata": {
        "colab": {
          "base_uri": "https://localhost:8080/"
        },
        "id": "2VCr3fhHxAtc",
        "outputId": "d7d842cd-8d18-4a23-accf-ea4d33af1e7d"
      },
      "execution_count": 19,
      "outputs": [
        {
          "output_type": "stream",
          "name": "stdout",
          "text": [
            "Left Shift: 40\n"
          ]
        }
      ]
    },
    {
      "cell_type": "code",
      "source": [
        "# Right Shift (>>) - Shifts bits to the right, equivalent to dividing by 2^n (integer division)\n",
        "# 1010 >> 1 becomes 0101 (Decimal 5)\n",
        "right_shift_result = x >> 1\n",
        "print(\"Right Shift:\", right_shift_result)"
      ],
      "metadata": {
        "colab": {
          "base_uri": "https://localhost:8080/"
        },
        "id": "CjwfB4BkxAq-",
        "outputId": "3aa26c69-1f3a-46f0-bb5d-d4d1ccf1cde9"
      },
      "execution_count": 20,
      "outputs": [
        {
          "output_type": "stream",
          "name": "stdout",
          "text": [
            "Right Shift: 5\n"
          ]
        }
      ]
    },
    {
      "cell_type": "markdown",
      "source": [
        "# Logical Operators\n",
        "- These operators are used to combine conditional statements.\n",
        "- They are fundamental for controlling the flow of a program in conditional statements and loops."
      ],
      "metadata": {
        "id": "73ZWKGmfeTfT"
      }
    },
    {
      "cell_type": "code",
      "source": [
        "is_sunny = True\n",
        "is_warm = False\n",
        "\n",
        "# Logical AND (and)\n",
        "# Returns True if both operands are True.\n",
        "print(\"is_sunny and is_warm:\", is_sunny and is_warm)"
      ],
      "metadata": {
        "id": "5Z40QpOueR4_",
        "colab": {
          "base_uri": "https://localhost:8080/"
        },
        "outputId": "ec498dee-2a66-4b92-e07c-80ada00ea510"
      },
      "execution_count": 21,
      "outputs": [
        {
          "output_type": "stream",
          "name": "stdout",
          "text": [
            "is_sunny and is_warm: False\n"
          ]
        }
      ]
    },
    {
      "cell_type": "code",
      "source": [
        "# Logical OR (or)\n",
        "# Returns True if at least one operand is True.\n",
        "print(\"is_sunny or is_warm:\", is_sunny or is_warm)"
      ],
      "metadata": {
        "colab": {
          "base_uri": "https://localhost:8080/"
        },
        "id": "dY-RCMfBymFi",
        "outputId": "082249e2-bcb0-4fbe-eb0a-7ece5fb37905"
      },
      "execution_count": 22,
      "outputs": [
        {
          "output_type": "stream",
          "name": "stdout",
          "text": [
            "is_sunny or is_warm: True\n"
          ]
        }
      ]
    },
    {
      "cell_type": "code",
      "source": [
        "# Logical NOT (not)\n",
        "# Reverses the logical state of the operand.\n",
        "print(\"not is_sunny:\", not is_sunny)\n",
        "print(\"not is_warm:\", not is_warm)"
      ],
      "metadata": {
        "colab": {
          "base_uri": "https://localhost:8080/"
        },
        "id": "LkjUPumXymDX",
        "outputId": "202d570d-ca8b-4519-c500-def31eb8cf98"
      },
      "execution_count": 23,
      "outputs": [
        {
          "output_type": "stream",
          "name": "stdout",
          "text": [
            "not is_sunny: False\n",
            "not is_warm: True\n"
          ]
        }
      ]
    },
    {
      "cell_type": "code",
      "source": [
        "temperature = 30\n",
        "\n",
        "if temperature > 25 or is_sunny:\n",
        "  print(\"It's a nice day for outdoor activities.\")\n",
        "else:\n",
        "  print(\"Maybe stay inside.\")"
      ],
      "metadata": {
        "colab": {
          "base_uri": "https://localhost:8080/"
        },
        "id": "CJhr3In2yvrO",
        "outputId": "1e22070c-9b3d-49a9-b1bc-7392474c9de7"
      },
      "execution_count": 24,
      "outputs": [
        {
          "output_type": "stream",
          "name": "stdout",
          "text": [
            "It's a nice day for outdoor activities.\n"
          ]
        }
      ]
    },
    {
      "cell_type": "code",
      "source": [
        "# Combining Logical and Relational Operators\n",
        "age = 25\n",
        "has_license = True\n",
        "\n",
        "if age >= 18 and has_license:\n",
        "  print(\"You can drive.\")\n",
        "else:\n",
        "  print(\"You cannot drive.\")"
      ],
      "metadata": {
        "colab": {
          "base_uri": "https://localhost:8080/"
        },
        "id": "guDiGQ2TymBA",
        "outputId": "148ebb9f-f0fb-4d0b-d389-105727bf82b3"
      },
      "execution_count": 25,
      "outputs": [
        {
          "output_type": "stream",
          "name": "stdout",
          "text": [
            "You can drive.\n"
          ]
        }
      ]
    },
    {
      "cell_type": "code",
      "source": [
        "is_raining = False\n",
        "\n",
        "if not is_raining:\n",
        "  print(\"It's not raining.\")\n",
        "else:\n",
        "  print(\"It's raining.\")"
      ],
      "metadata": {
        "colab": {
          "base_uri": "https://localhost:8080/"
        },
        "id": "5JSNax4myl-r",
        "outputId": "40c561dc-7dc1-451c-9940-29d36ec1d515"
      },
      "execution_count": 26,
      "outputs": [
        {
          "output_type": "stream",
          "name": "stdout",
          "text": [
            "It's not raining.\n"
          ]
        }
      ]
    },
    {
      "cell_type": "markdown",
      "source": [
        "# Assignment Operators"
      ],
      "metadata": {
        "id": "p6mIDRo0eXzA"
      }
    },
    {
      "cell_type": "code",
      "source": [
        "# Simple assignment\n",
        "a = 10\n",
        "print(\"a =\", a)"
      ],
      "metadata": {
        "colab": {
          "base_uri": "https://localhost:8080/"
        },
        "id": "nh71zT2MeXWZ",
        "outputId": "89ca34ee-16a7-474a-b928-604fe091428c"
      },
      "execution_count": 27,
      "outputs": [
        {
          "output_type": "stream",
          "name": "stdout",
          "text": [
            "a = 10\n"
          ]
        }
      ]
    },
    {
      "cell_type": "code",
      "source": [
        "# Add and assign\n",
        "a = 10\n",
        "a += 5  # Equivalent to a = a + 5\n",
        "print(\"a after += 5:\", a)"
      ],
      "metadata": {
        "colab": {
          "base_uri": "https://localhost:8080/"
        },
        "id": "ioFbLhqzgaf0",
        "outputId": "82207826-6e00-4135-a3ea-3492a31eea87"
      },
      "execution_count": 28,
      "outputs": [
        {
          "output_type": "stream",
          "name": "stdout",
          "text": [
            "a after += 5: 15\n"
          ]
        }
      ]
    },
    {
      "cell_type": "code",
      "source": [
        "# Subtract and assign\n",
        "a -= 3  # Equivalent to a = a - 3\n",
        "print(\"a after -= 3:\", a)"
      ],
      "metadata": {
        "colab": {
          "base_uri": "https://localhost:8080/"
        },
        "id": "akEgpB1GgdwF",
        "outputId": "85f5c432-2c44-4ec0-d6ca-527781674365"
      },
      "execution_count": 29,
      "outputs": [
        {
          "output_type": "stream",
          "name": "stdout",
          "text": [
            "a after -= 3: 12\n"
          ]
        }
      ]
    },
    {
      "cell_type": "code",
      "source": [
        "# Multiply and assign\n",
        "a *= 2  # Equivalent to a = a * 2\n",
        "print(\"a after *= 2:\", a)"
      ],
      "metadata": {
        "colab": {
          "base_uri": "https://localhost:8080/"
        },
        "id": "rDFDJ9XGgdsq",
        "outputId": "86e9fbda-067b-457f-823d-b04732cdbb80"
      },
      "execution_count": 30,
      "outputs": [
        {
          "output_type": "stream",
          "name": "stdout",
          "text": [
            "a after *= 2: 24\n"
          ]
        }
      ]
    },
    {
      "cell_type": "code",
      "source": [
        "# Divide and assign\n",
        "a /= 4  # Equivalent to a = a / 4\n",
        "print(\"a after /= 4:\", a)"
      ],
      "metadata": {
        "colab": {
          "base_uri": "https://localhost:8080/"
        },
        "id": "peRrDjQDgdqQ",
        "outputId": "6acb6a87-e487-42c9-f588-afdecaca5a31"
      },
      "execution_count": 31,
      "outputs": [
        {
          "output_type": "stream",
          "name": "stdout",
          "text": [
            "a after /= 4: 6.0\n"
          ]
        }
      ]
    },
    {
      "cell_type": "code",
      "source": [
        "# Floor divide and assign\n",
        "b = 20\n",
        "b //= 3 # Equivalent to b = b // 3\n",
        "print(\"b =\", b)"
      ],
      "metadata": {
        "colab": {
          "base_uri": "https://localhost:8080/"
        },
        "id": "K00_GG62gdnw",
        "outputId": "f461d9c8-84f5-4dc8-9974-0f64a24cd484"
      },
      "execution_count": 32,
      "outputs": [
        {
          "output_type": "stream",
          "name": "stdout",
          "text": [
            "b = 6\n"
          ]
        }
      ]
    },
    {
      "cell_type": "code",
      "source": [
        "# Modulo and assign\n",
        "b %= 2 # Equivalent to b = b % 2\n",
        "print(\"b after %= 2:\", b)"
      ],
      "metadata": {
        "colab": {
          "base_uri": "https://localhost:8080/"
        },
        "id": "n0dNzqWPgdlR",
        "outputId": "4451d8e1-0f63-421d-ee4e-d7017eb504ef"
      },
      "execution_count": 33,
      "outputs": [
        {
          "output_type": "stream",
          "name": "stdout",
          "text": [
            "b after %= 2: 0\n"
          ]
        }
      ]
    },
    {
      "cell_type": "code",
      "source": [
        "# Exponentiate and assign\n",
        "c = 3\n",
        "c **= 4 # Equivalent to c = c ** 4\n",
        "print(\"c =\", c)"
      ],
      "metadata": {
        "colab": {
          "base_uri": "https://localhost:8080/"
        },
        "id": "zNy2mf_4gdjN",
        "outputId": "81646de5-9d41-4fdb-a40c-40087d10ab50"
      },
      "execution_count": 34,
      "outputs": [
        {
          "output_type": "stream",
          "name": "stdout",
          "text": [
            "c = 81\n"
          ]
        }
      ]
    },
    {
      "cell_type": "code",
      "source": [
        "# Bitwise AND and assign\n",
        "x = 10 # Binary: 1010\n",
        "x &= 3 # Binary: 0011 -> 0010 (2)\n",
        "print(\"x after &= 3:\", x)"
      ],
      "metadata": {
        "colab": {
          "base_uri": "https://localhost:8080/"
        },
        "id": "CscnE5pRgzdJ",
        "outputId": "e1107d56-9ed0-43df-a197-53ad5a72dc38"
      },
      "execution_count": 35,
      "outputs": [
        {
          "output_type": "stream",
          "name": "stdout",
          "text": [
            "x after &= 3: 2\n"
          ]
        }
      ]
    },
    {
      "cell_type": "code",
      "source": [
        "# Bitwise OR and assign\n",
        "y = 12 # Binary: 1100\n",
        "y |= 5 # Binary: 0101 -> 1101 (13)\n",
        "print(\"y after |= 5:\", y)"
      ],
      "metadata": {
        "colab": {
          "base_uri": "https://localhost:8080/"
        },
        "id": "XxLSa06igzZp",
        "outputId": "9522335e-ea28-4802-fad2-de6b7bf96ef8"
      },
      "execution_count": 36,
      "outputs": [
        {
          "output_type": "stream",
          "name": "stdout",
          "text": [
            "y after |= 5: 13\n"
          ]
        }
      ]
    },
    {
      "cell_type": "code",
      "source": [
        "# Bitwise XOR and assign\n",
        "z = 15 # Binary: 1111\n",
        "z ^= 6 # Binary: 0110 -> 1001 (9)\n",
        "print(\"z after ^= 6:\", z)"
      ],
      "metadata": {
        "colab": {
          "base_uri": "https://localhost:8080/"
        },
        "id": "2ZjDxRKWgzL7",
        "outputId": "1e4f66aa-c784-4ed2-81d6-b909dc714929"
      },
      "execution_count": 37,
      "outputs": [
        {
          "output_type": "stream",
          "name": "stdout",
          "text": [
            "z after ^= 6: 9\n"
          ]
        }
      ]
    },
    {
      "cell_type": "code",
      "source": [
        "# Bitwise right shift and assign\n",
        "p = 16 # Binary: 10000\n",
        "p >>= 2 # Shift right by 2: 00100 (4)\n",
        "print(\"p after >>= 2:\", p)"
      ],
      "metadata": {
        "colab": {
          "base_uri": "https://localhost:8080/"
        },
        "id": "3Y9DuXfjgzIY",
        "outputId": "efabdbb0-0475-4dfb-90a1-062a3c7af7ee"
      },
      "execution_count": 38,
      "outputs": [
        {
          "output_type": "stream",
          "name": "stdout",
          "text": [
            "p after >>= 2: 4\n"
          ]
        }
      ]
    },
    {
      "cell_type": "code",
      "source": [
        "# Bitwise left shift and assign\n",
        "q = 4 # Binary: 00100\n",
        "q <<= 3 # Shift left by 3: 10000 (16)\n",
        "print(\"q after <<= 3:\", q)"
      ],
      "metadata": {
        "colab": {
          "base_uri": "https://localhost:8080/"
        },
        "id": "77UEnNXQgzGH",
        "outputId": "82d9066f-167c-4e53-90b1-7079eddd5aa2"
      },
      "execution_count": 39,
      "outputs": [
        {
          "output_type": "stream",
          "name": "stdout",
          "text": [
            "q after <<= 3: 32\n"
          ]
        }
      ]
    },
    {
      "cell_type": "markdown",
      "source": [
        "# Compound Operators\n",
        "\n",
        "Compound Operators in Python are use to perform an operation on a variable and them assign the result back to the same variable."
      ],
      "metadata": {
        "id": "E6PJATwjebop"
      }
    },
    {
      "cell_type": "code",
      "source": [
        "# Add and assign\n",
        "a = 5\n",
        "a += 5  # Equivalent to a = a + 5\n",
        "print(\"a after += 5:\", a)\n",
        "\n",
        "# Subtract and assign\n",
        "a -= 3  # Equivalent to a = a - 3\n",
        "print(\"a after -= 3:\", a)"
      ],
      "metadata": {
        "colab": {
          "base_uri": "https://localhost:8080/"
        },
        "id": "5FooBx_JeXSy",
        "outputId": "5a3bd0e2-5695-4002-a796-4bd9462228fc"
      },
      "execution_count": 40,
      "outputs": [
        {
          "output_type": "stream",
          "name": "stdout",
          "text": [
            "a after += 5: 10\n",
            "a after -= 3: 7\n"
          ]
        }
      ]
    },
    {
      "cell_type": "markdown",
      "source": [
        "# Membership Operators\n",
        "Membership operators are used to test whether a value or variable is found in a sequence (string, list, tuple, set, and dictionary)."
      ],
      "metadata": {
        "id": "6TA12CDiefCr"
      }
    },
    {
      "cell_type": "code",
      "source": [
        "my_list = [1, 2, 3, 4, 5]\n",
        "my_string = \"hello world\"\n",
        "my_dict = {\"a\": 1, \"b\": 2}\n",
        "\n",
        "# The 'in' operator checks if a value is present in the sequence.\n",
        "print(3 in my_list)\n",
        "print(\"h\" in my_string)\n",
        "print(\"z\" in my_string)\n",
        "print(\"a\" in my_dict)     # Checks for key in dictionary.\n",
        "print(1 in my_dict)\n"
      ],
      "metadata": {
        "colab": {
          "base_uri": "https://localhost:8080/"
        },
        "id": "MqlARA2meeum",
        "outputId": "bd5ff661-8012-4d33-e6c0-eca195028281"
      },
      "execution_count": 41,
      "outputs": [
        {
          "output_type": "stream",
          "name": "stdout",
          "text": [
            "True\n",
            "True\n",
            "False\n",
            "True\n",
            "False\n"
          ]
        }
      ]
    },
    {
      "cell_type": "code",
      "source": [
        "# The 'not in' operator checks if a value is NOT present in the sequence.\n",
        "print(6 not in my_list)\n",
        "print(\"x\" not in my_string)\n",
        "print(\"h\" not in my_string)\n",
        "print(\"c\" not in my_dict)  # Checks for key in dictionary.\n",
        "print(2 not in my_dict)    # Checks for key in dictionary."
      ],
      "metadata": {
        "colab": {
          "base_uri": "https://localhost:8080/"
        },
        "id": "Onl4lnpveifk",
        "outputId": "a716a56a-3513-4f25-885e-61305f419c93"
      },
      "execution_count": 42,
      "outputs": [
        {
          "output_type": "stream",
          "name": "stdout",
          "text": [
            "True\n",
            "True\n",
            "False\n",
            "True\n",
            "True\n"
          ]
        }
      ]
    },
    {
      "cell_type": "markdown",
      "source": [
        "# Identity Operators\n",
        "- Identity operators are used to compare the memory locations of two objects.\n",
        "- They check if two variables refer to the **same** object in memory."
      ],
      "metadata": {
        "id": "9igjp-l4ekeZ"
      }
    },
    {
      "cell_type": "code",
      "source": [
        "# 'is' operator: Returns True if both variables point to the same object, False otherwise.\n",
        "x = [1, 2, 3]\n",
        "y = [1, 2, 3]\n",
        "z = x\n",
        "\n",
        "print(\"x is y:\", x is y) # False (x and y have the same content but are different objects)\n",
        "print(\"x is z:\", x is z) # True (z is a reference to the same object as x)\n",
        "\n",
        "# 'is not' operator: Returns True if both variables do *not* point to the same object, False otherwise.\n",
        "print(\"x is not y:\", x is not y) # True\n",
        "print(\"x is not z:\", x is not z) # False\n"
      ],
      "metadata": {
        "colab": {
          "base_uri": "https://localhost:8080/"
        },
        "id": "JjNmyt9SeXQa",
        "outputId": "1823606b-8292-43bb-d8c6-4fbded144254"
      },
      "execution_count": 43,
      "outputs": [
        {
          "output_type": "stream",
          "name": "stdout",
          "text": [
            "x is y: False\n",
            "x is z: True\n",
            "x is not y: True\n",
            "x is not z: False\n"
          ]
        }
      ]
    },
    {
      "cell_type": "code",
      "source": [
        "# Example with immutable types (like integers and strings)\n",
        "a = 10\n",
        "b = 10\n",
        "c = 20\n",
        "\n",
        "print(\"a is b:\", a is b) # True (Python often interns small integers, making them the same object)\n",
        "print(\"a is c:\", a is c) # False"
      ],
      "metadata": {
        "colab": {
          "base_uri": "https://localhost:8080/"
        },
        "id": "syvl6l5ueXN5",
        "outputId": "362f6b2a-dcd6-40a9-cf48-6e25031b2b1f"
      },
      "execution_count": 44,
      "outputs": [
        {
          "output_type": "stream",
          "name": "stdout",
          "text": [
            "a is b: True\n",
            "a is c: False\n"
          ]
        }
      ]
    },
    {
      "cell_type": "code",
      "source": [
        "str1 = \"hello\"\n",
        "str2 = \"hello\"\n",
        "str3 = \"world\"\n",
        "\n",
        "print(\"str1 is str2:\", str1 is str2) # True (Python often interns small strings)\n",
        "print(\"str1 is str3:\", str1 is str3) # False"
      ],
      "metadata": {
        "colab": {
          "base_uri": "https://localhost:8080/"
        },
        "id": "hlu2PRuKeXLf",
        "outputId": "feb672df-f3e0-427b-8a8b-e4e07ad94d79"
      },
      "execution_count": 45,
      "outputs": [
        {
          "output_type": "stream",
          "name": "stdout",
          "text": [
            "str1 is str2: True\n",
            "str1 is str3: False\n"
          ]
        }
      ]
    },
    {
      "cell_type": "markdown",
      "source": [
        "**Note: For mutable objects (like lists and dictionaries), 'is' checks if they are literally the same object in memory,while '==' checks if they have the same value.**\n",
        "\n",
        "- used is to check for identity of objects and == check for equality of value.\n",
        "- Be aware of the different between == and is to avoid unexpected behaviour.\n",
        "- Use \"is\" to check for None instead of == None"
      ],
      "metadata": {
        "id": "1YkgNCsKmN3u"
      }
    },
    {
      "cell_type": "code",
      "source": [
        "list1 = [1, 2]\n",
        "list2 = [1, 2]\n",
        "print(\"list1 == list2:\", list1 == list2) # True (same value)\n",
        "print(\"list1 is list2:\", list1 is list2) # False (different objects)"
      ],
      "metadata": {
        "colab": {
          "base_uri": "https://localhost:8080/"
        },
        "id": "UjnJI79seXI3",
        "outputId": "9b4bcf83-bc3e-4ba0-f15c-00aa26446e7b"
      },
      "execution_count": 46,
      "outputs": [
        {
          "output_type": "stream",
          "name": "stdout",
          "text": [
            "list1 == list2: True\n",
            "list1 is list2: False\n"
          ]
        }
      ]
    },
    {
      "cell_type": "code",
      "source": [
        "my_variable = None\n",
        "if my_variable is None:\n",
        "    print(\"my_variable is None\")\n",
        "else:\n",
        "    print(\"my_variable is not None\")"
      ],
      "metadata": {
        "colab": {
          "base_uri": "https://localhost:8080/"
        },
        "id": "x17VYXE5mZAu",
        "outputId": "dc5f749a-23ac-43eb-b0c7-3d22bed3c1bc"
      },
      "execution_count": 47,
      "outputs": [
        {
          "output_type": "stream",
          "name": "stdout",
          "text": [
            "my_variable is None\n"
          ]
        }
      ]
    }
  ]
}